{
 "cells": [
  {
   "cell_type": "code",
   "execution_count": null,
   "id": "b7fc945d",
   "metadata": {},
   "outputs": [],
   "source": [
    "import lerobot\n",
    "from lerobot.policies.factory import make_policy\n",
    "from lerobot.configs.train import TrainPipelineConfig, PreTrainedConfig\n",
    "from lerobot.policies.pi05 import (  # noqa: E402\n",
    "    PI05Config,\n",
    "    PI05Policy,\n",
    "    make_pi05_pre_post_processors,  # noqa: E402\n",
    "    \n",
    ")\n",
    "from lerobot.configs.default import DatasetConfig, EvalConfig, WandBConfig\n",
    "from pprint import pprint\n",
    "import torch"
   ]
  },
  {
   "cell_type": "code",
   "execution_count": null,
   "id": "766853ae",
   "metadata": {},
   "outputs": [],
   "source": [
    "import gc\n",
    "\n",
    "if \"policy\" in locals():\n",
    "    del policy\n",
    "gc.collect()"
   ]
  },
  {
   "cell_type": "markdown",
   "id": "ec365346",
   "metadata": {},
   "source": [
    "# Mock data"
   ]
  },
  {
   "cell_type": "code",
   "execution_count": null,
   "id": "c4cf8f4f",
   "metadata": {},
   "outputs": [],
   "source": [
    "config = PI05Config(max_action_dim=7, max_state_dim=14, dtype=\"bfloat16\", device=\"cuda\")\n",
    "\n",
    "    # Set up input_features and output_features in the config\n",
    "from lerobot.configs.types import FeatureType, PolicyFeature\n",
    "\n",
    "config.input_features = {\n",
    "    \"observation.state\": PolicyFeature(\n",
    "        type=FeatureType.STATE,\n",
    "        shape=(14,),\n",
    "    ),\n",
    "    \"observation.images.base_1_rgb\": PolicyFeature(\n",
    "        type=FeatureType.VISUAL,\n",
    "        shape=(3, 224, 224),\n",
    "    ),\n",
    "}\n",
    "\n",
    "config.output_features = {\n",
    "    \"action\": PolicyFeature(\n",
    "        type=FeatureType.ACTION,\n",
    "        shape=(7,),\n",
    "    ),\n",
    "}"
   ]
  },
  {
   "cell_type": "code",
   "execution_count": null,
   "id": "411a61e5",
   "metadata": {},
   "outputs": [],
   "source": [
    "policy = PI05Policy(config)\n"
   ]
  },
  {
   "cell_type": "code",
   "execution_count": null,
   "id": "49225aad",
   "metadata": {},
   "outputs": [],
   "source": [
    "import torch\n",
    "\n",
    "batch_size = 1\n",
    "device = \"cuda\"\n",
    "dataset_stats = {\n",
    "        \"observation.state\": {\n",
    "            \"mean\": torch.zeros(14),\n",
    "            \"std\": torch.ones(14),\n",
    "            \"min\": torch.zeros(14),\n",
    "            \"max\": torch.ones(14),\n",
    "            \"q01\": torch.zeros(14),\n",
    "            \"q99\": torch.ones(14),\n",
    "        },\n",
    "        \"action\": {\n",
    "            \"mean\": torch.zeros(7),\n",
    "            \"std\": torch.ones(7),\n",
    "            \"min\": torch.zeros(7),\n",
    "            \"max\": torch.ones(7),\n",
    "            \"q01\": torch.zeros(7),\n",
    "            \"q99\": torch.ones(7),\n",
    "        },\n",
    "        \"observation.images.base_1_rgb\": {\n",
    "            \"mean\": torch.zeros(3, 224, 224),\n",
    "            \"std\": torch.ones(3, 224, 224),\n",
    "            \"q01\": torch.zeros(3, 224, 224),\n",
    "            \"q99\": torch.ones(3, 224, 224),\n",
    "        },\n",
    "    }\n",
    "preprocessor, postprocessor = make_pi05_pre_post_processors(config=config, dataset_stats=dataset_stats)\n",
    "batch = {\n",
    "        \"observation.state\": torch.randn(batch_size, 14, dtype=torch.float32, device=device),\n",
    "        \"action\": torch.randn(batch_size, config.chunk_size, 7, dtype=torch.float32, device=device),\n",
    "        \"observation.images.base_1_rgb\": torch.rand(\n",
    "            batch_size, 3, 224, 224, dtype=torch.float32, device=device\n",
    "        ),  # Use rand for [0,1] range\n",
    "        \"task\": [\"Pick up the object\"] * batch_size,\n",
    "    }"
   ]
  },
  {
   "cell_type": "code",
   "execution_count": null,
   "id": "b6f154d6",
   "metadata": {},
   "outputs": [],
   "source": [
    "input = preprocessor(batch)\n",
    "input"
   ]
  },
  {
   "cell_type": "code",
   "execution_count": null,
   "id": "a94475e4",
   "metadata": {},
   "outputs": [],
   "source": [
    "action = policy.select_action(input)\n",
    "output = postprocessor(action)\n",
    "output"
   ]
  },
  {
   "cell_type": "markdown",
   "id": "a0baf0bc",
   "metadata": {},
   "source": [
    "# Xarm"
   ]
  },
  {
   "cell_type": "code",
   "execution_count": null,
   "id": "8fcc9bdc",
   "metadata": {},
   "outputs": [],
   "source": [
    "import mujoco\n",
    "from pathlib import Path\n",
    "import gym_lite6\n",
    "import gymnasium as gym\n",
    "import gym_lite6.env, gym_lite6.scripted_policy, gym_lite6.pickup_task\n",
    "import mediapy as media\n",
    "import numpy as np\n",
    "\n",
    "\n",
    "from importlib import reload\n",
    "\n",
    "reload(gym_lite6.env)\n",
    "reload(gym_lite6.utils)\n",
    "reload(gym_lite6.scripted_policy)\n",
    "reload(gym_lite6.pickup_task)\n",
    "\n",
    "# task = gym_lite6.pickup_task.GraspTask('gripper_left_finger', 'gripper_right_finger', 'box', 'floor')\n",
    "task = gym_lite6.pickup_task.GraspAndLiftTask('gripper_left_finger', 'gripper_right_finger', 'box', 'floor')\n",
    "\n",
    "env = gym.make(\n",
    "    \"UfactoryCubePickup-v0\",\n",
    "    task=task,\n",
    "    obs_type=\"pixels_state\",\n",
    "    max_episode_steps=500,\n",
    "    visualization_width=320,\n",
    "    visualization_height=240,\n",
    "    render_fps=30,\n",
    "    joint_noise_magnitude=0.1\n",
    ")\n",
    "\n",
    "\n",
    "observation, info = env.reset()\n",
    "media.show_image(env.unwrapped.render(camera=\"side_cam\"))\n"
   ]
  },
  {
   "cell_type": "code",
   "execution_count": null,
   "id": "d97e4a2a",
   "metadata": {},
   "outputs": [],
   "source": [
    "from lerobot.datasets.lerobot_dataset import LeRobotDataset, LeRobotDatasetMetadata\n",
    "\n",
    "dataset_path= \"/media/ssd/eugene/robotic_manipulation/lerobot_tests/datasets/lite6_record_scripted_250622\"\n",
    "dataset_meta = LeRobotDatasetMetadata(dataset_path)\n",
    "dataset_meta.stats"
   ]
  },
  {
   "cell_type": "code",
   "execution_count": null,
   "id": "6db820a6",
   "metadata": {},
   "outputs": [],
   "source": [
    "dataset_meta.features"
   ]
  },
  {
   "cell_type": "code",
   "execution_count": null,
   "id": "8c8abcdd",
   "metadata": {},
   "outputs": [],
   "source": [
    "config = PI05Config(max_action_dim=7, max_state_dim=14, dtype=\"bfloat16\", device=\"cuda\")\n",
    "\n",
    "    # Set up input_features and output_features in the config\n",
    "from lerobot.configs.types import FeatureType, PolicyFeature\n",
    "\n",
    "config.input_features = {\n",
    "    \"observation.state\": PolicyFeature(\n",
    "        type=FeatureType.STATE,\n",
    "        shape=(7,),\n",
    "    ),\n",
    "    \"observation.images.side\": PolicyFeature(\n",
    "        type=FeatureType.VISUAL,\n",
    "        shape=(240, 320, 3),\n",
    "    ),\n",
    "    \"observation.images.gripper\": PolicyFeature(\n",
    "        type=FeatureType.VISUAL,\n",
    "        shape=(240, 320, 3),\n",
    "    ),\n",
    "}\n",
    "\n",
    "config.output_features = {\n",
    "    \"action\": PolicyFeature(\n",
    "        type=FeatureType.ACTION,\n",
    "        shape=(7,),\n",
    "    ),\n",
    "}\n",
    "\n",
    "preprocessor, postprocessor = make_pi05_pre_post_processors(config=config, dataset_stats=dataset_meta.stats)\n"
   ]
  },
  {
   "cell_type": "code",
   "execution_count": null,
   "id": "41a99ff1",
   "metadata": {},
   "outputs": [],
   "source": [
    "numpy_observation, info = env.reset()\n"
   ]
  },
  {
   "cell_type": "code",
   "execution_count": null,
   "id": "cd26479c",
   "metadata": {},
   "outputs": [],
   "source": [
    "def numpy_to_torch_obs(numpy_observation):\n",
    "    observation = {}\n",
    "    observation[\"observation.state\"] = torch.from_numpy(np.float32(np.hstack((numpy_observation[\"state\"][\"qpos\"], numpy_observation[\"state\"][\"gripper\"])))).unsqueeze(0).to(config.device)\n",
    "    # DIVIDE BY 255\n",
    "    observation[\"observation.images.side\"] = torch.from_numpy(numpy_observation['pixels']['side']).permute((2,0,1)).unsqueeze(0).to(config.device)/255\n",
    "    observation[\"observation.images.gripper\"] = torch.from_numpy(numpy_observation['pixels']['gripper']).permute((2,0,1)).unsqueeze(0).to(config.device)/255\n",
    "    return observation\n",
    "observation = numpy_to_torch_obs(numpy_observation)\n",
    "observation[\"task\"] = [\"Pick up the red cube\"]\n",
    "observation\n"
   ]
  },
  {
   "cell_type": "code",
   "execution_count": null,
   "id": "b020edfb",
   "metadata": {},
   "outputs": [],
   "source": [
    "policy = PI05Policy(config)\n"
   ]
  },
  {
   "cell_type": "code",
   "execution_count": null,
   "id": "3b862f9f",
   "metadata": {},
   "outputs": [],
   "source": [
    "observation = numpy_to_torch_obs(numpy_observation)\n",
    "observation[\"task\"] = [\"Pick up the red cube\"]\n",
    "observation = preprocessor(observation)\n",
    "policy.select_action(observation)\n",
    "postprocessor(action)"
   ]
  },
  {
   "cell_type": "code",
   "execution_count": null,
   "id": "b7e9b751",
   "metadata": {},
   "outputs": [],
   "source": [
    "policy.reset()\n",
    "policy.eval()\n",
    "numpy_observation, info = env.reset()\n",
    "rewards = []\n",
    "frames = [numpy_observation[\"pixels\"][\"side\"].squeeze()]\n",
    "done = False\n",
    "observation = {}\n",
    "step = 0\n",
    "\n",
    "ep_dict = {\"action.qpos\": [], \"action.gripper\": [], \"observation.state.qpos\": [], \"observation.state.qvel\": [], \"observation.state.gripper\": [], \"observation.images.side\": [], \"observation.images.gripper\": [], \"reward\": [], \"timestamp\": [], \"frame_index\": [],}\n",
    "while not done:\n",
    "    observation = numpy_to_torch_obs(numpy_observation)\n",
    "    observation[\"task\"] = [\"Pick up the red cube\"]\n",
    "    observation = preprocessor(observation)\n",
    "    with torch.inference_mode():\n",
    "        action = policy.select_action(observation)\n",
    "        action = postprocessor(action)[0]\n",
    "    action = {\"qpos\": action[:env.unwrapped.dof], \"gripper\": round(np.clip(action[-1].item(), -1, 1))}\n",
    "    numpy_observation, reward, terminated, truncated, info = env.step(action)\n",
    "\n",
    "    rewards.append(reward)\n",
    "    frames.append(numpy_observation[\"pixels\"][\"side\"].squeeze())\n",
    "\n",
    "    ep_dict[\"action.qpos\"].append(action[\"qpos\"])\n",
    "    ep_dict[\"action.gripper\"].append(action[\"gripper\"])\n",
    "    ep_dict[\"observation.state.qpos\"].append(numpy_observation[\"state\"][\"qpos\"])\n",
    "    ep_dict[\"observation.state.qvel\"].append(numpy_observation[\"state\"][\"qvel\"])\n",
    "    ep_dict[\"observation.state.gripper\"].append(numpy_observation[\"state\"][\"gripper\"])\n",
    "    ep_dict[\"observation.images.side\"].append(numpy_observation[\"pixels\"][\"side\"])\n",
    "    ep_dict[\"observation.images.gripper\"].append(numpy_observation[\"pixels\"][\"gripper\"])\n",
    "    ep_dict[\"reward\"].append(reward)\n",
    "    ep_dict[\"timestamp\"].append(env.unwrapped.data.time)\n",
    "    ep_dict[\"frame_index\"].append(step)\n",
    "\n",
    "    done = terminated | truncated"
   ]
  },
  {
   "cell_type": "code",
   "execution_count": null,
   "id": "f58da871",
   "metadata": {},
   "outputs": [],
   "source": [
    "import mediapy as media\n",
    "\n",
    "media.show_video(frames)"
   ]
  },
  {
   "cell_type": "markdown",
   "id": "7c332b95",
   "metadata": {},
   "source": [
    "# Finetune"
   ]
  },
  {
   "cell_type": "code",
   "execution_count": null,
   "id": "b5ffc633",
   "metadata": {},
   "outputs": [],
   "source": [
    "from lerobot.datasets.lerobot_dataset import LeRobotDataset, LeRobotDatasetMetadata\n",
    "\n",
    "dataset_path= \"/media/ssd/eugene/robotic_manipulation/lerobot_tests/datasets/lite6_record_scripted_250622\"\n",
    "dataset_meta = LeRobotDatasetMetadata(dataset_path)\n",
    "dataset_meta.stats"
   ]
  }
 ],
 "metadata": {
  "kernelspec": {
   "display_name": "lerobot_venv (3.10.12)",
   "language": "python",
   "name": "python3"
  },
  "language_info": {
   "codemirror_mode": {
    "name": "ipython",
    "version": 3
   },
   "file_extension": ".py",
   "mimetype": "text/x-python",
   "name": "python",
   "nbconvert_exporter": "python",
   "pygments_lexer": "ipython3",
   "version": "3.10.12"
  }
 },
 "nbformat": 4,
 "nbformat_minor": 5
}
