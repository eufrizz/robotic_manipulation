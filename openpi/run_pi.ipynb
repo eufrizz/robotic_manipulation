{
 "cells": [
  {
   "cell_type": "code",
   "execution_count": null,
   "id": "b7fc945d",
   "metadata": {},
   "outputs": [],
   "source": [
    "import lerobot\n",
    "from lerobot.policies.factory import make_policy\n",
    "from lerobot.configs.train import TrainPipelineConfig, PreTrainedConfig\n",
    "from lerobot.policies.pi05 import (  # noqa: E402\n",
    "    PI05Config,\n",
    "    PI05Policy,\n",
    "    make_pi05_pre_post_processors,  # noqa: E402\n",
    "    \n",
    ")\n",
    "from lerobot.configs.default import DatasetConfig, EvalConfig, WandBConfig\n",
    "from pprint import pprint\n"
   ]
  },
  {
   "cell_type": "code",
   "execution_count": null,
   "id": "766853ae",
   "metadata": {},
   "outputs": [],
   "source": [
    "import gc\n",
    "\n",
    "if \"policy\" in locals():\n",
    "    del policy\n",
    "gc.collect()"
   ]
  },
  {
   "cell_type": "markdown",
   "id": "ec365346",
   "metadata": {},
   "source": [
    "# Mock data"
   ]
  },
  {
   "cell_type": "code",
   "execution_count": null,
   "id": "c4cf8f4f",
   "metadata": {},
   "outputs": [],
   "source": [
    "config = PI05Config(max_action_dim=7, max_state_dim=14, dtype=\"bfloat16\", device=\"cuda\")\n",
    "\n",
    "    # Set up input_features and output_features in the config\n",
    "from lerobot.configs.types import FeatureType, PolicyFeature\n",
    "\n",
    "config.input_features = {\n",
    "    \"observation.state\": PolicyFeature(\n",
    "        type=FeatureType.STATE,\n",
    "        shape=(14,),\n",
    "    ),\n",
    "    \"observation.images.base_0_rgb\": PolicyFeature(\n",
    "        type=FeatureType.VISUAL,\n",
    "        shape=(3, 224, 224),\n",
    "    ),\n",
    "}\n",
    "\n",
    "config.output_features = {\n",
    "    \"action\": PolicyFeature(\n",
    "        type=FeatureType.ACTION,\n",
    "        shape=(7,),\n",
    "    ),\n",
    "}"
   ]
  },
  {
   "cell_type": "code",
   "execution_count": null,
   "id": "411a61e5",
   "metadata": {},
   "outputs": [],
   "source": [
    "policy = PI05Policy(config)\n"
   ]
  },
  {
   "cell_type": "code",
   "execution_count": null,
   "id": "49225aad",
   "metadata": {},
   "outputs": [],
   "source": [
    "import torch\n",
    "\n",
    "batch_size = 1\n",
    "device = \"cuda\"\n",
    "dataset_stats = {\n",
    "        \"observation.state\": {\n",
    "            \"mean\": torch.zeros(14),\n",
    "            \"std\": torch.ones(14),\n",
    "            \"min\": torch.zeros(14),\n",
    "            \"max\": torch.ones(14),\n",
    "            \"q01\": torch.zeros(14),\n",
    "            \"q99\": torch.ones(14),\n",
    "        },\n",
    "        \"action\": {\n",
    "            \"mean\": torch.zeros(7),\n",
    "            \"std\": torch.ones(7),\n",
    "            \"min\": torch.zeros(7),\n",
    "            \"max\": torch.ones(7),\n",
    "            \"q01\": torch.zeros(7),\n",
    "            \"q99\": torch.ones(7),\n",
    "        },\n",
    "        \"observation.images.base_0_rgb\": {\n",
    "            \"mean\": torch.zeros(3, 224, 224),\n",
    "            \"std\": torch.ones(3, 224, 224),\n",
    "            \"q01\": torch.zeros(3, 224, 224),\n",
    "            \"q99\": torch.ones(3, 224, 224),\n",
    "        },\n",
    "    }\n",
    "preprocessor, postprocessor = make_pi05_pre_post_processors(config=config, dataset_stats=dataset_stats)\n",
    "batch = {\n",
    "        \"observation.state\": torch.randn(batch_size, 14, dtype=torch.float32, device=device),\n",
    "        \"action\": torch.randn(batch_size, config.chunk_size, 7, dtype=torch.float32, device=device),\n",
    "        \"observation.images.base_0_rgb\": torch.rand(\n",
    "            batch_size, 3, 224, 224, dtype=torch.float32, device=device\n",
    "        ),  # Use rand for [0,1] range\n",
    "        \"task\": [\"Pick up the object\"] * batch_size,\n",
    "    }"
   ]
  },
  {
   "cell_type": "code",
   "execution_count": null,
   "id": "b6f154d6",
   "metadata": {},
   "outputs": [],
   "source": [
    "input = preprocessor(batch)\n",
    "input"
   ]
  },
  {
   "cell_type": "code",
   "execution_count": null,
   "id": "a94475e4",
   "metadata": {},
   "outputs": [],
   "source": [
    "action = policy.select_action(input)\n",
    "output = postprocessor(action)\n",
    "output"
   ]
  },
  {
   "cell_type": "markdown",
   "id": "a0baf0bc",
   "metadata": {},
   "source": [
    "# Xarm"
   ]
  },
  {
   "cell_type": "code",
   "execution_count": null,
   "id": "d97e4a2a",
   "metadata": {},
   "outputs": [],
   "source": [
    "from lerobot.datasets.lerobot_dataset import LeRobotDataset, LeRobotDatasetMetadata\n",
    "\n",
    "dataset_path= \"/media/ssd/eugene/robotic_manipulation/lerobot_tests/datasets/lite6_record_scripted_250622\"\n"
   ]
  }
 ],
 "metadata": {
  "kernelspec": {
   "display_name": "lerobot_venv (3.10.12)",
   "language": "python",
   "name": "python3"
  },
  "language_info": {
   "codemirror_mode": {
    "name": "ipython",
    "version": 3
   },
   "file_extension": ".py",
   "mimetype": "text/x-python",
   "name": "python",
   "nbconvert_exporter": "python",
   "pygments_lexer": "ipython3",
   "version": "3.10.12"
  }
 },
 "nbformat": 4,
 "nbformat_minor": 5
}
