{
 "cells": [
  {
   "cell_type": "code",
   "execution_count": 2,
   "metadata": {},
   "outputs": [],
   "source": [
    "import mujoco\n",
    "from pathlib import Path\n",
    "import gym_lite6\n",
    "import gymnasium as gym\n",
    "import gym_lite6.env, gym_lite6.scripted_policy, gym_lite6.pickup_task\n",
    "import mediapy as media"
   ]
  },
  {
   "cell_type": "code",
   "execution_count": 56,
   "metadata": {},
   "outputs": [],
   "source": [
    "model_path = Path(gym_lite6.__path__[0] + \"/../models/lite6_gripper_wide.xml\").resolve()\n",
    "model_spec = mujoco.MjSpec.from_file(str(model_path))\n",
    "\n",
    "obj_path = gym_lite6.__path__[0] + \"/../models/cube_pickup_large.xml\"\n",
    "obj_spec = mujoco.MjSpec.from_file(obj_path)\n",
    "\n",
    "scene_path = gym_lite6.__path__[0] + \"/../models/scene.xml\"\n",
    "scene_spec = mujoco.MjSpec.from_file(scene_path)"
   ]
  },
  {
   "cell_type": "code",
   "execution_count": 44,
   "metadata": {},
   "outputs": [],
   "source": [
    "def print_bodies(parent, level=0):\n",
    "  body = parent.first_body()\n",
    "  while body:\n",
    "    print(''.join(['-' for i in range(level)]) + body.name)\n",
    "    print_bodies(body, level + 1)\n",
    "    body = parent.next_body(body)\n",
    "print_bodies(scene_spec.worldbody)\n",
    "for site in scene_spec.sites:\n",
    "  print(site.name)\n",
    "for actuator in scene_spec.actuators:\n",
    "  print(actuator.name)"
   ]
  },
  {
   "cell_type": "code",
   "execution_count": 122,
   "metadata": {},
   "outputs": [
    {
     "name": "stdout",
     "output_type": "stream",
     "text": [
      "0 <_MjModelJointViews\n",
      "  M0: array([1.53664000e-02, 1.53664000e-02, 1.53664000e-02, 2.00787627e-06,\n",
      "       2.00787627e-06, 2.00787627e-06])\n",
      "  Madr: array([ 0,  1,  3,  6, 10, 15], dtype=int32)\n",
      "  armature: array([0., 0., 0., 0., 0., 0.])\n",
      "  axis: array([0., 0., 1.])\n",
      "  bodyid: array([1, 1, 1, 1, 1, 1], dtype=int32)\n",
      "  damping: array([0., 0., 0., 0., 0., 0.])\n",
      "  dofadr: array([0], dtype=int32)\n",
      "  frictionloss: array([0., 0., 0., 0., 0., 0.])\n",
      "  group: array([0], dtype=int32)\n",
      "  id: 0\n",
      "  invweight0: array([6.50770512e+01, 6.50770512e+01, 6.50770512e+01, 4.98038657e+05,\n",
      "       4.98038657e+05, 4.98038657e+05])\n",
      "  jntid: array([0, 0, 0, 0, 0, 0], dtype=int32)\n",
      "  limited: array([0], dtype=uint8)\n",
      "  margin: array([0.])\n",
      "  name: 'red_box_joint-1'\n",
      "  parentid: array([-1,  0,  1,  2,  3,  4], dtype=int32)\n",
      "  pos: array([0., 0., 0.])\n",
      "  qpos0: array([0.2, 0.2, 0. , 1. , 0. , 0. , 0. ])\n",
      "  qpos_spring: array([0.2, 0.2, 0. , 1. , 0. , 0. , 0. ])\n",
      "  qposadr: array([0], dtype=int32)\n",
      "  range: array([0., 0.])\n",
      "  simplenum: array([6, 5, 4, 3, 2, 1], dtype=int32)\n",
      "  solimp: array([9.0e-01, 9.5e-01, 1.0e-03, 5.0e-01, 2.0e+00])\n",
      "  solref: array([0.02, 1.  ])\n",
      "  stiffness: array([0.])\n",
      "  type: array([0], dtype=int32)\n",
      "  user: array([], dtype=float64)\n",
      ">\n",
      "1 <_MjModelJointViews\n",
      "  M0: array([0.13855091])\n",
      "  Madr: array([21], dtype=int32)\n",
      "  armature: array([0.1])\n",
      "  axis: array([0., 0., 1.])\n",
      "  bodyid: array([3], dtype=int32)\n",
      "  damping: array([1.])\n",
      "  dofadr: array([6], dtype=int32)\n",
      "  frictionloss: array([0.])\n",
      "  group: array([0], dtype=int32)\n",
      "  id: 1\n",
      "  invweight0: array([7.29196229])\n",
      "  jntid: array([1], dtype=int32)\n",
      "  limited: array([1], dtype=uint8)\n",
      "  margin: array([0.])\n",
      "  name: 'joint1-1'\n",
      "  parentid: array([-1], dtype=int32)\n",
      "  pos: array([0., 0., 0.])\n",
      "  qpos0: array([0.])\n",
      "  qpos_spring: array([0.])\n",
      "  qposadr: array([7], dtype=int32)\n",
      "  range: array([-6.28319,  6.28319])\n",
      "  simplenum: array([0], dtype=int32)\n",
      "  solimp: array([9.0e-01, 9.5e-01, 1.0e-03, 5.0e-01, 2.0e+00])\n",
      "  solref: array([0.02, 1.  ])\n",
      "  stiffness: array([0.])\n",
      "  type: array([3], dtype=int32)\n",
      "  user: array([], dtype=float64)\n",
      ">\n",
      "2 <_MjModelJointViews\n",
      "  M0: array([0.21313155])\n",
      "  Madr: array([22], dtype=int32)\n",
      "  armature: array([0.1])\n",
      "  axis: array([0., 0., 1.])\n",
      "  bodyid: array([4], dtype=int32)\n",
      "  damping: array([1.])\n",
      "  dofadr: array([7], dtype=int32)\n",
      "  frictionloss: array([0.])\n",
      "  group: array([0], dtype=int32)\n",
      "  id: 2\n",
      "  invweight0: array([4.84979322])\n",
      "  jntid: array([2], dtype=int32)\n",
      "  limited: array([1], dtype=uint8)\n",
      "  margin: array([0.])\n",
      "  name: 'joint2-1'\n",
      "  parentid: array([6], dtype=int32)\n",
      "  pos: array([0., 0., 0.])\n",
      "  qpos0: array([0.])\n",
      "  qpos_spring: array([0.])\n",
      "  qposadr: array([8], dtype=int32)\n",
      "  range: array([-2.61799,  2.61799])\n",
      "  simplenum: array([0], dtype=int32)\n",
      "  solimp: array([9.0e-01, 9.5e-01, 1.0e-03, 5.0e-01, 2.0e+00])\n",
      "  solref: array([0.02, 1.  ])\n",
      "  stiffness: array([0.])\n",
      "  type: array([3], dtype=int32)\n",
      "  user: array([], dtype=float64)\n",
      ">\n",
      "3 <_MjModelJointViews\n",
      "  M0: array([0.2455267])\n",
      "  Madr: array([24], dtype=int32)\n",
      "  armature: array([0.1])\n",
      "  axis: array([0., 0., 1.])\n",
      "  bodyid: array([5], dtype=int32)\n",
      "  damping: array([1.])\n",
      "  dofadr: array([8], dtype=int32)\n",
      "  frictionloss: array([0.])\n",
      "  group: array([0], dtype=int32)\n",
      "  id: 3\n",
      "  invweight0: array([4.2218368])\n",
      "  jntid: array([3], dtype=int32)\n",
      "  limited: array([1], dtype=uint8)\n",
      "  margin: array([0.])\n",
      "  name: 'joint3-1'\n",
      "  parentid: array([7], dtype=int32)\n",
      "  pos: array([0., 0., 0.])\n",
      "  qpos0: array([0.])\n",
      "  qpos_spring: array([0.])\n",
      "  qposadr: array([9], dtype=int32)\n",
      "  range: array([-0.061087,  5.23599 ])\n",
      "  simplenum: array([0], dtype=int32)\n",
      "  solimp: array([9.0e-01, 9.5e-01, 1.0e-03, 5.0e-01, 2.0e+00])\n",
      "  solref: array([0.02, 1.  ])\n",
      "  stiffness: array([0.])\n",
      "  type: array([3], dtype=int32)\n",
      "  user: array([], dtype=float64)\n",
      ">\n",
      "4 <_MjModelJointViews\n",
      "  M0: array([0.10340042])\n",
      "  Madr: array([27], dtype=int32)\n",
      "  armature: array([0.1])\n",
      "  axis: array([0., 0., 1.])\n",
      "  bodyid: array([6], dtype=int32)\n",
      "  damping: array([1.])\n",
      "  dofadr: array([9], dtype=int32)\n",
      "  frictionloss: array([0.])\n",
      "  group: array([0], dtype=int32)\n",
      "  id: 4\n",
      "  invweight0: array([9.69581942])\n",
      "  jntid: array([4], dtype=int32)\n",
      "  limited: array([1], dtype=uint8)\n",
      "  margin: array([0.])\n",
      "  name: 'joint4-1'\n",
      "  parentid: array([8], dtype=int32)\n",
      "  pos: array([0., 0., 0.])\n",
      "  qpos0: array([0.])\n",
      "  qpos_spring: array([0.])\n",
      "  qposadr: array([10], dtype=int32)\n",
      "  range: array([-6.28319,  6.28319])\n",
      "  simplenum: array([0], dtype=int32)\n",
      "  solimp: array([9.0e-01, 9.5e-01, 1.0e-03, 5.0e-01, 2.0e+00])\n",
      "  solref: array([0.02, 1.  ])\n",
      "  stiffness: array([0.])\n",
      "  type: array([3], dtype=int32)\n",
      "  user: array([], dtype=float64)\n",
      ">\n",
      "5 <_MjModelJointViews\n",
      "  M0: array([0.10397869])\n",
      "  Madr: array([31], dtype=int32)\n",
      "  armature: array([0.1])\n",
      "  axis: array([0., 0., 1.])\n",
      "  bodyid: array([7], dtype=int32)\n",
      "  damping: array([1.])\n",
      "  dofadr: array([10], dtype=int32)\n",
      "  frictionloss: array([0.])\n",
      "  group: array([0], dtype=int32)\n",
      "  id: 5\n",
      "  invweight0: array([9.696089])\n",
      "  jntid: array([5], dtype=int32)\n",
      "  limited: array([1], dtype=uint8)\n",
      "  margin: array([0.])\n",
      "  name: 'joint5-1'\n",
      "  parentid: array([9], dtype=int32)\n",
      "  pos: array([0., 0., 0.])\n",
      "  qpos0: array([0.])\n",
      "  qpos_spring: array([0.])\n",
      "  qposadr: array([11], dtype=int32)\n",
      "  range: array([-2.1642,  2.1642])\n",
      "  simplenum: array([0], dtype=int32)\n",
      "  solimp: array([9.0e-01, 9.5e-01, 1.0e-03, 5.0e-01, 2.0e+00])\n",
      "  solref: array([0.02, 1.  ])\n",
      "  stiffness: array([0.])\n",
      "  type: array([3], dtype=int32)\n",
      "  user: array([], dtype=float64)\n",
      ">\n",
      "6 <_MjModelJointViews\n",
      "  M0: array([0.10030046])\n",
      "  Madr: array([36], dtype=int32)\n",
      "  armature: array([0.1])\n",
      "  axis: array([0., 0., 1.])\n",
      "  bodyid: array([8], dtype=int32)\n",
      "  damping: array([1.])\n",
      "  dofadr: array([11], dtype=int32)\n",
      "  frictionloss: array([0.])\n",
      "  group: array([0], dtype=int32)\n",
      "  id: 6\n",
      "  invweight0: array([9.97019397])\n",
      "  jntid: array([6], dtype=int32)\n",
      "  limited: array([1], dtype=uint8)\n",
      "  margin: array([0.])\n",
      "  name: 'joint6-1'\n",
      "  parentid: array([10], dtype=int32)\n",
      "  pos: array([0., 0., 0.])\n",
      "  qpos0: array([0.])\n",
      "  qpos_spring: array([0.])\n",
      "  qposadr: array([12], dtype=int32)\n",
      "  range: array([-6.28319,  6.28319])\n",
      "  simplenum: array([0], dtype=int32)\n",
      "  solimp: array([9.0e-01, 9.5e-01, 1.0e-03, 5.0e-01, 2.0e+00])\n",
      "  solref: array([0.02, 1.  ])\n",
      "  stiffness: array([0.])\n",
      "  type: array([3], dtype=int32)\n",
      "  user: array([], dtype=float64)\n",
      ">\n",
      "7 <_MjModelJointViews\n",
      "  M0: array([0.124])\n",
      "  Madr: array([42], dtype=int32)\n",
      "  armature: array([0.1])\n",
      "  axis: array([0., 1., 0.])\n",
      "  bodyid: array([10], dtype=int32)\n",
      "  damping: array([1.])\n",
      "  dofadr: array([12], dtype=int32)\n",
      "  frictionloss: array([0.4])\n",
      "  group: array([0], dtype=int32)\n",
      "  id: 7\n",
      "  invweight0: array([8.06658364])\n",
      "  jntid: array([7], dtype=int32)\n",
      "  limited: array([1], dtype=uint8)\n",
      "  margin: array([0.])\n",
      "  name: 'gripper_left_finger-1'\n",
      "  parentid: array([11], dtype=int32)\n",
      "  pos: array([0., 0., 0.])\n",
      "  qpos0: array([0.])\n",
      "  qpos_spring: array([0.])\n",
      "  qposadr: array([13], dtype=int32)\n",
      "  range: array([-8.1e-03, -1.0e-05])\n",
      "  simplenum: array([0], dtype=int32)\n",
      "  solimp: array([9.0e-01, 9.5e-01, 1.0e-03, 5.0e-01, 2.0e+00])\n",
      "  solref: array([0.02, 1.  ])\n",
      "  stiffness: array([0.])\n",
      "  type: array([2], dtype=int32)\n",
      "  user: array([], dtype=float64)\n",
      ">\n",
      "8 <_MjModelJointViews\n",
      "  M0: array([0.124])\n",
      "  Madr: array([49], dtype=int32)\n",
      "  armature: array([0.1])\n",
      "  axis: array([0., 1., 0.])\n",
      "  bodyid: array([11], dtype=int32)\n",
      "  damping: array([1.])\n",
      "  dofadr: array([13], dtype=int32)\n",
      "  frictionloss: array([0.4])\n",
      "  group: array([0], dtype=int32)\n",
      "  id: 8\n",
      "  invweight0: array([8.06658364])\n",
      "  jntid: array([8], dtype=int32)\n",
      "  limited: array([1], dtype=uint8)\n",
      "  margin: array([0.])\n",
      "  name: 'gripper_right_finger-1'\n",
      "  parentid: array([11], dtype=int32)\n",
      "  pos: array([0., 0., 0.])\n",
      "  qpos0: array([0.])\n",
      "  qpos_spring: array([0.])\n",
      "  qposadr: array([14], dtype=int32)\n",
      "  range: array([1.0e-05, 8.1e-03])\n",
      "  simplenum: array([0], dtype=int32)\n",
      "  solimp: array([9.0e-01, 9.5e-01, 1.0e-03, 5.0e-01, 2.0e+00])\n",
      "  solref: array([0.02, 1.  ])\n",
      "  stiffness: array([0.])\n",
      "  type: array([2], dtype=int32)\n",
      "  user: array([], dtype=float64)\n",
      ">\n"
     ]
    }
   ],
   "source": [
    "for i in range(env.unwrapped.model.njnt):\n",
    "    print(f\"{i} {env.unwrapped.model.jnt(i)}\")"
   ]
  },
  {
   "cell_type": "code",
   "execution_count": 57,
   "metadata": {},
   "outputs": [
    {
     "data": {
      "text/plain": [
       "<mujoco._specs.MjsFrame at 0x3283ccb70>"
      ]
     },
     "execution_count": 57,
     "metadata": {},
     "output_type": "execute_result"
    }
   ],
   "source": [
    "frame = scene_spec.worldbody.add_frame()\n",
    "frame.attach(model_spec, \"\", \"-1\")\n",
    "frame.attach(obj_spec, \"\", \"-1\")"
   ]
  },
  {
   "cell_type": "code",
   "execution_count": 96,
   "metadata": {},
   "outputs": [
    {
     "data": {
      "text/plain": [
       "[(0, 'world'),\n",
       " (1, 'link_base-1'),\n",
       " (2, 'target-1'),\n",
       " (3, 'box-1'),\n",
       " (4, 'link1-1'),\n",
       " (5, 'link2-1'),\n",
       " (6, 'link3-1'),\n",
       " (7, 'link4-1'),\n",
       " (8, 'link5-1'),\n",
       " (9, 'link6-1'),\n",
       " (10, 'gripper_body-1'),\n",
       " (11, 'gripper_left_finger-1'),\n",
       " (12, 'gripper_right_finger-1')]"
      ]
     },
     "execution_count": 96,
     "metadata": {},
     "output_type": "execute_result"
    }
   ],
   "source": [
    "[(i, s.name) for i, s in enumerate(scene_spec.bodies)]"
   ]
  },
  {
   "cell_type": "code",
   "execution_count": 58,
   "metadata": {},
   "outputs": [],
   "source": [
    "model = scene_spec.compile()\n",
    "data = mujoco.MjData(model)\n",
    "renderer = mujoco.Renderer(model)"
   ]
  },
  {
   "cell_type": "code",
   "execution_count": 59,
   "metadata": {},
   "outputs": [
    {
     "data": {
      "text/html": [
       "<table class=\"show_images\" style=\"border-spacing:0px;\"><tr><td style=\"padding:1px;\"><img width=\"320\" height=\"240\" style=\"image-rendering:auto; object-fit:cover;\" src=\"data:image/png;base64,iVBORw0KGgoAAAANSUhEUgAAAUAAAADwCAIAAAD+Tyo8AACr5ElEQVR4nO39aZBt2XUeBp75nDvl9MZ6VYWqAlCFiQAIEJNEiA6LEk1RlG1KtEy25A6Jkih3W+wfDkGMDkaHw7+6oxXqULRCtjV7pGyTctvqpgTRnCSQEgmgCGIgCigUUAOqXg053rzTmU/Ht9ba++xzh8ybN2/mywfkfqjEG+5wzj77W/P6lv3eH/op60Eue4nXVEu/8hxfWy3xmgu+qOs153HM3WHzYdkzf7Pmi1j0jE/4ygu8pqnlWQ94Vet7pX2G57HM157/NfbiF0xdbHXaa856oM1/OutbTn7xkhdZrelgn/riaoVPWWb3z/YF537LwwrgNa7qYgTBqdia++LTxES1CFinffMKB3o9GDjLe+d/YKX+fpFEOXXn50oL6yoDbO2rqirbrvfBq3CSTl/me77T11q08wWp7+WFyyINe4JJMFfLL3nWz6RbF73sQiXNQ7NOhaTGcFVVy2rgdeF89nO+m0TDmdZq+nc1FTz1mittNF7xVc1DytQhXxJNy3zLmk3oFa5smbcsA3Lzc66FwvU6+ZyccEIWHUj9lgs65N/JPvBZ739lobCM+Lxel7ZOFcpV83lpw/JMn7zCxVyddTKATw59Ptxr+eexlie3pPw2j+nc07matbaktDIv8oS3LHkliz7ZWmldECwf5oWb9RZHSlZzir4Dob6WteTZOuFl5/mEFd57/is551u+E1d1jrKEM2jgSwvQr5Z/vJYR1+uSV7Ve1J3tjSei3jvzly5Tn7Tse1e74fObA8sLwuv1YNeS9W7V4pctk/Zf6zlcV4XMct9/9iDW1VHPiz7WXu37zpTzPFN2dMnPP0Gin0lqriCGzv8JS6qpCxXZ1eoffmrGfbVvuHi/wfSBr5j+uRh7pLHs1U7jEl8gKuFM93BS3daaPufSPmF9H3V+aNkPV2L7bFLeO/cln19SPTjBcdECdV0a/axqbG5Z1FldtkWlWctfxqmXtNq6KmqwWodOOO+XeueG2tLJmIUf8iC98Cuxqks5suf5kCul1E/6DnvVi1iLqb/UG1czEBe9yzvTVqyso895GJrXcsaijsbbL1RrrCZ9l+uLuAwndrWPWtLGXRTeWV7gVuvCj73EG5f5snW1Vixai/N49W89tMVM5eWr813RuTXs7FoZ86vdirqD6owh7AuK0DxYB271bz9RAs0BzNyXnUnyVWe6vnOvhefj/GHEpRdp4HMl2deH1zPd9mmZoEsLlp/zXSevJfXUCh94mWGaC8JVtcq1zLx/Bftm2c8/q5O8yvedvxZ6feCfFtwrfc4aI3ErGFInrJWC/Y0tWYf/vqTiW/M3LX9oV07lrhyWqS4gEHXSq6rvpGaGi7VlllhaX59DapzN0OZ/WelEny0+Yi+r1k/52FMd1yXuRbZ3CZu3/ouzQLmy1roeWAbpO7Yb6cJWdeXfewHh0GU/cja7VV3ivTxMKHrgAF6rD3y9vkPWNYQuc63orVEUepm1uP95qbef4wvOvlZyN6/X9VpDHcGa4LC0X+Y9AHFsX5DJN/vh57/odT2wFSLs9mWFjx7IWiExfuobm59gaqa15XUWf/sae5Mu0wdeRV5d6I2t5cNn2yHOFxpfSTyd8fwJ6s8YkD0tG7f4r6r14PHkGooV02jVqX+x/lVdtkytViilXO071rguQqHMMbjXct0PpJhiXX3zcz6mesgChWqtnI194A9zmTWXkWN2rbE0b/k1j9LFeniU9/q+4kx5ybWUwyzzgWtxHpa8gLU/9+pi33p58sG7wgHJi/vSs9ZenGFVa/Bdz8V7UC18n/1AHsPi61k5TLr8FdmrvvGcq/qOywNfXMXPKuuKK/LquzItVH333fIabujslDor23mXtpmXICnWo9uu14PTB9XV85QesA98dYRd9Z31jedpaListOWZr+HKmikX9e0XlYa9yj7wZbisZ1/rzQIs8eHrieKeJ89zvu9e+M0PRIfaa/20B7Kqh64W+kpt7hX3nx+WL/1uu9mLWs6FffL1ul7X68LXUuNFr4cDXa/rdTWX990wF+MyBdBqe/UAReSFPtyLvq/qwi7+TFf+AAHyUPjA511XXwBd/Sv8bruv6iG58msf+Hpdr4d4XQP4el2vh3hdmgn9cBgkl7iu44JrX5X13beWrMS6Xmtf19t+vdaw1lcLfb0eRl1bfYfee2V9l6zviij0A17fNYdpzvpuvvdLWddBrOt1vR7i5V1pA+96Xa/rdeLybI3gsyHZXu0lZxQX55QuK17kOb/owZRVXQTxzIOsmliaJO6Uta5NWY2eZYVPOhsPoRd0es1/X/HwXddLX6/rdcH1XnNe7Nn2tRt8va7Xg1lnVHtzXnyN3ut1vR7idQ3g63W9HuJ1DeDrdb0e4nUN4Ot1vR7idQ3g63W9HuJ1DeDrdb0e4nUN4Ot1vR7idQ3g63W9HuJ1DeDrdb0e4nUN4Ot1vR7idQ3g63W9HuJ1DeDrdb0e4nUN4Ot1vR7idQ3g63W9HuJ1DeDrdb0e4nUN4Ot1vR7idQ3g63W9HuJ1DeDrdb0e4nWleKFP5mXTfCJL0ghVi7lIKvOf7XkvwL+W9Ftn8Qv4I4QWcM5XzFyA3fyn5iWoD5q5QHmNo/61any9+gSbhDEoWkC0tPgF+Gvc2aIX8H3PuYCpe6xO2+T6U+xVn4Kxxyd9hVpz6WmaH3D6QZq9x5kX1I9xwRbVB/mEr6i+8wBcLX1Wltvo6UfVeJkBlwXnSc77zAtKerN8/JmAXZ14KKt5T71Gflktvl+FPauqTgInfZj6x+kP0S9wGOGz36G/BRfDh3Tq9udAyF54Uu2Zf536wPoFasfmorFSL8A1zXvB1M3OXrb++2WWfkyLT+lJL1gz271niItZhIBziy+BjoX5Mj6crBa0aqjKmaODF9jC3YUPmH6N+QKtPbDMS3FwHcZeyIeYxwwvMP2BEp9APzSc7FlU47xXDI2KrgLf1ACVvICuyK5X42RUpVVW9Bq6VAe/9B42XiN/yx/RuB65GOOeZYu14lU3NbW9zZ2p1Wt92458m6P+eUo9yyPgy8Z1WiX+XyA69ZjkagFysQSmX1NvXWXzc1SKmAFWfwrvO38GwwIfMC036WZkd/kwOHPMohK3hv2hZ+BYU4+APkceZf0IjOeojp86nXbzzNi1IFEGUC1QnMaN6++Qp0D3pG5sIVIUlGzbls2YQQoe4Qzc1HAznP76VtU7CU7zzwr+oZRrnXqEzjRcGwdz3s3Qi5r6j1+m9sGyyhInb0p+aBHD8qWcPg04tM2HRDdnYIle4jhNvNG94TX8JAiTruWah0bwhl94Df7SddyZQ0OXI6qzYhzxAZ06xHKO6ZbtebvNcq35OAWZ9WVjJxs7xB9i23KHJd9QfQL5yeuTykfcVBT6o+Qe1dZqRdTQbGXViKnwl9SSlt5hO3yoatjYCub86OzSbsIY2LEduypt3u2yKqySQOyIRKD9qmzLwfXbuMfSKqyCBFLjNXja6jyyUDa/i8UYa3IRPHilXdEVqjOpZK5+cNhX2SpBsgDAAKoSdrWYc+lLDYyYcFUiFRe86DWCeQ+Plv6hNP8B594B4PGP9O98OHBDhmiXE6QPkD5Ei7WEXErBCMIDU5uroc9XWVRVVTCC5BuhIBsaEl9Y4nUljiZdk8PXVL9M9g9oLEVUOFhaT5pKkl/Cxw2b4NIr6QzhRvn4K9zK4bJt4BafZWCJPkOkhAKtXFpt7ZLa1jhhKOIlDu4CBxQnn25NJFNjPx3bcR3Hdu2qqAqGZn2kGh/VEIT0LE1BoEUh76c6LvpVdG2O1QCnGC30rYYscGynBECmzAp+QKKOnIq2QewKw1lkBUobh4sGZk0tiq+3S5vgUuKHVTgVRCuJJrsBUd5XfgAFnhy/hg4FiSGXb1UJpBKfjyvD+5W+FbWBL9T3Ulbm5vOTpm+RXeW71K8BTH3bkbOngKTArFHqurQbfErVa7SglE9jwBt6EWe/tCyvLEvSMEoUc/iGrrsqixqGoqBxh/yo5TEbp1mBbNoKBQzlMYpC00YOobeGWW4V/KFsB9nzzFHaB6BWbCH6RM/1tWZTaoLvUptMlue6tu82kTZ1WCEgXMCCBVhtb/POqh21XBxmkV8CNsCbwGaoQeNJstRwaW8LfpzqKdVWlok3Bd0pvIlA4LvMy4IUiX5ehrDDMbac0ioqeojKVpqCHF0ZNNy0ZUH3oj5N4ARwip0rz0tkJ90wb4NTihLTL4MOMT4cl1q/rNafOA92VRkOAwGL9lk/CBd34brQtFORBEdMfHojHpDIUGPfNBr4RLlN7MkNQVDQQZJjYE0/VnoN3uaQS0VIxmN1BQ6kC9lYtyyyAvh50TmGE1E/r5I0PEwFJbvFCCD5ob6NtZiyKBueIH7nVRXOAT+JoiwJV3QoZ8Qk3XBOop7EJGOMXqw8Zds4AUXt7tMNuC5ETe0tKFXAMFMH03E82yc9O6Wp5MXYNW0diBbiL1eCnqWE4Me1PH4hdCnAaxfQVqSxTOCybucbx+voNkSzmUd5VrPh7+ll/FoRkdojZ/SytioK9YjV3ajNwemHdC+tAs+Cb5mPDv7IX06XRoaAbL+4Dfwyuq8KIJJtxlVqi1jcP77KApDmW4WqA5Zqs5nPJ6sSFe3hG6pNJMuyy8qyHRi1/CGCIi1xtYdAcAL03bIqcdBrawsbPWW2TAus+inj+eHosFQrlU6wlPhjGc2Pz8WN827z42Mk0+sL7DSJDzxmFyKucmRjxA0pclxhUUCxKeuRjqOjz6JVWUUB3V570wp+OLUlOf/44qrK1NbOGH10eOgDlW0Ia5Sxp/WWyC7+wKoo8QtfTxuCI4vhZjiNsuk6aKUkjbmbju3bnop2aHO3YR7whtqO5dueQjf2tKpI74ilZ36s7bo28MWaTKk7ek54R1P50MMxjJzKqrIiZ4BpqadEbG264wPzosyUzaC1dx28ISenrDIc7kyrIG3KqD1VqChsPMDaOMdxKUucDsYP1FqJjy2VFWO+kv+Gn4ESlHydpgIU480ULsZNSQyCXGuAltW7CaHaYrTKyrFK6LPKKV3L81mQa/mrg0JaCDqNnecjJdYeEKBlIJBCG8/msSBO24UIdQFINu5GvayWFfgAIxri2E5BVjLrOKWEyRjBXdZ5A7I3ONgp6pOeBt9RhotQr2RbR5RofQGzPlRtjOERZbhYMa8aykxDD9dVCJwq/UIDeNBY+CZ1lkgPsGdeP00IEdHzDftIG//8vLGXZkBER+Mqywt8X44XHgrLe+3lipFQC1Ta3LzIq4yQUOtYkam1BY09LQtRTuTy0nvJWGzcKsnFModVDH0j2gSBUMcFXs29xh6wicK/ClI8sAXwWqVk1VMR+x6SC7LL8N3pxGsxpBwxrR8Z4fgnT26JdN+sUYAQBz0qz4MYIlGIy2UTQjAh+hmel+26Lu03iUwy0+jC8cqc7hv3j0Nsu24Fk9FQ+K7jeq4LxYcX4heHJAwzUb6efWN5XpCdVsHGpBmfEj8HxgY0adXQ0goY/AZCKmzosigargc9LG29i+xELM9xskw7R7VNTo+L3EQ4dXTnjSND1yB6s8iLsihy7BFeyBrHxDvfHVwSkolaH9THAM8ZQV0bW2+bYhG7TAat7JiccPKNrcpTalYZ1wx6i9HG0QmRoaSWlKcGq0Q/XHoKKmaDV+EIaotd62WWuU6Ax0seFj9cMdolRCIBCB34COThFmXpDQZDLWbpK/WG1u4f8EfwMmQQn34Xt1SrbdpQDQP9Ypeub8axbLwWfhJuwYObGjJmahgoXwt3ZVGwAX6OGwahwpf8IlQbRnL9Yq+ODzHaSTjKi8kkU1Y3udXa8qYdkXwHbYIYetrRVQ69+FcMWhb9GgxNSedCiVmWDbxaRaYNM22Ha58Hr4RF6BR2kVm5FsCCB/yCzLVty3URj3Qc5z/5s3+C9/cj73/GsqzPffn5qqo++8Wv5TkcpX/ze8+RIOB7Kw15p70kJUKV5UxbBdVdOhV8VZ1i4GMDYIi/IP6eBAi0H1RVCIXi0XiuJ5qYtYPywEgfKTPEeNgqcq21qwgyfqYVVDPLhAYwjCcCQ8BzAF+8TPwMthrKqfQM2+k6XSQoUlDGg7JLG4KwgnilC8DmuBT+sGztAdMJZCUs8Y9mlknkFF9zpo3W2rIlLIr7XptjEAB8RMXgUtry+37sZ/AwPQg5WJpaD9SRQxOxOFIUgKMHg3AS3ag+d6Zpygg3Ir28zyK0JFJIV6/NeC066Mjz4SePx8j7kKvTMClZjeNa9LEW+5OfeC2YlPxuuo58XtmmZU0uWn9GLYixzNZcU+0bV8LuHLnQbLZxHEOEkhhlHN3hkIY+KCL46vAYOQ1sl+otpGsuP/I9T3/k/U/zFX70/c9Ytv2R75E/nro+/5Vv2Jb1a7/17EuvH9iO88WvfYt3TSwg44iTwtFBBKhNSusgsiKbR0+HHz0LZ3PPZQM5slryjtTinWBD/obxdGQbtOViHML6UrQarGTxlbBBq84JbXett/UhrH0ZvgOcalb0ZLkoF8w8J2I+FGVBlwwJyPpO6dg5H17rOmgmw5JU2k4fWp0fYvNQm+7TOQt1VCTTyZv9/h/5j7UmxCXSTrgE6LkOQGN/RSpQTElZRIIrJU3Nu9KGFl0XoVsbMPI49MuVQNXSWlmGosnpk0ozZCrugzjhDBTBFz9vemVDsqqlpLvgEaa7ZeUsr0k9s07laLtxpskQ5MgSba6BAnHLOWbTAIHeSbpT3nBDoqljrVW6utUPvufJj37g3VVV/p/+Dz9qXcD63Jeft6rqb/93/zQr8t/54tdKEWpKotHtzhdqVYFABPxVIEHMXfWk6ttVh8C0eAkClEFXJ2Hm5Y2IiTqQDS/MYk9BLohionJsRBXrwIS+GuWVLtLzrlbd5AxK9Ehpb+XzqywiP1k+/1WhtaCyr80IqPJx6CCoyqVaWmktqI6xuiKdxNOeDu+P/YEf/Y/1VtYWJulkBBXIE2ELXp16OfcqWsHP1jW+QB1kw6esdbi4SBTmqfcSRrp4wOokc5mCPCcVhzevXSSI+P2yoTCE6tPAn09RELEUIKK0BcgqkVwV03mWs0O2mTLHi4r0D58bOdPmaTZDwchNq9SQ0un0Nco54UCeWC6UAlDPV76CMcBv/2N/4H2PP/62n/6JP3ZOfB4dHW1tbS354s9/+fn/8n/4pc9/5XkOi4ptoraLc5D8fPlR62iS6CRl6PJdqEASZJs8h9oHUR6+goH2xiSexLtfI4HzbRxpcORoU4pejDU5GArJte1TnyUx8dQ7WBOboU0dk5rS3tqwgsyir6HIav20WClrsaLiLyzoxNATvSLP2UzU19qLz2rtdsnBYCPfuKSqst/3w3+pIenr48gCjWSJ1KFoYTx9Y6x/tDw2aj2URGBEqZwKlzmyC8oXrUSgju7QJQt0OS0msUSdlxMpq0CuDNqG1cGna9oSU34Xu83yUCkbJILK0KJ8J/xybWKQ1iW/yJA8YjKLlqbLMow42VxlBSjFK2H5qRthofsXfvyPfvQDz3z4fe+0zr3OhF5z/Y2//wt/93/65zo+ojMFtczSj4S2S5tVMzHF2lZSgleVuRjOiDon8hZlcItdr2u01UapRUdL+2hKoWkMK2UjloHATTvz+qKaYkWfE3XsJaSvtLd5SJTCVyFEuRfXRfasvuE6AaaKhablHdutHFRm915FUeoMv1iXYmP/wf/wryo5pI+U2ltKC+iwJrsesnB2G6pW2y0cepM0n06D0tMg51qiDlp56swHH1xThvG18G2IwNNiUplGWqE3EiHaw8EZkDqTOgrSOFum/pRL4p0Q56yOe83T0jqjolKSdTay3jSufTEsJbXbqgBPa/X6HP/0T/zwX/zTP2ytY62MXl7PfuUb/8l//l9wnImlkvhi8N6gYXKYafJouDSRlbXyE+vAsdZ4fBSkxHyxy0NoqeMUKhpS623HnnIv7UasQhlQOjYj5qsSRpyaUr4lp4VwDKZKiA0noimPxAFqOGX1mVHQb1pqxVRFgIpg8aYpa18ZawJ3w76Tq1IXZj/zR/58o+ZGebP1TYrSFJPDcE1YIkrQ3DS/dZGu+fVNf8bcfUNzKn+P7Q4zDMhXLWdduxGqprj2r9goVXEYOU/GXkrMkwrcjKsjz0U/g4b+VJEblUXjhPpUVJM2T8Wt9fFVZ1f73jgc9W2VFKBUJ1ft4dsfufE//+3/zFrfOieALcv67Be/9ud+9m/wqZC/ohyGmKxcB0Rbx2UPqMdReQF+0mKsidWtpR5h3vCvaj2snCB93JTcl73j6K6jwxYUjdD2l4JkrVk5ay7BXonHiQFWJ1wMV0sfIVNbGMICv9XxR4VLjv8BThRL1nEPNl3Ym1CnVQkyqGROk+vLU6aYKDPZb2WI8+WpfKfn+75OdeqAJ9WOmyUK2rFgK1FnujxRgJzyIcmEE5qJmNEJibomQGLgOkeFmpa8yPFGQ9A2Qhd8UyJZTHOmTiRw6lj1rGi71zFOkgiWOt+r9qIOGNIWirPBaUoU7rq5wzUbXAWpgCj7KLkEvMXC/pnBMDEiagO7Pn+QEZ4vRh0HfpSyWhm9SZLEcew4Tq/XWyN6Lcv62Aff/dP/4R/7hU//mzp7TAo3V+EdMSclz6F9ARZnjGCE3OvcV+EaIpB8Lq6mEY+COhe4z4Qs6qJC+4Ktamc4o1ngR6aLhaYiYcqwx1fkkJuShuEl3rNh8tQnitVdLrkPPlWU41XhJBXXYFVJnyfuhEqAsZnAS+oOal2l/PA6AVFby/ooiqbio6ttGVaoqNlzpDLKa7fbktSSqDFdSsaaQgMJG+m6vuuEKuOqFK0YIVyAR5dSUWWF7Xgo0PM5n0RX4XL5M0febYt0YB0LKR2nKEvXQwED3XedjjBBq6qQ1OmpSlfZsOJXkB1OQq9OIticVZPjUtioMVF1Co0Dx++rTSaqGzGkpVKkYrMYNjnDj6vtcTRR61JLMYrTNmousBlyd2xNkG32//hP/+wKACvLst/vj0ajNE2DIAjDMAgC9gXa7fZ4PPY8LwgC6xzrp/7UH3n9/v1fffZ5w1I1chEUixM3GLdVoVaYhKmr/AQ2u5SWRvKmoMLGEiWWYpSJQPPkjKkUDTufHKAQhTJlsnpK6qrSRnXAdMU+KkNE3ykvTLSqMs3EMdZdHdMG/6IYioBHepyKKZtfxJrBfkN6Fvdm+iPaHROflMP1lOVCXrlO2UjEynY81ypt24snseEBsqnBASPJRkoHDe4UWXjHcqAwM5FVooqohKth6zKQlKBy3MLJlbhSCVtRnnTl+o1KTnke+vfIR3B1ukXZnxzO1EEg2lNDxCmNJg0jRoJHXy+3Q+Hr/CCAIcHanWPv0o0hIrkqKgg8/uWVLopD6ES6KMGS71J1fmK/cb0mSqWKIqeSIu2+KHns0VulBogP3O3N6GMfeNdZoZVlWb/fHwwGo9EoyzLf913XfeSRR1566SXXdTudjuu6WZalaUp1YL7nnZnFgd/+f/6zf+JXn/0buklEKzcSThLe55fTE9GPQofldO2tTliaSQQ53bwfjuOgpGcqVEHvQyFgXSZV6fexbqDv8+gxSorWNCTpvOWqy0rMCRw2toL4P6XPtGmsTAxROBK2ELldHzbVV0RCBO6bXZS2TW4TbVZeFFaR89uQqgWekCN2fKX/zTCB6ama0OD2CU7qoVbQ99GQVFaO7/oodVRKUukgdnukUodOpIIBCjvllHMhbuD6htbUaQFp6dC6ix+8NjZsy/I9rxGvNtIDVVVleSZfSvk1qveczq2h6LDUdfZVWdiJlbLK1aaa4glQsRbVL2w5ts9A1A29ysEjoV2/0ThkJESVxOD4Fm9SaeRLROg0FK8tx8WrZY3qeqnuPrk1Ho/DMOx2u0tCK8/z4+Pjvb29fr+f50BTGIa9Xq8oijfeeOPmzZtZlvFfMrBZFbOWXh7ASZKkaXp4eHhvu300qVu9OJQjz4XuVj0SUW6+y80ktVY0Shj0WZqJPtCe6IyH2WlRotmAt1b9p464GaGs816EjabPWVtSXFFJsWCpCoGwR0qUHopruRXKs0u7sAs7R8kp9a6QQLaoME7qvhnKOmhHZqIUpHI2h2NqZoEil0KQQd4MkRKM6zoTam6RRJzKVpAO5rvzRuORYJWPolyGUl90sEoqVTbum3ZNwON6eEwih+qjbDDWoCQATh9HetDs5WFbOT7EBhMXsdVmhnrGUkSZFblTFK5bVCVJGZG1Ajs8KfnGBn2F8s84l03VjeIZq4o8cTxxzcJkQdAFbgm8rsOHRfQnh7SkyEV7rvQLxUA4yPgFCU+bzS4hySgJVaknrcM0VDRHkj0vipu9YH9/Hz1inhdF0am4KopiMBjs7e0NBoM8z+M4TtM0y7LDw8N2u310dBTHcRAERVFEtIIg8H0/CAL+I7wnqr89eeW0iqKwbfvJezc/88UXuRiLNZOIR/pdo++EVLDHJX70Q0xiaqcS9ChLSkk61Eg3zCitF8nB5eNYI8AipHDrGxW8qYw65X7RsyM9+CjJQHGOX3KNJNeR1YUcfMHNr7PN01gLrAJPirw3joAoGJBQxi/Vu6RDstLVyNb/IoFFaJQ4XF2pSr4iH0UzZCChNYrperTtsAkrmyNo3IeITSnyMi/QmiPV/dJjKQ2TvDisRILL0cW6pkM/K3go72faHplYStJl0qhw1MqT3439Zd1FvhV1xVIXjoN6/LLI6pybOhwc7VSJLZfNMwN60jcv5a/avlC2NrVuub7r68fLprYKzyuRAQvHLV2EADyAuIDprYM6JG98MtSmmEBJs0v9Tb9//MorrxRFkWXZBq0THNeyLEe0siyb0BoOh+z0VlU1GAwmk4lt20mSwIrJsjiOXdcNaUVR1Ol0iqLo9XqnYjhJkslkkud5VVU/+SPf/+zzb0hpsQYuu5e4eRh++kyrsICkMPBgqVGTTpfEI5SorBMkloWGMFR363CLWHIcy5BELyzpgvplpE6ds+ma6wWPxXU9HzHM6ZQhfycbgOoh6MXl33yuWR/p2LuK8uiSILKr5QNIN9J7POWR6fyKREamHMA6olmXZzV+cZ6F6gJxFWWJYv+idDmbwULfu3P7lvb3miYGmmddAkYNAK6uEFuhzvQqoMnDVE1F/GAk1aR9VNPIMb0UjjGwxuMPrDfVrAnR5gqsZVRvJ1kCz4a+nw4ER5iaT4VbFBzb90gr0KdoJPBbswyicea9svjaScjWdq94B01xM/V28c81/o2AM0sN2ia8cRLb+/v7juPEcXxwcLC9vd2hxWrTvGDWt8PhcDQajcfjyWTCYPY8L6X15ptvxnHM7isfAq6LbKmV52jD5JB13bw7s1il8888z4+OjlwXLrTrQaHx2+AJowUPnjC7tBJmIYvdc+Hi1WSXam+0WmO3tsgIUkqp6bOijZ2GeUVCoRDTCttHcWZpGazL/TmcqRS4btDX7pgSH/rk5HW1OmVwuDBBn1aNEfXESJsylrkzHPeQIjZXGKUpjBIxQcUB59oGJblY86nDTtQOLpQ6/acCnLxhFHeg1Dv1onlEb8FGsS7LJQlJsINxXKtL9tGbzCqqgUH2lTqqXJKegR+wW+K5nud7RnDINHRlqf2gBFRpFiepigjaDvMt3AIIX5x231OumHqO0rNWSw2NHo09FUWj5+kXgYgcjseYiT+5CHk35A72S1lSqqBHJHTdqcOF1RIhVZoE/DSIH6hSwfoQcAmBpNDLMkmSPM8nk4mu/2UnFhKzKNI0jeN4PB4zdMfjcZqmZVl6njcajUzrl19v23ae51mWjcdjVr8Mad/3W63WXPQydNM05d/z3kZOsj8spKRV5U2NiGujLLRhtTCSPPRITkVreR8JwfgtAkEkZMVLaixPtTgb7E7M5gOIFGSVSTzVrlTEkS0lZuah4Izn0mcoC94QAXUPtuNo55CaSdkybtor7ExkWS46XRUIcpm8eurTNo42u0xRokqJVRGuGWRRUaua01YZjN79N95YrHAM5BbspcLWNotUa3VZh9mlAp5tiYpkf2VVnI+likXpeNQOtYq54c+2bdc+putJbTf3Y1EtND+8WvBO1VRIXsFBxIZjRTgzMLtrqaFb1yAURbhxqzVrKt47ZSpzrl81SteNnDj83KcP3ZRD9HDaQsIi9HY+f9JRZgg6oW7QeWx6iGj3NVjexDRUC68gxcvoraoqTVNWv2ww53mO77Lt4XDoOM5oNOp2u2z6Sv6GFju0FbhpgF72jWcN6TzPGb0MXf72qqrubLaO4gklaguxH6njnp+E+QlEFlPo4IgcpExH+/C8xbuj46/ONv5j0aP3C6YTBeHMYpJSm045SGX0241d5pMsh5kNqLqwRDWTiAjRIbEmPuUhii9P/htjiZ6OllyzgoyanOr8hrYFOCDA3az6Qsm3gIrmjkAOfEpUjs6QRBPoj9yhCIvABScWEaxQxxO3MBjQFTqwOn1epBKnkfhYvV+4JN5rccVr1wVMF2WWZfKM6fwIjcas4LAsO8vAEuShxqSYrXlke0syus2lP05lBGTrdW8gRxnrHJ2yPZrPTOm6Gvu0/4plrpZZTQWiehLrr0a1gtvYfUYtlxXoTgD9Ky8iRdA4d2fUbZI7mabpZDI5Pj6eTCaM5DRNqZMeNrPjOEmSlGW5vb19eHhoAth1yVmtKta9k8kkiqIpJczo1eErRi+7be12OwpqTiruylDGKMJ4bBirlgA5BnW4UX8HAbnOfYotK9sqL2mEG3V2XwKlpXiztTEsBo2yaqRUS6lBXdKjrTlSwtw8NK2QjN0uM0ohFQ7+ra52JIXG3MV1boxsW4laUUNb42gRypRUryURvz8voAWMt8xxA5FvoXvxPagWJMB3dm7qzdUMf+YW0y6zvhZpqTt62a1UYG+E/znpxEtvreMU+HfbyV30OUkt9IxjbHo+juVIHp3FRpHTybCo6gM7Kleqys7r500IBJmfSsrzAeHYx1Taw0CvpMS4LgRN48w/Rs6dersY2lOMP4p7AYcwy3LlO+CRZXCfdHkQnjKSwzOfcOPGO0z0zgXzlL/K+QU2jDkW7fv+8fFxu93mxO94PNZSSQPYJ1qQfr/PPnaapmZ+WONW/2TjnHfsQ+99x3OvfVEqImvINYSaZghFrhMZTz7n8J5rDJN1q1g/bT4HVKOFnzIVQ+xweNIqv8TOMxnDlhjDctglLA4UqA5NCBKlgckexqubrIt+bRDVWl2qPlRMTskR8ajUlZi0eezS89uYS0RCZRopHPGta0ekY1HXfuvegkYwiP0KUpa64qyuzMbtG3/NoBVK5LIoM1U3qLO2XFTD5HOQJI08tt5ZRWjE4lmqPZTDDi/Ec6iEk7YBWShCm+YwN01N27Z8IMqz/IqOk6uwwzaG0a9HG2E+YL2zoih8URRaDOniLSORVqcS64JP2haj9pLPtdrdJk+CNpZAgqmrr9GYqaMeuVu4nsemhASAOAb7pedffvu9G5qvdQqoBoGyBLcZlhypHgwGX/zaS70APsjGxsYjjzzCgHRd9+bNm7u7ux5ktvjSXKfled54PE6ShH1d7XszaDV6WdtrdH7726/0B8c616BwrjdzzrItzrKIEUshJaFKp6iMPBFV2GUQmCixaIh2+QQ2rCrSolMCxBQoxKbFwWFWDNq31tYsnGqU/xoVtlO5CMGw5FzoQ1ib0+ljyAi9mk9OIz4EB7WuQeCgkpxGis+wTwjbkph4y1o/h/VMD86hcoSW+Rp1z6Yy9BB7zTMpOaPjxTUnqoHLfAx1rLzeTQgRDm6pEP9MEkjVWumEm45OOKXjFmXlla5bynbaNlwrnRrVokjKRYX/mSka6TM8rwK+OddqIeGslvTKzKgItREkm3XBkJwMKmqelSN04cRIxatA0qQEp6dqOGPPXaoFp1Q7GLbo3yzPDwiehA/yRY2SwJCgqAdTELMCMsw6smWiV/+eKyU9z3s13XByp+OXd0eZ9frrlmV1Oh2PXBFOKfG1sQbmcBeb32mahmHI4S5tR2oMK34mKWjxPG+zt1Gf9oJcZGVqM2jqZ10Tw2kvVAQco5drnrkEFQy4bKaY1em0ENmq22zk+Ng6wbPYOJIGPVpZhhIxXqzVa+IKoqes7SPFSzVLTCtSRbpdibJHe0g1DS2H6OpCcc3ZpA4ExXpZEulNETSp7iWKzpJ8n2p8kMwo7wW4I41cngjD5pAPvmHTxFV+rurVTZB/5d2rQ1rmzTPJDv+Wg4RgJIXhROksEOVZVqpKOgukSciMWijUpaGCLkMSQ3QvJtOFhv10x4JxVZB4KlylnSXdSKQ2REVaimk2j5rSQEkTiluSrqNfVEkN4l4t1VkwqZ9UYa8Sj0VRR5LmusGmEtYvYDAnScIWTWb597POWwPXKybh0aDjoSRrY2ND5UZqDRwEwWQyMWNU/PkmdHVsXCP5qXs3fv0ru1Ko5Lp+6LfB9oqnqtvx2AYm2kVsJsCmWBlgec7YR1x2Q6JWOcK0ZXKbSvtpA1IboY62kthE4rp6Nh2UlSSN7SoVKgRSU2eZmc+4OIwLIMxyL/qzoknnWDZI3sGBx/Fw5vojj4CKRuzSQqABwsDJnQKkZqrgWPjfSCrh+qyMFYlkr7Rzy/Rc3DNvRI5qp5pNAxx+ghaFskrckcpK6yh23eZl9jepBL0QbuErPP6eHG4MCW3VzadjBzoFS52AVBJWi3xcnM7BeMh95KStuG1gKp5B16Tz/KqBkTocENMv+Y617T+T6VT9XVRGR11YSoJKVolDI3IOZr1lYwkxNwNYS3W2EXXOX3xvI1bf+AjafwpCOTr6OhfDQjhsYJjVpmVZx4Oh5n+lo+C7XujnECmtvdR2nE2rj+3PEZ3OsiyKoowWo5cD0VrA6148/XVSe2jy0iBejK6NGjMi4+pyDiXXyAl1JUmsrclaNnFgipI+XDwFck5VKKXSKjqYzdTXjhYBYoKSVIF3puxPvhVcGcXKtSWg6vH4NvRFQJJ6vs9VpsqvFvtNZXr0RBa5JEOzUYRHgUMdNN5TIIXyt3RCG7uk2Ul1rJvcSSGEVWkXXS2gg3X0F944ntRjL3BbFHWRKJAgVgPW2G9OrNmoDoHtzDXcUKqeD6eCU5a4EPGuicBtyrBUVg6LCIgsV4rjWQIwUZpmBzD3aWqckdopy/fKKuBwN3CsYKwsOl0eo4LzZo2u5lvQ2+QWnlcUpa/0L6kY6R+sG0pNIUfnVW0aPzNWZ27mZE7uqgYMbeOZpJZhGHIxBvcDTgWxplSuXv1+37KsH/mRH/mF3/n7BQ1isG1E72GBF/jlZG6K414eWT2yTXznYPjkdrqxscGpZnZ08xyBN1a2OsinvXEtLwaDwXA0lK61WlCqBvUZ203FgGpThSQLm4vCzqOYHpS9ZJQr12UG7LvViWW2vVQNL6Jc0kUk9iuOOcJJLFaMCQyS4dfZGTrxVI3Ps0KUAy62MGX36b7IrxG6V352Np6s63pFgQhcyU4hrqzOUKupFXRCPCuQOnBla6huHMNU4QiZlI2qTnPHd3wd0OFwKNXAeIPj46mtwUSOChUe2A/8BSQdU9+K/UctHbpEUxEDkoki8S1yMYoCnpnlITNKTQM1bnUrmmHicrRLHxTdUGqGphFFNOpAptCra7boaqUJAwKFNL9SjEIdqk+aGQhmrgdEfzz0duRIMZLgUx6gpPiNimgpUGlyhKvf4JmFcGyF+o2VHcsDs+qXxW+ng1vu9Xrb29tcPtFut1955ZXHHnvMxHCr1eKGhE6nc3h4uLm5ube39yu/8itRGGobxWiOZ80lXW9ce1PknftF8dTREUewTKxO6V4Z2aEeNP9NGIScA1PEtHB67IJIWua5jTxLhLx53hsEjAqndAuWdGpzKJFiNv1I/l89HrbNMxuU0xx69Nl9MorbdHqZpJJc81SC2HxGJkmeSBYSx0bqVJd8qnjsVHCIxbA6o/qRSriM6whQAQ6bWSXldDGnIoBWjGK63pAuhSrZuLWKTdamXVBWhfiNaB5EUYNi6OPey4KqFHWVEMXEZ6YlTMtaGl9SOGSSiX+PERaaDspIneoi9lkDFVqOtoITqfgNiduylNo0msIoppsSt2z4EqWQ4nk23B5gmPYDZWEGUTvyZJpiTv0fPSd9sIV7WSfWUX+tnRFq5Dd1YtNaZzZQHY6AskIDFpclcCRFFUhT2QDs2KOjo06nY1nWaDS6e/dujQRa7LhyiUUQBEmS8G220TmIM6hKVBtiRc0gIb8lCP3K+uZu/51JYiJTR6E1kk31q//oURZKG5m6prBZW8NQ1u32tQWl6GOaHplqUWKLAAlREp+K5lBGJbDZqwp1PCls5Zof9llqgcO1XZw7lJYL86SxJ4o+G6mUsrU3CyUmLQaADgI07ERYOMo2VRMYn8NXj7lD5P1oTimbrs8zG854uxjGOT7XmPrMZ8qsIOZHqFLP9Fn8cFWspyy97a1tFZ1nyl8ZqsWpLLCpklxFzZBMr5lFrSaFV/aMWDhSB4Ltz0voMgjZRl+lsmnMXr2aok/qqCn+KGMZygK1+TofpPLmZmfo9NWBx8F2ciFUQMJTixVuqkGQSVUEqYoadZvTklY3OUsAsS6PEb1HNkpdAKHLnhQGJCUoA1NsG1FiDiJ7fpEjrG3WaZ+6WFFzdjdJUvghTlbnsihsbpwG89CVRxMOFqrubPJvhWbZCD6bytkMnqnGHxgsuGixgt2aio0MFsWwQ06wJwpDnrrwFNV/dGwrCNwoklZHthJVhTvVyRhmi6WrejUPuo1ZWJbrWb6yM5WhZ8qXOgyJYLJwkuqwmObjk0mw9a7hmOFqMkO+qD5VEETSVk/Z5/wb4QEnjgHtxTaFS2kmFEXmNgZSQ2NxZkj4g1hG9LpCv1IjCLVT9AmebdkFUZnYqMEobMv1jCIbI2fa4DBrEEmLzVYWPhDs6ZOtq65leJvK6KpAl0KZHk5BZavgEqDCcdUkiiukcmilcg2siaeqHGiGnPah8TAo0pkVGeNs2nhrHnvV+UxHHD2DpZ7YV1pFUhRWmSiPq5QPbExzN7BDl8rTsbKsSBwEr1zXecOD1tUIaUaM+BqMqWG02u12kiSWZVFd9FAXXRtFxJo4AhE1DvIp4YIWpSkAT9nSWv2aS9ksXIxTf4AKGiq3qJ56o1PjjaosImlpFpmqG0ffnwQkjQ506iRly0UZMB51FNZCylAE0t3uOXYlbTww4MTLVlOIam6tOkctUqGa/kBcqofb8Nuc75AYLqwGyRiL08cJ0ZqCw+QdoE8wEDe/JGaad1VJFRW/VSkFJFHrClQusKarQjucqi9m045HeOoEMDncSgCapS3Nxf44Amu+T/kh8bhYPLPrjsi5rah0dHy7eej5SZBNTQJVinZUpFlpTIMbTckXGSbBhClzjgsX01KdP35yLVtta6nqJZYo1BTPfYE1r4UUPxSFXeYUtaMCYCMNbjAk0UcqucI/lYJyAg/u8gm9QbMrjmNDTFOlOgqhJFIqFMhlWYFBBVWD2ngripz1m5njnbKWTZVrhsSH46Ei2RT9qK1WfZL0g6MEbV6zQ1HCT9d1qJIKPDUuojDtF026IjM9tSOgRpbYtQmDH3CJ1XNpOGu111gLGu5wJ805ZTlOVwRyKbu52EEgT1u2U3+PNojEXaMDMz0jtz7mnKYhWJYoAQHqEH9UMTy9kzxwB50gamo7KQIvjmO5KUWLrfxSIQLSNgULTHXA8O2szfR5U38t98hRhyTV2UHZQKOiBej1fdhCDbg2Mt5Kskh5o5ogTlFBmmhDyVyQIol5C4DVclS1ZRsipo4Q8thBx/d937Zb3Iiri2/4pMFdln6MxhyxRu08fGw00FSlb3a3KH9Skz+r2TSGH1j/AffRsFEXLXkA6qcu89jo9RgZHNkx+8ZUNatHBm4t6b/12t4HP9jAqs4bGY+jgW3LskI/RAO2RJ5yBz9oM9GkpYabz4R5pGCREv8ZNZCXHp1Kt0InEfgPVP2DuDQchWpqVRUE1d5iSmPUdKkI047oLlwmNFO0DPJ/TbMIyaocxQiqd0KzFOoiC6MjiMvpdYG4lG0qNj7tGOoImQgbm3031xA0nKcQsmEFDkPIiPiqK5e1pWCUdLveweGBPLOG3KxXQUQHqCnGZRKRD6a4UfQGuwsEUb5Eokmc6kLniq4JNDJIZtAP9+P7fiY3ZUopCUQoUmxGgRlVUiW3iEAYUrMsKyphM/5Of6YZstaFrxTEqZMNaEJGzS4wQEN7S2tuL1i9Q82QgGryh2Qhb5cmP2NUIJd51qZabb/MWbOllFNLS01d/2hZ1vbWlpmrM2OvVOSHbSbVRDEECc7Vylb7wLNmc+P2sT8+GWUIxbWkJwH9hnBGyI6R4JMMWq+jZ3jSKpRID18yLozSRrZzqpJPQqgN0g9bjZtqeHPNFjzXdlCBkeGS6AdXv5UnCxr6J1JiRZ4p7Lmlh6g5zUyVefXK0ca1NUPT/Fv22zkqlaZgKdC98bpqYB5lZx3mrZ8gBA23HxoNEraF2gvFQ2L8tRFMYilC5B+K55JqUDnkb1Zdc0HsCfEkviWmJOVHBHfM993CQ5uZjJwT40ZRliqL2+heMj+e/GIbViunkqn/tixdiBrAWUo9qsqivHBd94cC0lr3NEQMKipIzHB4iQr9qdiffBfu2GS1ZhhlTT+w7jNDHG7qbCEhbBYUiYEGL1XrfzP9a5ZSNg6b8ZdCHm8eoAVPgb7Og7dLDOw6+Gy+Zk7IqqmE9bwcKQO2rDAMQitgJ53rFlmL0sx77Xch3crd2gLaxtRgB/Y0JI+MvJ1KNEr/qepBd2aY+lUIimbqcQjKtnwLhCpRDc4SSKZAFGROjlItxeSu5sdTpL3hN1FjqbG9GDitcTZTPc2p8YZTqIetaROMQ1PGLAdoG1ImFCSjKzSTeVPGKX8ujA3zEKiGFa7w5CSH3AMZuqLS2eg3a86pMNLG82j6e/UNKGlpmCe1sFT1jwQsMmRl2vEs/+BUZEkJGkWMBCIyPmrEAliUJStZzgyCsFtPc50TYiKbC7EcFD5A49tpajt24INNSngkKWiue9BUUlxAO/f2qQIuY77bJphVKQKZVK4jnUA6RjAXgVN10Sx0yrIcDEdwBkjL0T+II29k7xTBmrhLZZIEszbz1Joyoen3KJTUU2WNHrYqTbO6KpdDO2gF54SmW1QVN/VSgNXYqrnlH2h6cev4dm1WCoWwLaRwHLTDXTc3TE48l0LQt9DvbCfwwyiMtCPCLneeZZr5TOVz8VSETEoZW8r+oqovB5EddQczdQ06aaycNhX5VSaD/iEtyrjI0LWsgILwFMKoSougLGEavlQ93B3RpV6no0s4CLXwKacfobYUadouIoHCWwelQXHngqLU+FkSDbrMQ6iZ+syLNpxA5aCyEuJUPsxqkt/oIYarxRWOunCr0dpqpLz5B/af90+Io2mAOsquqSaFSsRR/b7ovMpoVB6hU0fFxfhQpQKQBhA01OOuBc0Jpgefdq7Fs2sGbOmzI4+jcujDWNQs/CD+NHVU2+0282+4rtvv98WhR5aZ67GJLF2pB9X8VNdpvHHUjJQsKN6cio2zS8U8B1mWI8yRi2nDEW5TUdPVIk6uS5phz4Bpx/fxH+ZBWxaoM/iQwfKuGecaDpQydZj2BNpSaLwbZXpGbqTGM2qJ9LGWMjmKpvN1S10i12wh5sqGfuGh44PGrFsg42dzQ8Zoai51Q9xYZKMxmFVnYV25pfpndOEkSjSMnWabXoVsuMGfSoo814/U9CB0+wAa3LlReDdu3NAPiMu65mVAGwKSio9wlrmEu7AsgB5xZKZHrp29mp5/DosO04qUNAZCRLrveYEHTjjaVmXuEkhYfVHatQ4EwyMX7SwmMIpz6RkgtIuaEo5CF67nzvKKMiWa1FKTwyTyRYajqAyhrgMn4cUNHOxTMYbxI8tKCgqIySCgFS2hi2xUJAPShn4LvihVmlU4Tl0FrQ0nCaEphTyrlnVaX6tz3hC6EEykpnOkLlIZzLxr3G2nv1Tngc0k8Cye43ii6EpL3gNOy2hTnEsyZh8484GkSUZkdzgU7JtIcp7Oi+RDdScFZ6oU0cUUi0OufqMCPA1Xpa6IIuHNGUmh+9B2quq7mhM+FHrzWiaSH6UNHFYq7MMrqmxi61PRc76HWvroGabTbatGjTAYpRX6OEZttE9D5FC+GdFVjsR7SZL6PmIbxpnTeFVYnnNxSj7WUUIuUG6YyYaDN3cZZpiRsuYGgzyDJKgooshsxlJHpmhykRzJT+pYIloP17JcEPnhyt0CSSj80hNJpQqFGfsU/UdTeKu9QAyB/ATKL7JvbEWCZMl8kPGv7k2RG3LMBnV6knxSZ52ywTTdihoZ3Z3tDR1JMhsG55rT/DJOAvNqO7kd9aRqR1f80yuZsq8WOmwu0uQY8zPNE7xIG1dV1Yrauj2LgEidN9wBL9JhvimiMAKxwlWfEgGyIALcglpcRDQUZlLA8KTmr5KqfPNcCLJ0garHxemco4BK02Wb2Ao1i0fsO8UaPr3PIDmRqSKSuOKnD9PP91yaCSMesekXG8OZVIfj9Ceb/TmNniHV9oPeCG2mWpXIG4nj4D8vy9LSqkCbSrBhi0UXr6iGfAkjmbKwbi+eEn4IHJVuBc+FpgvpbqG680sZA5i8QBVa5Pmq0Dy8a11MjH4/WklCVhcqz3XUjSq40JE456zwKCNu2NPGmCZq4MueV3+z8IzQOYH4gJoAhllohWHQakVVWaZGCgqeqA8eSQ4kcpgEbcDSWDHX5bOODg99f5uPyNwErPnstTfBDM+PPPJIr9cvKVijrhXqirYd7adgkw0jYoRlCEMD+V5xMnS1XjXj1TJ6q/KLskCksM6B1E2XMgbFiOXIFEpJ+pKZI+wSwlqoSiCoOYSYa3O5VDF0aPcaFkSlq3ckMyopW53qpMyzGjtOQSMq4ZaOeMlXlbn+yJOFDrtCgI2bZ6mqeFM8HdzhrNl16lzQAntE943QKAssrmZkoaPot7jbnv0vyuSrbk+Oa3lcrZ/Z+AyKmzekiNEevfhQ80jrsnIYs27lli4yzl5lw47nDYUoQVG4rnRl0wVjMrQUrMP6quwJdnqaZSg055XBjCEYo/2ELVabuHWU19SwW0xxo/ke1ImpxR8WtZoVeoisrqIx2idlVA99r2QByRGh6JiwGdUS2kvIzRNqPnn4pPUr+Dlzu3aQsWD69U6nwzxVmpOdC004xLW5uTkYDNI0vXnz5r1796qqevXVV3/5t587mnlQMi4dTgqqyJiZ3vP8dhs6peMOTniy+pyZf3yrnxjkrzS60XD8dExeOynGhHfVwi1Fxnpcl47iaCeoIksHaSpwm9K2UwxHgxkqtOILMwKcXBIjEl9FRbhGWM5YVfkVyAy00zuXh3yu71CPe1ZhJ6M9WU4Ss1ug44Ivlq5T7B1T9HBVhvHczTx5DiqcPC8kz1qBD5IouIjEzvKF14wbVKEoNP1FbVxNf5n6JvO5quC4xGeIspuKMMnY4MYsGlSYgrZZQVbNopQAR/NOjENDRZJU0mnDRMGmYvCP5/k5YlxI1tuK41JVhzOdutFaMz+byqQR1A7EHGWaoASxFRJBJfgSaLIhfTsRNYgfSXEaJhxQAzINE4CzECmTqlJMGDuMGLZ47Bwc1r6TmglHIibwBS3cc79NaxG3++uvv/6ud9WDlB555JEf+5OH/+if/ErjRUblmTRNkQNPzx75tyisLfCpSiyzprIRylpgo0jQuHKRuyuUq6IcLTVPiLtwmX1iQWSEHpGAnuOhfBe2E4VRK2pxNau4LDl0AfwO7hxQxRdsm4jqlNGiHJUWNUqVLm4jX1XHzHTZEbn2dEKlpFuuXbMdqzsSI5Mrz/BKDnTXZqYCNMsgzl3N2UP6jpoZgt0ukkScfsO0IH2F9Buv026zUuTgs2NZHDqCz0yFERiGQrUcug5Xhg8TcqUeQ8k7GLhcFqYqYLjam8lwyOZGWFlL5RMWxAEiXGYji+DMAtOdcLlzRlc1NtYK59R6JjmmVclpJxU3oAZUD2ktynKzmQDRpmpSJDmz4FvIWaVYJTiHiyLBHUzEfKC4Kw91kOmPEhwWAjS3hWAy62Gen3DCZIZHHnlk6m/+wo//0F/48R/6+7/4y//1P/kVPe5diCZKtDKS8uJQsQigztayXRN1Pomi+toR4KScBqqM1asT+FzLQG2a5uwC18110EG3ZM5bDQIJuQbmZ4RgJf2PWv3apSSmNsk2M/i4nGSen9UIICvGZ13oIg6AcsHnTe7mas6pXRJ7VYXb8By4BKvdklezxuFUCz8LlA+ZJezM6k5UfiL0eTYSfyBRf/gkfeBrMd2Z4+RObmeOY2dZbqNTmZITetwMfjWxyuYJDpxobCMTQGqbjhBF7KhNhJ8HUFmWUjQ/tY9EjKGnF9mNvm3J1YsRg8gy7UKawRmxwaXKLQ0OW9XcWdVIposBzHcjMYlaAClzl6a0UCU9YpRUV8ZPkMyAuWneqVPOJwbhRDRpwk9HPoyaSjMnJcIDdKWI4S0nnejLDN45zR151vUXf/yHPvzed/zMf/5fgseXXCaxvWdMBrpIPL7ZD5n6y6nSaGaJ0DqrHnSiZnGoSfAyXtf8WN3cT2X9dUWSmEIqrKPNPTPyz1KBHQm+qYLZGsSKplprRATxKGuZSTNHqwplniyla1VsPjg8rloGsWenxZDhBeCSIfddxynJ8VIzPxcscUBtnitj1V5MFEUcsVO9EAUgpgLdHDxhW3WqnNFcAiuCpOujWyjLfR9ni55To0OZ6AL0CGb+NJmlMePRoWqUsGiDcAZt3yWlczhmgCYe9WClkNUYvVI/YcUspbsmJGpNyFRtW37gs2+E/lgxH0SpLrZP+H+EWeb3UdpVhsmCetdHCC1HeRd0FmWkUMCragnm1qvwNGeZWcU8gyzmuFVc9I140Tnce6Jay6zcrizXh6Wkw84rzAHl9eH3vuP//X/7yz/1f/1/4bArR4/rUlkZzV76ouyUXtqExpilJHZsm/1+qRcykrSLPBelP1knU1+/8iVlDrt6LqC1UDSj4typ2A3/xrCGKvHFdFbBRnk0G4kSj3DdQIOZ6DdIqYEchWPmXD3HD76u39QmtPSoyX1xI4pJ1Sdd3Yb8MfG8OIbCSphDuJrhlPtneaoTp8r505E0YnZaFb8TBMLeoLyrUEAxIyCmYNH5lqJwlbnhCXSL4qgzJwCd7iB2ZhOHHUTHdkvW2Druq2JKqhX6BGFGuME+iFijRIjrYnZmWYY6YskeAr5Cyp1UUMOAa20v1GFCHZtBxo2eEdVblEEAEzSnoChoKJpd5mbJeq1VIPp5gqQa7C7/8Ve4bCdHRCIt4mcnqn3OuaBafn3f9zz9M//Rv/df/Y//nPPUeZEh4071CNRXbRDV0Jol7pld2j3m7kRp82QdjAmwXHLERGjT5s+cT6NPxIMCl4dFrWU5ghvM5uT50MNcbyuN32QKkUdbh66qqUJtXWwoVjW8GMsaS1M5hClqDfyAO5g4osgms7T4wiRSSlhlxBvfgL59kLfJ9unnW/NG8EljaU32s7T+TRsRehlZdJFDNgemKVtDNoXoGwrgQml5yMXgFr3X3rhvMjay1pU2KCW16tY5mg9HT2dB8oazdTV3o8GPUEezWRMqfavv/iQ7ZN6SAm3sDCgpcXNeUYR5lqHFhfJPEAs2AU6MxzlwXSx9qD+odEqq4vJc0G1JsRFFy/h1qjlO+rYVV98c70iSySSVjcIyN4o8RvJmFxZZ3Vx6vvUX//QPv/LKt//F73ytChCnZG3JVYNs2nIVh4neRatZGi0uoO/bkXKwtQySEmjmJGZDnWMLRr5HOzJaYk9ZRi51ObBZi/xwlmVuBu+uyDGvvnTQ7LpYz/NSETn+E8wnhLLp6tIMteheLSbglLIelrHFLJVOrOqXb8E5YEpCGZ1gtOuCHgWVrXDLMcC6DtlQ/kViZEaVoUpEq28V0gE7KwriXRGzgrmEpABmEif6mLFnyCMPUENGFBhc7cmKC8XQNEmXU26mu8PzpBRLBpfscbyZniQnUNW5dkC741KdGhU54GnY+DXn3Dd59MmxVnYmxclY4VJoj3O++HxiTmPDiQromQ6qljlMgHbqEmlvCHYmDbLcipOLMmvHcOyWkUHKfdCmhPaLcPGaRb0oitXcYL0ef9vj/rPfoMhw5bsls8ly8JYrQTmEoa5qYfX1VC00Lpv64BRdlUMRt5ZU12QJAhM8mYW8YvUpmsRjxp3h54QmJxEo4qMQAxqERemX4OGC9uNOBGqlseZ62uZS0rS27lT8BmUY1PTguEjYtznXlqX4lVLVmjj0DXTNSZqIQJKSJM7O0ihVp+RkGBXoI7mBS0AzD/fk8rjUul+vOi2qItSxlJ9hjmvsIZO8cDaICZsdR/V5sw1B/yO6WtTx69EqwrXJPLKqXEYbHuZI4PpSENInOaCGEeOQegUZnJ6kq9XUck5NaZOac9R87KiPpB5dodJONcoxF9dJYWoghwNTlStViAaRsziUnWq6Ayz/mOBbF8dplatHJZuVAxTpF04cFOcb1vLiNVck4S+17h0OhwwAfgGXZ61gUf8f/71/+7/5//yatia4EY4tnzIILfgGxVyUTh2g2XxSnemhOzDAbIVh1Gq1OQA05dSoeSvk4XFroe9zjErOm0aL4l5kEFLuAZy0blWFvgQhCvLBOULHuoQ7ciXBycSz/DzEkRLaVsNQkn/WLY9BFEZRiyRUSTkfWBUJXz8FhuoMqFr60JnWhBRr0X/acQPBqQdJxME/SQiQ8pF4lZ6AsngpNDN/g03DGln68kBO4uJVri8CDjYdI6hl6nXSORutfU/9yqnTgHmm1AApbZBF6flg94IJTF8sLQOWhSCPSoVrRgAziCqpnymnkQSBZv9D9jhLUR9BuRniZOHUrkapkJQx11Z9JlQria4wqb+IglW2BUslzUCIU8c8KelGCTANumnEam+B7U8wQ1KVgt/KkyRptVo8OjRJEp6Z0Ol0Zul1TlhJkoQhOlrSNP2B733qX37hRXWfokK5+SYv8q2b4dzqq0bMWRVIq1WeEJugch18GflivOE0cY9MRyIix4nmDibWcPybKdDOXVoSMZh92IhBFUmQSQl2npuHpZoBIWaFOrwmjzW2U4sNsrXx8Oi33K7OvmtlVeDvJNtCqEWVV8ZJas6Q1N2n9BtTNnEumkObMKirUpsVrPpAiUcd1XmGGhUVB+dIy/TB4yOEBJgqPyZxJUUNwqbH1dtqVgjFEhbUY6ibPGlN+z9kSTiAE20piZ+syKoUVSyqol2C+I16m5ONDTAskOFCXams5LM8R8mo52OKVxCAWg2pLBRqsYjgJLt4A6yFkVOYX2RiWOOFLQYFviVNUhwVWoHvI23A2pjQLE4dITZNpBm1IZhKqzo6LIr3cqR3f39/e3ubx6Y89thj3W7XWnpx/0NRFOPx2PcD7GdZ8eE2C/eRQXTBZDu7h7N/o38eTTThxMkOTlUUWZyKFubSP10sJbsUUJUVl/CyJUhEVstESRW1ug0Rg16jygmC0vdD0mw8D1nClvrALxVnaSQYwB9DpOfEQxJEAahI2CTRRT3stamEGBd+YRfYJLUUB4E6vEa8CZVVXOiM5+WXQRPPddyUT6QxaVeres+LokjR96D0SCduiE9Tqk94fgomf1AxHFKuFN/jBKEqw6JWj1pH1SlX1TWKkBO790aEDDKCb48nBqUU6mJhURtUSxRm1AeOS2f4F5kZ3JaTY4QCFvfTSVFDXT6n+gGX/yZtULDz6FRlBglHCjDgX2RNWFmexXSO2RjTRbJ1CoQdDB/jfHm0d5Zl9+/fd1231Wq9+uqr7373u5e+KIs4uYvj4+PxePwf/NDHf/6XfhPlvnwCmtYEH/RFJJgaijP9wNLsoZ6sVmfkYHO9EclEJZ4alRSSraWyBT8IQlU+yp+nDGlhWZoFM/ui8qhK8XskxcTH3SBeZ35ibR8hHiluWlMJL3zAfHzEsqDQLRInnFUty4BLaZk5ggWT9IiqeLIRLz9NJE3hubIEz5KcZjzTgD+jmdzb2toWMkzjfkxCTZ6zSgkSywmJEITiNfx8ZES5zC6poyAmXIU6R4UrOOij1BE9HxWytm3YohyVZneXpmHAu5Q8/GJwqaJOeTgke2zuOGU3Vdfh8nGFMZTAJFIzr2ClgpiJyZRU2GL+dxmBVKliJaFrZq2QxSzLJC/SLE3SVHOCqcDCnK8YZAhBZ1T7fXx8nGUZt2G12+0XX3zxySefXNKKZvSORqPJZNLv90MrHk2GpdebE4Axu8CWWzx+iPjHhA+NMz0Nd1fCP+IKaQmlfB4w/WZFYVuZkyQjSpMgc8lIJhOJ97igGVp1y57RlaTmEufsfRRZISaTqhfjP0kDI81e5NnxAmXP12Tpihd12dBpRtOu5VaplZLbsGQgiURe8IvIizUjdD0IZslELAdbaeImantRBU3YYOeQPwkeyez7SFowDuiZ0ZgDCu6qcQKUAII7QO4ND/SDSSwJBgqfE2zZfW/AVWVgG7cBS9QuncotLcdHZibLfddlfGVS5Yksd23Zmh4mo9cFRR6FDvD1vpQBkyyRsk85SHhqYQA1SeHSNMnSLEnVPC85NfgGhbGGLcGNFmSWCTGfIePZa+LmaprhVkX0EnxBinpMknhE/zZPQvzr33/1Bz/S4ozlZDJxXZeneCdJwrb0qUjLsmxIazwe8/DBf/fjT6Vp+ureYDgYfHMvGxV1fQixWJzygVMtjWwQ+56n+ifpLwwCSBETBmhnjXL9Ah4ZRmC2YlUa4bsuHg7BGWwtFIYQ1in0kLJ6Fw0vYVpWBDMifiqvXhR5kmZMCeG6Doc4fT8gS7tWYwbZiGlc1L0UEBl6cp456kCUgRBfURmPH6oGFXJtdBhV8KzE2nQkVcspYoOiLLWyLxgDVkqUOosfHMoS9aHlB0E7zDaJl2d+HsJ+kBJUzQbI8weZ0lLlXa0l4hPQnpRp4gYj36+rrLMshbOBR0nEmLy5NtG0QbEDs3CmVfW+4uyYOjfizUiOwkGdCT3CIMyzNGAkS6MUV9SZqlZ07HzEyjVNRynJkq8ch49JKyxgGVMkpCzshqZQ7zg6OuJ5n2wG8z0EQXB4ePj666+3Wq2bN2+eqnuPj48Hg4Hy0/Ktra29vb33PHVvPB6/5+0waZ771v2X++XhmAoBhZxJjvvsuZ/9Ct8LXNcnLCOumcBQkpuRZNFybkiNbhLIADMVf6a2E1NAgfPrAVlvxKGdK3NG8sCVOunLfKG6J7hLADPxRjjOhB1FekY4DACaBIS0U6Bxq50CZQyYueK67LgqKsScCT7JiOuC9bEJQ9gaHB5TeGbrXGYdcuyUSvGpWjpr8pwwm55oslkAzzcepNurqqgrU8igHNcJg5BqjoSjgIbASefk8jVb05GJCmNHMaAJTTkhPUSPDBYZ18IVKdJPwSmbRnnAoiVzpOT2Sgvk7MRuxKYbBvaRRmaLV0/W0maFXmiGlXwu774hPumL1P0QHWBFDI7EpND2PauMKJQJlGZZWpVU9UUOglVZ3+5XL3x79+m3SeN4GCLnkNB666232u12q9XiqStz12g0iuP44OCAI1Ucze71elEUFUXRarUgP5Lkfe987N10ILa3t0+YAjG3Ibnyez5mSlaW7Yah44ew8GnT8Nl4+GwoSaxv+XgCbZgyqYguneSXSxWtsKnqFkGVZC7ksOsExNLfp9Iu1Htu0/iRokjTzHUnru0EITQmutVUkYoQ7nDZ5WkmhimYyHyjZI5VJHZmx7EzGnHNFgo7YWiHbGyXVDdqFXZhVVw8J2Y6eGN07mVaWkmRg5nhYIOUBVae5wn2iuSPMhp0AbOpiBCE4Mg2goLaaCFNd5r7PhWZ0MYDokxyJwX4wyjhz43y9plCEY3F1nsdjUTxKF04tYCF1AIJG60CpSybFhAWLI9UBb/EFqfsn7mr1uD4CMgmPh9Fq5Wpc28MxLF+9StvPHqza9s2zz1in6qqqtFodHh4uLOz02rBxp79oslkMqbFY5N44GBRFDs7O6yQf/qnf/pv/s2/2el09GglLhQ5eQenqHaGo1HhISSOggESP2grarlR2Kqsiko4yM7IUtOyXUQhWLejiisEtKoHzYlFegXMSJRwRpHXarVJG5MIZKNJJWkBlBl9eGr8go0QDgwJ1YZw56CUKfPhqCfkYekuKElYLycuqjleA0LlieU4ceK6Y2HQI1sSMyQgu2Bp8FEzrepZVhLuvZIvgr0VS/wQDBlCqdC08uXG0Z7A5ZF6ug6XXrO6poiQCsOhBLdxyuUqNI8Vl5VTvkc3bcv+KKPEomfm54Gf50EAB4mpf4g1cBn1W+teQ1pRtbaqNk8BJM6UIfWNQjiEvbgVk6ZVUF7gjHEIY9NUnoQMB6LUxrmPsqKV4nxkloUCad/3P/3sq+9/cuveTieklef5xsbG7u7u1tZWv9/f2NiYzSqVZTkajdjv5fxZkmAwHWpakiQIgjzP/8E/+AesvRm6L7zwQrcLSWF2UJxw/Qxgx3ZRitm4KZAcsnvSAkVJCMszyxOST2kGi5f/vfFAldnEKGa8sq+B0l1SK03byqGkvHyE63rtdtDp4J84YU55WjxBOpZEcy3XbT6D+rLn4pYvgMfQM5Oxa7tR1I7CFgoNASxETNIs1VPsxW9YGszNLUYukzn/UdvsoCAYNbltS2rlSNBy7rasHJy/Zj7VGwwR7eSK6pONezOQg2S3sBcLxzUzXwRBxe4KJqUq/laZUVyH0uVPFIVgrjUq0NVGgvLudbCKsrtQ5rgdjqbDc0WsjJu0iFtnFsb6AKjHxqEn6RCBupiknN/hHeBRtdJvyk4LoikcgvB9u3IrGzDmcTNkXAh8Tn9yhsrmTaio9kCv0ipDP+SSQLu99ZW3rJf2j5/cce9uY5hoHMf7+/uPP/44K+EoisxepaqqxuMx134kzFVPJjQ7Tq7r/pk/82d+/ud/nh8UzwFGfIgO7hwjubnMv0c5cZFZjpR/LDQ0LEQXXN9vt9tlWfGZT1LqqdDpFTSN1BYcK1st5eb5RGZe3smRvywYkoS+sEflUxrJFGioyaDqMzEPtxLLYNwiMVjrOmGzZFvDQ61GZLU4Fg8bhu6rkCo9bW7M6/dqVFwqdldqeqEkiVwA17UUKIh02q223eZxWaWZNDESGqV3cHDUhPXC9IlkALhZgrZSGsN4SLNKkRCMA958btdi/Q8Fy6YVV03Al5gD13lHX/prxfotrLiICfQUEAgCImiliLFS+vVQciVo+ShQJjahclcq2WEDQzJtU1+LbBsSi3kRxzFAHAqUESmns4I3SZ5vHkWOeT9qV8kbwbezlTk1XXJSjCex5U2QHA2DoAzDr+7aL+4fP7ZR3bvR3djYiON4MpkwSk0As+VsDvutT31ZdjqdX/zFX6SGLR4o5Y7H46OjI04vn9zMMJUERpraP6WkZBrJTuVGrShq9agvmmyNnBpfoe48VAFoeojmJ5y0ajBXllOCgkfAzFQIdq9XlgxmhP8zYm4SnhfquZ3WtzzZlJBrPDH1XfqqbBpjT+YEhiC6fhXBcbBKKIOEREeapAhqGAeb3qx1H0e7xdRi0cWMOWJxSA4UXh4JKU5og2gezPn0IYjzKQ/C0+7ckgsAYbVKZ5eS9Hx8bSvNNBsLH5cUJxUyKsEUzEa4/wTEzv9eAQsLsjIvqnxc+D68ZJz3IKT0LjN41FE3IDYWucVuoWqerzOxU0aWtrPQHEFFH25hFzmKHGOKHzKSHcsppTmPCzsFwzUWpNGE5LQsnN3GVxqbIMY1VX3keTYegy4vCMLE90dl+I2jrO3udTqdXq83Ho97vV4Yhoxhc4jpFE0C/83x8fH29rYqWsQKguC111575JFHpBbKeP1UzYYZx1q+QcrYBPlB4pvcbjK5HBoSwOaVyF+ll89c8G3pbYdSU9WZAAnT/aHxnthvMS6X1D6nTKQZWBVQN4MaS8Y1KMuAIKUVOW4Yhny7DGOOU5rNRcj6cK2eVrnivs0NxJpCSmo81ccwu1DbtiuZTnjmxZ3TtFFcB+naEGw43BQXiePYKDyCL8G1TnQ5czBzBtnB5EBE78oKp1XBjnbDMArCDEirEQM3XhGZ64aVU79avYBkK0UBc8dxydtPXTdIkpSxFQbEkY2YLJnf8rYcjIUsIfGbugRnsXVj/iM5CzCmYlqe522E1nbLCaLo/v37Tz31FIeaW62WBrAGpw44adfDHATJhJJlWXJ+eHt7WyUnm1cyk0zSEazbt29b1hsL920mGgsFyJ4c/UbvbGEhTmjZY5rJEmIvyewAHhrDOK2llyMXIHEpmU2NynCposl4JBnwC9utQiIDhmpJSeipSz9j6kSXfdGzC9E9E7B1iso8STdUzHLFdLSmvl3uZmsj0TQ6MAL4VE2oOfO0DUCUy6b/4qPvlojRNRsO9/jCRdCXwIKOpO1y/Xz87fVVsMAQHmdyY1QPAU7hYDiEFxjHbBibImNFOVWLYwywK8BGQGXPCAJ5QSxmtYu6tCTGrzROEvQtLeGSnPiNeCaPdop2p/N977xF5a6ouBiPx1mWcZw5SRIue9AhZa1g1SVLCxFRxjsmtpMk2dzc7PV6WgPPursauiZT4+e/8g1j6KHKFTWvvihRfCbXBBlKI2/qe6u/hqvW4ziJ48SykWVg3yEIQ48qh/RLFx9uR72C6oiEj4i6WcoipnydEuXcRcclvzKuiUssuGZEDYVgk0pHN84AZuPGxFbkY472BdvOKtTTFh50il+Fvu9xIAVbcGaro7b1POY6nQ7UNcuYuUSlYbV7num3aG1MqhgfzSWTMpyBPE7sKXVU6eDyrNxrXIP8Tuq2hdQO+VguoBWaFMP3rorScr3S9asCgZwmw/35lvjXpQW/GVRIiO56Hh43z8hOVNQElBRI6J3NMZldz9yJfuCDT3U6CETrrt3j4+N6kDFFktnT42pBNtjMwiPTDNZlj/w3GxsbnU7H7AeWO10MY1SGpGkYgIyGpivJzvBS6SNStiy0tSJfuKvGcK3KwjFJsxFlOKSUnASk/ogZC9thAn2lNXBMkfiE3meVz+wCirmLkgh62Q5qv1jTUO0XsMwta2xaKyadxgiVJU0P03VKlevE/tE4ltpb+j78AnUuPuRMUQBZALBBkKBCzchniLHOSr+epK5fO7OVrHaKArXTeoCZIg/C87ULB04KFdzwq+dcJ9N/C28zHFqdaA5RlIYjy+HtsirjRBmo3P7tuu1W2/f8xPfI8UY8liX9WdVgfTnqh41BVlLfh4uB1803B5yEYYjIEoUKaew483KewhqxaP2Jjz31rifvdrvdIAiYcpD//s033+RIkiL/Qjw5TVM2iaeGkmrVqqc36AYGFgrtdpvl7JQGnopCa/s5z/OX3zgcZy2ktny/dFHpFScwOjh+I8p/QWTh5KUlLaYnVGU8gfvAVWiCZD8Ae4Zq/DZo0yzBLSGGoat68WmaCGFx9nqY+p+LihMHxV+uO6KJ1R6wTLGOCM3HDH4qyJ9xj2ehq/KgyoEyaZkNA6SyxEVi0NGBImuAnogYqvIcF+2ZIyY0jxcxzGFisaD3mgLvRKnAKKJSBUnWESWsY7WiiLs36Kgl4I4ksmeuOeYv0VYxUarbuqaNEasmJ0OC1oidWvpKSfn7vp/wL1ia8UkzOU5cnGYIuWEGrUV1+QSNRMYEQ4Yx06/jJAuSU6F/EV7dM1zAT/zh73nHozc3NjaosB/JHk7V5jkK0RgnHGLgXWXjWStJPUJJG8ycUpJ9oqfCxXwcBpvVwHN7g9mQfrMfD9KkxXy3uKRsMp5wVoMM0LMFJueuqvmDQ+72wHI9LwwodBNFASaM49DC9uGA7DzcnkohWjs6ajILYJE4EzemvhSAgpEMSarBXKj6L2OVVUnV7krl8mctsEG0l9S4zTSxLPDsU08HpzxCPYeJl/Gs5Ch6N3ZuUDSMFayhxFcJCFILBF1vXlSOW1g00S1AF6XoUyoEzjyIUomfwThX7jTpNp/rQpnAbCFiFy1FWxkR6vyEfmBz0mXOFtU/MYUHl1eewmijYUzc4ij8jKIwTYFkqi1IMqRtzKr3U769mhw+/fjtbrfbakHRaU8EzCWe95GPfGR3d1dndFgDa5bG2UAxv1KXVTOkOQnMyk2b0FMB5yndK23VWba3f3Dj3pNRGIUBLqwsy3arzQILlUN60sGqpsfCnaFJiHmejkd5Ek9arcj30LjHmo4YrSiOeEZ6iblLnAWOkCeZ40w42sLWNVkEgeP6en5ATLmqWuXWk76XNUNMPIOsk8QAzZyECmE5Di1CtywbQhFp9AhGYWji+hxEiHL79JNaqFB5Jkkm0mN+lAVFBAsD+pmrQRsBfRgpcVpUlQ57rbq4TsB28KTJrCBljB2efS1F9rmNDeClCOHZFsMYE4qd0qV4b6/XjTL4pYxkVUw7Z04NTgkcBjFA7j3ydlU2okwiCjW7LkaQ8qAtBhib0NQ4LmGAqY/Vv+ckU80PQtYWHw7TftZz1UzoarlQFMW33zp+9ClpS0ZPD11yEARRFFHjBFk7VBWtJFZ1TiTr2SvM8EgDp3jOBVekO/hG15vE8SRDxMpa61IjpvF7FLSl6WgyobJHtLKxd0PzGenGUfd2yhCipb6Uf6iP4Zl04/GYzgA0BE4pEi4oKHYcG1dAsw70RZ8fw1S9ijPJs3CIgcmYNEfpe+5GAH08aHrWQcK4aFH5e9s0qtFPI+dAusnPfcu0KK5DY/e4AdPptNtRGJLkSJGNTlOY1epMS8SUIii6E/bDTyEyLHMoVByBIaQrN7jWSpvQJt5M6Gpbmik+ZCiIwjAnljSAF6FXq980TQeDYz2+QA1Pg+TiRmtKkEfddSD5VNyyli2y3LIc6goNu70eRz3I2krWqf352cLkYTbZLAwD1y19smWiiDuLoJ8kaSrx7vMaAvK9/IM8/yIvJwWElTPCo2yBSDD00iwLmPuF1monWVOp0iwhmONUIEnmMjH8KS8AH8/V+WyN+KAyR26dKUjOZi2fZZFL43k+eJ59H6T4pkO71sUwBqFO4cJDbrXaYRi1I66+SsHBTV3aXMkn1b+wcrEBYRiZzQP8iYx0KYQqy6Ojo8cee8wE7ZTXOsXz3G63GcDsRTOMdRchK3PNmyc+pIFejm+nafrNvQyj3WdvGP4jJvwx7gwko/OJhBcVmZ+GZGPWGTXrItugKAnBScj0wEQBy739xnIdWFutFsYRCZLJ/NFJtfMvx3F1CJOfGtnwpeN63Y7vUO0X1zuy5UWhAUpnnjEIMndxVIum0Yjcz8s8yWx0ZsEdCkOhWeM67tNwzNRgLCM5WEWITSccBqSqF7IXa7eknkLKHZX89wWeNngw0TsJa2A2PLDiDVfUem7kNjik4aBiJijygoOb69G98xZuHWNSIc58z2uHYQ9ZBDhsaI8j4hFkJ6lMPUu4d6d83zsf0yp3qqyK+41s27558+ZUk71ejHO1A2L9ttvtOEa3vOu6nU6HYWywLIiONWs/NK8tryzLXnz9ILWjU2+5qZMlJaORnCBJ3kAyt3DP4JaDhqCEOBm3cxfM2zDowXcoSCdzh+gc72nJpVqF6ZoUZ/WU8KKTBR6/bpfHyhYayXVV9qo+BZO96IEQHF3D9vqBB7eQqvtDP1g8LW4WsYhAZlk2Ef8dA9f0WJy59gNdOfEnYHRS/dLKqkCJIDyy1DJFLQ1nvUkqfix0GNCkZW1eRjGZTLIsC/kXpeGs9S2VBcP/mOahRKQ0ZubqgrxWjtchlOoywzsx33F+XMV7dbEBr6qquCpLa+Ml61PKsnzttde4bIuDYVK4T6xmnBwyIW3KDv5XTlM999pw+U1Qxxr838QuAiSjT5MKhsnITeh+ZQAZo51jEKjioOyjCvkyblc5Eh55T512uyqtpJYhqaSwl1G5rG4VgpexvPQZ4KLbra1NKsYSSwShchGQcvjPDl0Oz6oQCUsmfnSmRlqM2JqfwAz9zSWCnlpkrQkLHqorUTKFceJhgf4HiqwUMKhRgTx/8sN8NasCgBhWvpwvLYN2gOM8zCj9dvbY1cmgTdNkRNVIlFICK2NdIENlpxH1R4RhRLR+Xl5gBsRXv/nq9zz9NkYm273spnJXIJdkadLfmctoJJC0LIDey3NOieVoxgy0H56m4MTVzrDWwGrWOrZoMpm8eH//uJ5DuvzCCUW7deE4OSGZnBeU4xeQC0WegbUBzCqI1TkukpfUDIgSxJVxO7tsx4qQ1A0tq4cngniEBBcXqFzxt0miNNKHyyzoKGG1kHy1H0Rh2NratLMc2s4MbSqe9WmNpyKbGrrEGWYsiYyQgUSUX8T60YoifpPrEllZliHjKDMzwA5QngWx8+4NYzfBSsUnLMUDriCdUVRO5akwp93F5rRWs5K1P0fskVKHAHGYM4gD11v2UYmAY2YscvsxJz1LRyMKdpNHUc/MMooAmJkYM6CzPI6TMEwioJjklwrI12RxhGHtnX7pS1+6e/euWaQxVWg1BWyG4s7Ozq1bt775zW8eHx+3Wi0u8efQsTbCzQ/RIW5Wv4PB4NkX3rKsOS2Eyy6Voy+JmhBlTw6Y64oc3S/CWGCh94snfHHxlHUxKxBd2inKUsW9oJl5WKmhboHe838duRV4lhrMSGYTJ0GeZ3HM9n0iPDfKaarnLXFPq5YmxC6krCTJEdKUIsxHhgVNSowQohvuxE2qz8oa7ooqPfC7xjBpcNbT8CaHaj3IwqIBDhqwfGE0uGw9iwqV0JyYhVnObvFiV0INXbCnQDuBZcaVe+TizYB26hsL9FLaDp3ULM/jJA4ScA6HYfTmof0edjYo8cOJIjaBmKCD/16rUBN4s4tN8aOjo3v37j3zzDOHh4cvvfTS3t7eO9/5zn6/r5Ko4uWyluYPp4LEhDlA/uXvfSuuVkIv9RNoSiaaCoi2oPF4qCjpoGZx9iiYx+VPREWOOQIyP+4i45otintVlTWJJ6BTtyzfc8MgWl6OrwbmjCIjjuO02m1wM4B8hu0CUZNSlAZULoQunzNvZ2uD5Q1qekgkUBEbyBzWiNg5N8PPh1jRKX4TM4FIhXkfOC6UjEhjSQxgXtkFXQnRnDUdY2pQbGpamrhE9izshjSLpUtSGSYUQT9hSM9cGGOEA83vyrI88dIwSIZtaQzkHKNuMOJYTrfb1clbM/erQW7yo/Ljm0wmt2/fJhLjcmtr60Mf+hBngD/72c8yvVYcx1wU3el0GMAc7o7jeHd39zNffOn18dmmnDJdQgO3sJuyEWw5qvlAbbA+htxnG8OQBngwsREmSRDYLsxDDOpirrcLQHKRl8jW67lsNBwxRJMKVQGuK794knMhB8xz/G4X0XYSu/BPpamfBh4iIiDJghq6/EHe5ua2GoCEUnyeLMMpB+uCF32vjFkB36SKmsYx9dxMwO7DCg1JLqOk9IKWmkCbFSEOWKQ6jWrQxmxzCUsgg1ZNYV5lsYQkohoZ9HzUxyfrMd9MTFdVFdNibWxsmNUXrI0lq9xEr0pdAoef/OQnh8Ohbvfnz7xz584//KXPuo77wad2vuedj3ueNxgMdJY1SZLPfOmlr78xAWmhty7cSqmjSjI3gnDU4w3TbzSOfc9lAgV+BD5ib+UadXLFoRNVtMyWk3kGRmPcCNVckVV2Ft/qrIsrIGWMEZMg08ASHvgBXUz7ScWL0o1ivt2jVnv1Bw9k89KuW8FFtC5ySWKNovPceEKE06ggdt2UilLhIVC6vibtvqCLUUrMJpr/LAw8y3KLvErzAlaAYibSoF0tBDB3yTAXRO7s/YG0BHDbBpcxc1k/k1Qq3um60GLqFnRJBpvfGxsbW1tb7XabHdqiKIbD4d7enuM42y33pcPi139/99d/f3cjwAjVqiwjOxlmLnNHc41aeKJnwbhlgngHzOk89CgfT2Cj1LglMsdZ3NabIFE3RnKeAMljzPINEP8BlMPAtqGTEexbVScXWuWqtehEoUaSmw0opkWRX6Fksda0xCMTxnlsY1GWaEmlJRPbYKTC2uc6Y471Oj58DK41npaufH0Kwqjgsda6hLS+rhOU2C9G5tL0Qpj1LsgoOCuIIDiBB3kWnXha02IKTh6ozsSxyO1II4pfllacJBMqomLnc42gnV3cBHJErqlMjiQrWncs6hC0menRjUqmKuZnzz0Pu7u7XNqVZZlt26PRSJfEjYFS0TzHqTAW9Y1gFaJK+WQymahyXDlAp+GWi1aZEfUU3M7ZB5LSZUkhACKdnodk6ORiaSSfoHKXWTRwNLWskeuSacDp4BDtaNYqS+Ym2k3oKpIcSl0QA6weMU5GMbwMzIX3tMJDwm2OeYQnZDBznRPDYAlVS/is59022UYwlB3LzikeGPjMCA2tTKo4Q1kqMdeY89pWBi24kdwatLwnzDNAM3YQFncdLwgiqi51eLTCql2Jy67MbbMW5Q4n13U5SMoWdRShTssM/OmQ9SyTTk7g+9jHPqZDygxdtszZJl/yqvhYjakGBh4qmUs0Z1AG38XxhKwUstOZVEBZKSsbTYZORsltjeQQSEZDRYgyfvo2kv7zkMzjDJC8OU3lLrOKArESLqdRTaU4Pr6/ZA6Sqh04Dop+cmrRqEoiHkjB1sbmCugVySyrx/Qy30th5zaq0GMCs+fyEJrpBY7PQAhBWBPnsGLPsIxkFYfPlrs9meOJ+6vKwiXOvlZL1W+5DnEoozoAIezTBrTXt6Ors0nmeYamJT8LdNYMWuTYhfK+HiIhpdSe76Wop6bOk4v1LHT3n+u6zD6ZJAl3AjPbu07Scs0W/5zq5mXv1/f997znPbqJ/80332y327u7u6zVlz/I7FxLkgIEcaWDHusyzyoykjVuZbb1eXC7lE4ejcGIEixEMik0rXKFdXRd16OSF/CsrCG5NuRjUNFnsGA09GLogj9rLnTnaCm9FQTmPE2y+QEK27aI2kq1RuF850uqWaG4WdG6oBHjJaZGgrq2rDzPjWApgNAzdpzEIZ4tq3DA8rnQEVWgldns/hxNy15igXFFNErCBO3soqptL8k8z029TCYDWGtdxKiIy9SfzFZ0r9d7+9vfniTJyy+/fPv2bdUBIcssfjY1c5qmo9Ho3e9+d1mWr776KmeP79y5MxqNtre3Dw4OlrokHhSknDXfd8m7IL0DAxLWQWFhXg8PN1svbk/XyakgOSKTIAInWlgUZYxcChdrwChYo881dxlxL6T6ZPmBuIfMzSWJDNvzMACIjBoptYR1TtOTjfDKUgYmJzIWRhi5FsykM546stz8D0PKKA1Zy+LRajRZBYoR0xE8320TiN3EiR0KA+cV81yrQ2Nq2inQNjVtqTXtMkMfzQ2JUFbv+RnKhqhsPVuyKO+Ehbtryj4zNMXN961W60Mf+lCv1/vMZz7zrne9y0zvccKJkaw1MxvPZVk+9dRTVVU9+uijOh1llnwsalY9GbfUYg51h+ii47ajNnG3BMyQnGbJkom09enkAlblaNJptdroHkU5F0z7Mq8smm3JROQXGb/gxXaNEfcisRKEHpz2WegSbWUm0CUVsorlclKKAFo04KA0PperQwwl619cbJ0Kpont0oGccWk+UbvVpoHNQHGS2Oj/bNa4qb68WtM6tl1A05Za054JtLPL9dwWj+cBrd2KR5Zpfo16VrQh6389Pj5m6Or2QI4/f/CDH3zkkUf+2T/7Z3Ec37hxgy3DiMgxuJKZ6zGSJDk8PPR9/4d/+IcXXcDcUzIHt9R+SrkccHeggw9oydWMHmHOdT2347WrVpsMQfEy1h7+XHQjrhAbBp4fWLZnu347Crp2p9fNwJYHZSzsqGtPHyxa1CebFWOEBsae3yYWESsMORlJPA+oAZRJ62eZzza7Tsnx0ZBtBBLRvtwCc6uOG1/8ogFaJXk1lGul9GAIfQy171HxU05shginMNNdQCFKdMAWK2raZRaV7noZyP1SP3OZAvjsyhY1cLMvGw6HL7/88q1bt8wnyhGsxx9//K/8lb/yhS984Wtf+9pgMNjc3GTWO87fctfu8fFxURSf/OQnF12GqYdncRvQgBPglvWtwm2cZFO4nflYK0J4KcgjpHOpDWw9Rsqiu/AVA5SZ0aDcQcrxDrBod3ooT7osJJubyZIXc8scrnQoucm7smyeRH5O6M4HcEHzPmigodQ/53nB+UArCJ0swzyIC1O8s4tKddCyg26KooRLHATtKCowMRXsrTS0G+z+ZYXZTtC0FUKgawft1LJhnaCPl6ZwpyD9SNEzcJKyZXfD80/u1uQxC5///Odbrdb3fu/3fuUrX/nEJz6h/zVNU/Zsv/rVr/q+//LLL7darc3NzVarNR6Pt7a2kiT5/u///qnPNIly9N9w3lsKdKklHcYLAsyR53tlCT4Kwq0Wgku1FlDYz21FEfUeyQiBLE3XhRbNje4zx3Iz4MJjx0qqcCqKlJtMgOQuIZk4bGOFZJkFuw4kqyIa5cH5XogwGyq6mFOLIq+VZzk9Pwiili7DzrLkPF8PAPMQQBWtw/+mbEJKmiGLqEZmn7k/Y5WlmLk5Y+Z7yClhEFJVgrUUQ+JRB2JRY0BClDWqymw9LSzLLPD1kWOM0JYPVcyjjA1lK6dseal3FFe3ypIHF33jG9/wff/FF1/M83x3d9eyrJs3bzqOc3R0dOvWrTRNe73eaDR64YUX9vb2Pv7xj7/jHe8wR66Yaxa9LjxYXD6zPZm4ncTpWXE7V8AFgV/kLbaombly5eDflMqlGbPuCa9nJCPcaVcKyY4gGWSac5G8SnrShK5N0A0oQs5U9Qxd8uPofNKu4iy3UImNaLkMAFjYAHvy8nb39pbZVrxA89w5lkUdvNb6Fw+T5IA7SICoNRTkKUk8GaiqVUpmupEIN+QRfNfO4Hhwby14bZaZabquxY6xC4sYuaaa9Z7mvJ116VCyhtzu7i6b0OwhHx4edrvd4XAYhqFZBX337t0luyk5ar3R68AzowQIOkaKYhzLKJCVcTu7XM9peegZSLNIj0XOzhIcNseReGfOcZQy2wRIpgQ1kT3RjJqNHM12E2hlki6UxRH5vyQFIj9ftpgDDV0pXgusEtDNCLr8wVOGIdKjxGdKhY+cUhLDZUm72ptMJkvuRA5ydlLCPFEYGF5HrbeegaFAS3TwSMEnaTLk8gApZDS9Kc7OF8QkkIOaCMFYdAWAsKbETNMLNaH1kpQj5RzRZ1KBABWezqp2UafbNdE79SDv37/f7XY7nc7+/v6LL7547949Ru/t27e5zGPq0xbNLnNdd3NjY5S5WVGM4mTtuJ1dXDYbYci4UjonxroQMVV2ssx0X7Ze4hQkY8RkkRKSnXan1+1tADnkJguSFUnbIp1sQpdMA8QhyQExoFucBN2ZTxSDpdPhOqJ6BPzJRWNnazRBOZ5JPYtZ2ythmAvxVH6MNS1xBuRJmoyG5B7QQAxJbcusYOK7VuPb0tQqS/QwEd1jEUWtwA8c20Zo3inAGEB5o4s4jpSO4jgBD0polPgQkwNSe36u59+dZYUbTz55jz9wiuqVGwyfe+65jY2N/f39drs9Ho9v3br1+OOP7+3tTX3M3B5DE8xJmsWY97YwLnVxTkcUhllWyJBGyj+ZsS4OUtIAkJOifetAMutky7Xddqe30dtEc6g4ytS0khUyalchWU8kp0gVtC46qOp6/pBifphNz2Wep0N3URChFVVlxRskw3PmxRHOBmCprJTJZriLcEFp5JKgtR0a/JemoyElxyi8Xvsk80atosJDjf/Kc6soidaDUFxEeStqhYGX5XZmFXaJcX/MMm2tVdnKHHKK8M2+jEoLkY8FAwZGa4PFZvno/fNvTJ5/45s/9v3PPP3E7Y2Nja997WsbtO7fv2/b9s7ODjcJPvXUU1tbW0888cTx8fHXv/71J554YqobyVxzh3d7rmth4g1TpFx0kej04vnBfEZhW5M2RkeuClEh6rGSD3JuJHc3SCebSMYAB0MXU9iPY1QmdJH7OA9055UeILDPBqdinWnIuzMDWDocFIDhDi8sHzNAC8yj9pg1bVHkaZKOR1QuQ3KY3Q8hsT/N/Gd9RCNTMGc8Jj1C3cRAfovsaTRBgH6IT+fqGNbKljE7N8g3d+V6+Tl6S0kZL69Jvv71r7ec9O7dux/4wAfabZCnP/HEE48//vjx8fFgMOCmItu2Dw8Pj4+PX3755SeeeGJ2rgKvWegqlV52Wi2ubEH3KQ30vTRVbJ5ROhUOxu2Cr9Ndb9PPKkgmptSOIDnDvDwY1zTbuCyp6Z/rhAm4QVhaGrr1sO21Zy6Jeom0iAokpFl6ZgDz4ydbuuZKabQ+LzCPp0BLhB+meXzmACC0Cs12s+wySWm4GVHyFgX0cBCSOY1+GkyPPKs5zU32RETH/w8kWmdf/M6g8AFjoSNbLO+MNUgRmorjuN/vj8fjVqtVFMXv/u7v9vt9ntsQBAF3JnBz7xQT7ezSzjAXb1mW9bY7W1/45lutqNVuoQKRSgsKZbNcBoyrEpk/qVjG/yOc4fs+xralwtq9rH23XiRXqB+i7cUBbnd7m5ubaLJHnz0dAzQGwWUtSysnWhU9Oe2i85c67sUtVt7qW4/wg4yHsyiRyOTSxAMC0LpgMgO323hMTq3IDDgVStOed5SOYU7jKFCTZMF8f2VZgvea+EpTFjd0NE+ITjeULVPioympWkvhe5YV5Bj7Pp3R0ygOZUnHGRVLlmV569atRx99lH9fFMV4PF4Uozr5M9mi/ks/8cc/8IEP/J1//P/7b//XX21FUafVghqh0MNFw5jjNPyD4wiaJgnVwUnqenHg+zFzU+Hnigd11YViXqof4kF6mUX9jN1Ouyzg4hHFp5+k+ThP0jynMg162yXmPjhRt/q+VIizZa5rY2ZyUTiBH0UB6IzQ+UWgJWOdG7oN83gN868al0GfSzNSUa41jhOiNRReRWA4AG98ShUedN/T55KVbV6fpzV3rsw4xnkQ+CCH1PXu8++rQXZlskYypDmSPMXhvvDTmj6w+a6//JM/+pd/8kc//+Xn/+t/8i+e++Zr2DHfz5ACyATGJ7Z5nHETqtoXUYNS5152kReTvJhMYjVCQ7jmLr4AwVGjdbGIp5paWh2Qch8do+ePsyHE8IocZq8dieDLC4e2a407duo6I92RigDT75HvCXyvA3M1tB1rPBrA7ScL+UJBO7uYIpxUMYKrypwmPdxCswpFp2EiyoBx6fCmChYMi5fpRRd6kdoxJhwXeZDjUHrz6Vp0dz5jb+6a0qhTRFlzP9DkwTNf+ZH3P/OR9z/z+S8//49+8dNf/ear8EGCKMuKOMsRjyH3+DyHclrlIv231G6zv+VMeCqCalClZPu6F+aCi/dngao6oNoh26FRDxgWw4VTRO2s+j2pVtyPMDWxtdlt4w7JnuAduwQke2cFLfWmcO0Ot6dgMEucJuNJMpqgqzvLMGRgSdrxNS4KaslgCWVOk0ENRVxErSiy/biqRpMJMTIot+tSau6nFo+ugGMMCCNG3XT2cJKY43pqXKiph2cLm6dqrU6+ho2Njdm/VDD++j/8hU9/9YVXW61oo91KwcVDAxAFxmcKJVQURFBRBNryFQ4G7JekiJOYxiTVpC7eeirzZ7UuuFo1dJOUQlgqRSJqCe1fULzDkeV7oxBD3hSSe23qr7wMJHvLgNbzXRR21j1l2D56NtQwUBbwYND9BwY9ZoG1HsRS5jRUcVGU4zgmFhxw4uGn7VAMPh6Ox+DW0M/hgVxqCccYYRFyjItClAuHAC3LikuQyOrKKp5FNktbxz+5he2EsDOiHc0Sy6qqfvZnf/bTn/707LV95P3v+sj73/W5L339H/7iP3/uhVejqLXRbaUZeXsUoaVQwikwNlUuRafOxmKz8GMJFrEzESD78n+rx7rUO20NXQ/0o2RLCgE7WIIIurq5VluUGAYIiZynWT4c10imyWOMZAkrXBCSvdNAy0xeCJYLaClcGSc4MXI7FSJjpQt6D2ZZXIHEY+2qGEPMqEnJDSLPwwhMdNvl6BNuhQggAcOwIx8kjmEfxBi4QnUf+B9azzD81gNMVIuvOT1wavgglz0wd8fJinfKZrZt+73vfe/P/MzP/K2/9bfmvv7WRvizP/Xv/6f/97/36pv7EfRKtNGNUlRfIBK5CMa1yuWoMkohlsq6nWmVEH9YPG5CNDJOq3dWg7mGLtS5QHeooMukihirUffFzxYmqL+rDCT7hOQwaKHS9wKRDB5gLa/JlhPQ6l88/nMWtFNPDpXl+Fv0HnJd3iUQ004t0FyRCBXriqoBwPtl23mJwTFU4uK6MaimYseZ8BxKEqKXj2FdzwYEW1kr9FqhG/lOWaTDeDyJ419/9s0f+0F0F6EYRE0wYjvZnGPEg8s0LfsiDJtvsW07TdNbt24NBoO/9tf+WlVVf/2v/3XzxZ/+9KfBU2NZo0l80B9EcRJNghbhuNtuZXmRpiCpovIPduCRBVWBwIJ07npU7skrpwXyoJoqcZl8u9jMVM0C6FLdgE2luzGNMEL5bkJBE3ndEnZ/A8kp/I7BaBzQDJ0WuMQgBDsbHeweIRl8k+dOvHM1ida0lJj2w7xk0BZxMj4BtFOL5J8kdXldDoaJ0IcK3UnpAsB1BQ+xE4MiFNMJgwDZeZkXRqOiEHOjIptLq0TSuKVOZjQDhdIMhLn3juuO43gcJ8Nx/NZ+HP/Sb/7Uj/9RHqHACoeZdDTnO3fwP/3000EQbG9v89RpPXLFHJvCf4yiiPllW7SYeScIgk996lOWZWkY15R3iPYVWT4Zx0kUJ60wjsbjVjtqRe0w9NMsm7B3CLjWaveiWWymVlVVnHyStgdhYpsb61oI3biGLvNWngG609ej0GIrJB8DyaMo8AXJURPJlI5dQSdXZeU9euc2a1p45EUBGmQF2rNGLMicw9BUc10QhtGWzP0pCPPT44IDPhvS4BpWwHiC6HSJevF2B716THgJPUzsZBe/9FkiGidp4iOSR/wgEyuP4xw98AgWws7/1mH2V37u//mX/vS/84f+0B/C6Iws4ykKjOEYnOmovOffMP8rTehtkByBTYXeGwTBcDjU1IpxHDN69RX+nb/zd27cuLGzs3N4eLizs6OOAX4VeTECUU8SRUErnrSiSRS1QLHgWmlVoFYpTooc00ke4MqpbieeJCZtAuhOcDBqm1lBFyQ3xNUP9CZpE7rr8K0aSE4QTz8ejoNg1ArBl4BqjFbU3eywY3JWnUw3m3lBGGUGaM+p08Fo6fmGPYoDsEZTipQtmcaALw3r9rwlAhjIy1uVRdNp4U8S1z5abl13DEYA14ljmWxYPQjcHg3GOSgdsWAahEypm7luVt1+/O/+3b/79/7e37t379473vGOT3ziExjVWVVf+tKX3vWud+3v74PMud+/efPm/fv34zje2NiYTCZMZ8mElUyUlSQJ43Zvb293d3dvby9JZOLg008/zT9PCGLzn8uynKBw1bIdz/VyzpFGgVcWvmNVcQJ1/SBjg7Qqq+LkkzGsrM4/IY1CrJBxmowuDLpTS4wZjngRkvvWOIBCnkUyHJGTdTIFGtjYyb0Jxg6dWdOejmEZ/SoBuyWTfqcoW8OtPXv+QOrckF+KkS0NfL/b7ZDaZlXsxkiCrd9eULhFm6jCbVSURSK4nf+NTGDguW5Ovig3Er722muf+cxn9Gt+9Ed/9Iknnnj55Zf39/d/+7d/mxnwut1uEAQ3btyIZNAkqnsZvYeHh8Ph8IUXXnj00Uf5E55++ulnnnlmDlxVrtj8Sw4uwEXxPNt1s7zKSicKg06n247H8NonqPyfQKk9mDTE1EIpQFwkRK/bbrdcp+WGru/65HZg0YArHpkHuXMR4vtEJCNE1rfGkkzG2EJgubvZyTIcD5zGGZ0MxavjDEXmXUTdJoY1eT63ZIgpjhFexSrKViGXvdsVuxebq6xIjRRlGPiKKM/znAlgTAJ5LU8R0Qtk3bC0vi3KMsny/nCULeFZcK3c1p0nBt++G2zcKsrCjraG3/w3+gVVVW1tbd27d28wGBwcHOzu7r7xxhuTyYRd2U996lPf/va3Lct6/PHHzY/98Ic/fPPmzZ2dnc3NzWX8O+NBSHwB/gc9CHI+Eu6n29luJ+1YTPMk5fL/B6iKbfUbsNuEnofKfIz/StO4LMokTYe41uTSoDu1tKljWxbIugjJETqKwSJIxc7Rjolkyyl56pkKN3C88KJKTDGOCUNf+SLpfxkTUi+vbFVA6kJo9MoEEIY5DUqcnuv5rutO0K2KyBayfufBLTrXaRAIfoTIYBFux8vgdmq5jv3kx/44JgwU2XDvteG819y8efPRRx9l9ei67m/+5m9alvVX/+pfDcPwl3/5ly3LunfvXlEUd+/elWZItRZ9qQZ2CAXb5gZdSNF5zwImaJr5CQ7f1uZ2p5PGk8mYevEmcRYjm/0AgFwZz4LpXdlvKctqHCeVnaEPXxr1zjWu4fzXqQpnQccXJ1nfZiQHURREIRgtu5vdSRyPMPOPJ1rLGL7KmpmNtMYFIU1xaR0RyxZg+AQZf6ErL/JxjBKU0Pc77S58YSBgQpoYXaCr4JZgSxN8oG/TLO8Pxll+XpOS7ek0QLLXsqyPf/zjP/ZjP2YO+DaP4L1792zbZo7ij33sY3qWEk8zXObrjo6Obt68adv2q7sDxPyWeBzc/hF7XhT43d5Gu92GTa0V8jlk4gorMKFLMpShS8SUKJ31PL/X9QkMDAmZ7mw90MVgtiuF5AEC1+121Gm3Qj+IAtd3o9HYKvM8LkBxZVf2xTZ5IB3XGL9UgkyT6Y6VspUF/CImcpEN3IvM6aQsEJ1utduIZ8MlHjuu7SR2nJwim7mrG+kB5OujMIoCP1B28uT8uJ1aG7cedb/vR1rt6BMfftwse16+gtJcJ7xYl3C2aZb88ivP8yFGlqMbkMYPE4zHrJCTOKak3UWuEKD1piKFBaCbJ5Tl0q+0HWGxYWM0ox9cZftATAa91HejRSeHvQAzv9O2uq2o121HUavTbk3iSZzAurnwLi1J7Uh2GOzwFVWBi7KlgqnL4Lg8ccETYnM68DtdShRD51BdDlXiTL0eRCqUv1W4hRso+vYCcGuuzs5dJxuaivdk9JqlHVOM0Ces+/fvv+td72I/fIXFdWVxksKj86P2TruTTCjKNR6TUX0RwcKQ6KyJHBeFd7CZCbpEPdmA7lwKm6iKLnSc0lnXlFlaVfY4LdIiDhGQ625tbscJjJvLaLN0XNdCrJUsVNensjXE9C9Z2Z688iJHdLqogsBrd7rKjh87jks1Anj8RDsIT68NXYtgso/8OfzbyQXjtrG06Wwgdur3i1C6JIY/8IEPrMu6SZIMFX6Bf3OnHSedCUA8Hk+SmMgK16t1W015OqGZlks+l5oHV4iTaiBfQpta80rsGrhN45TmoSVx6tg2kNzpdC8QwGjPQymsEMuQVeYgyGKzTjYChVdj4cClSVnBK45CjPYEhL1xlCGiblkWYv2MW7KT0ywfw78tLpODxrKsP/eTf/KVr/xWE8hzkDy3cHrJtcagTlmVFKx2kiALfX97E9PG4zHMaoIxMzyt8nU2DZ0Lg1noVghhkGG8wsdyHh5FxJotRFGGXHRXLLco1gHchSYq2hljdFmsyshxEqlFwTWxNSeUnpfp+V5V1UwUV00JT5nT3VbUvdG+sdUjyngLE1tsBxHXLB8PJxlG4F4qbn/qT/1R/Pxx/PzPvow489Radt6qUV956svWt8okLcGDmfqB7/V6m91OdxxDGQ/HUkqxfKLRtuwggFqS6INYQ0FRaK17XqmKcgaioSrCiLuYiRYSbYIXFOtingbvDFEh3KC3fmUrKWb8mn4ZMUtjb1QbyGrU5xe5wMDg+2CNB11JhXk25A37RWkNRigJTtLLVrkfeu/bf+4v/fuO49y+fZv/Rk8wnFLCJ3cjLf+NF5dWYY6WJM0C32u3O+12u0Ou8XCMZvK5EQdz2Yo/PZyFbpym0LprfjrEg0vD8tSscK2R19hltZzinbO8cypb7h1jzDJ6T7irSpVGE++B9EFdMHXocst2MNmQKjND30U6ZDw6ONhnotPAdcMoardaQrNmgWTrMtmPJkdvHhwcvPe979V/YzK/r7BOBfNTTz31zDPPfPrX/7V1MYublRjGYRC1o3a3E0/iyWA4RncE5XZmrxmD1zCo0e9EUasF9lHXA7PfGHOyETa7UDY5iXWVYU3Ex9SM54t1acUrtQ9U2798OsZbRdkqFUsBAhpOvLRRwcPjFXUJA5kIoh8EhuGTN3GbxON+Px5BG+DRpFnuuQ4yTDEYtjvtdhi1qJfAxhyby4pSvrif/6vPfnF3d/e9733vrVu3PvWpT/EQhkXq94SOwiW9Yh532E8u9qlwsDrJclKqwdZWq9PujOPxaDgmSwcma6WhSwZzexq6CXlrFwtdc4HMXWY+gRaI6aypHWsVSiau5DXLDWkC2BmSMt4ZlC2VbtFP0rUFWJfPesV8vLIC0QUDxBBv1mXjFl07oe8WeT6JJ8f9CVtxTGukb40ok0HNw7NdOkXZbre67XA8QS1PeilHJ0mSX/vym8+/Pn7uxfvx0Zs8o3A28nxCBGuqlf/kr3vqqads23722We/9uJ96+IXuqNQrY1gdeC725vb3XZ3MhkPR+NxHLOj4Ptep91qI6cbgXc2L8YTgu4Fa91TS2so1sWynqmSMexnqblKqPmbrvAn0pWzXYZ3mrJl3xb/z+hdiwdflVVuETu8JhG7eAxP6dsizxi3I1htQvwyVySVZRWnGbh5qhKbUBZtDIMP4gQ0VWmRlxdfY/Sv/rd/1Gq1tre3//AnP/bxj33sueee478/jyE9tQ4ODri3ybbtL750+KWXDpYclbbGYHWWwT3xfX9zc3trc5MjR5jiTWNWHMfN8mI4uWyte1qsCws55yynSSg8oVLYs05VvNTseGbFuxDAFU1zFnIFZjUi9K69NoUZRvE7jmpRo/W8ht714NbzHKRwfZfoXeM96FuKfjb17UnczimMpLKoyNsqOu12Cy17rpNg8uoKRc6nrhc+9y/MP3Iz4C/97//y2/ff/MSH37+9vWVe3jJxrEVK+Bvf+MbTTz+9v7//9NNP/8Zvfe63X/sm/z1z6F3mIhGJ38SO043CzZ2ujZRJabv+aBwPx8geU3ncg4fuvOQTbGu2UXlsAuPHjAopxcvW8uqKdxrArGxVAJmVLf50oWmvsiyhzyUmLXewLgxP2cmC2+PJcAS/iQcunFUqEf8+wr9cd9fDCIh2tx2NJ4kDDAuT7kWgV6/Dw8PPPvt7L7/6+tsevfuJ73s/euLi+N69e/yvy2tjxvDzzz/PTYW/8Vufsyzrv/9f/wv+1yzL3vMHf3QyQZf4pS2HygQ8cLXiiE+SyXB8nGXcN4aEL7HhIw1JIasHWSa1aNFkWcS60DrBsS5KdLPpSqRbgK5MbqMGmnOWIdrf92P/F44fU48hfl2m4cQlYx5R1QrBIMwLZx36FiPSGbfjCeN2WX172ldg2njge912a3Oji4ZE35/EqJInp6y4OPRiEefY7Tt3mF7nkx/73g+8++1JkrztbW977LHHuGWXKTtMDlo9cJhl8+/+7u/yQ2fo/vq/Bnr1AmsY9dBOJpPwbh36vrjl2CA09V2HqBPdggjYRpPJaIhCYHTP2uiL2uy2251uK4ryoppQWXV2adVvqy5OqKZZmqMNANOSiUCGqRDWELu13/mH/xzFAkGwZD2gxUkwBnBIZBtnFUvz7OQEgZDxBA4ukfSu1wuAlEUBULDZ65I53eIB2USgWp4nFbkIvdSVyTPcytu3b2uUPvHYIz/wiQ9vb3Ree+21Tqdj2zYPDf6BH/gBkPJ861uvvfaatrGfffZZzb/xK//q3/zab34WFd/w5eujhGaO8TgMw8lkwh3F7/zov2NdgtY1oTui3BAxQvKDoyCtG4XBBqYjd9qtVmnZaOjFhl8Jf3j+Ip+UTmBWlMi/cL/duqqY7Me//yesK7AUhpm+lvhulsBwjVukBz0LhC9oYRtwYOoCcNu4ZrBPeYHvbva6G71uq9W2LGc4iZmZaWVzehrApHLhCKpVVeUdaGBmOAD6qqp64rFH/qMf/+Ov0dJv1Z39/Menaf3yb6AM81/8+r8mpniQxRMfiQMQ2/MBfBEYhtalZ4cGLt8rijyOEVAcDgm6FAWafXauA9vK973NXgeSs9W2bGc0AVcSV9BZV2khWAvnVJd/wB/G4HLMJD3DOX8IAMwilie+8S8E6Rf0oOpnz3YycJvEkwkY28eTGIIO/uhlPEs2p33f67VbW5vAsO+FY3AKExHVquY0Y5hUbo1bs3jj7t273L7PSljzVP5bf+D7PvS+p1977bXj4+NHH300SZK9vb2f+7mfOzo6evHFF3/5N36LcatHGdKEWABZqXPg2PXmAHiNMGaD2XMb0B2PIXY5HTAXuo1PAAZghm52271ut91uE5unaOy1eDHnXKCjoTnXRrOxJCQ1TT8QDBhjZKWH/tVVvuiSh76dtLj0Mk2phU0iWw0M17gFG2tgVWUcTw6Hx4MR47bIEe8oLpvQlCblILKV51sbRbeLobu+V4xjPCeaoHpGrtDKeupDf+SFz/+yqXJPzRaxRf2Z3/nCy6++/gOf+PB73vMengO+vb39hS984V998aX/7X/5BabTNQeRosMTY9BhghKAK9d17MIOAyHiujitG/p+UWTjEdK9KMCi0VWnQpcXteanaYaZdUeDUa/d3tyANu5EbTQPwo9ZXXpegOJF3AF0ikaWnmMQCahwYzXzCVrrrEHcK6SBpcvfczwPLZ1CCCr8rxq3PuEW+lbhFpNd8svF7exCyTSllzd73c1er9VuV5Y9HMVUp7asacdNFKrWNr3/lc/woIvZEz2rgfXEMz4cz7zjyZ/8U3/ia9/4Vr9/9LlvZwxdy7L2v/FZRu/sGDQk82zbRUzRY8Ucx/G3X/32WtTvLHRBagutO4IbuzR0FxpBntdpR5s9aOMwiJIsj2kcSn6+eMT5FS+CpkrxnnALpJB58JMc+yXp364WgM2bCYOoBS77kP9nV1WcoHtlMBqPJgBGkZUPHLfmgm9DRAUbndb25kar3fZ9nxtfC5puccpTByk3MyTCecdxLquDFxrxYb3u3r0bBIGOY5kA5lWW0Kgcf3Zdd/sdH1HfVTGGF80xpNJcQN1FI3Ty6quvsWO8MnoFuq5DU/z8ggYpDMfjwWA0TpMix86sJU7hUZSr3Yq2et1upxO1WmmGWsucvuISolwcX8wXK95TF80TR1WpTzSmy6SIr5AJzcu20f/hu24r9LZ7GA2a5UX/6KBPlXXQt5Srsa7eqsoqLWFO9weget7azLrdTrfd9j1/NInnmtP0F6WZ92feal2Lt/POj6JGagGMTyjPYEizaT31sp13frSqqr3nf2f+XRATMM6dA01eFLnruKuh19S6DN3RcAjoDkfjJOXnuMYQY052M6osx3EUHm9udHvd7lanVVTVcIwo13kiiycvEsH4ZfYq8Xjbs4sAfIabGvEgqtVaFOu6KhoYLJZ42k7k+71Ou9vt0MxhZzAcHvYHIHYgH8l6GBbMaTLqdjZ7SBS322XlDEYTfYbU88bTTpoqd9FnTmF4rgbWiV+TdoNFgFICYpJrDTxXNLiuS/R3VhzH+caTGLiDUfC+s3TekqHrOk4LEzd9jHCLkYpHuCJJ2B65UN4pD9lWTOfb2uxuQIrCoxmMYs7orLfSwVS8qVK8YDw9d16WcgTMTU9Ba8rwTz2CBwxghVs38v1up9XrtKMIPDVZVnJIEmZzPBHu7XVsyqXel+tsdjs7m6BodP1gHKdw2rN8QpNQ5qrck5fG287OTpe4u6YAbELXtm1G71Srw6wPPAXjW+/6BAdy9/f3Dw8PqEYwDGDUhZ7vOSrbdBp0A4JuLtClSppLgO50sJpa47c2uuweO7Y3onbFk52a1RUvCPHOrHhPXVTA5Qa6UMIodvIe7PkOA3+D9C1w6wdZXo4ncTEZ8v5WJWYOB37AYx4s66HBcFlW8NAr93AwSrL85nbe7XS7UZhl8fFgNAHpeYLimTMe5VmLekrfmq88oetoag81zvW/c1cD/yxL5NJxNsMMSA4CZIFmQiwMXcdx2lHQDv2iLBCvGI37xwRdGpd3yWyPZYkKdhovnh/2h5u99vZGr91qd9td5tajY4aRmudRvKixInlM0asLOZ8YQ5sUWZqhRo5iXRTlDTzH8R4obkEOB33LuB2nUxtqY0i6E/iBUh2YlbcW4+QSFrEXFJZlJ2l2OBhhuz0n9NxOFEwmEwfzrmyMRTz72nnnR3d2dtI3npv7T+dnw6kqga5eIFwhBGZZHuYYkhb4IbqiCcaz0B0ydFFP82Cga66SYhNM8nR0POx12tubvQ6YHXvjOJvEKQKilKuzzqV4L/wejeRT5rk0URWsMZeGW0zu0foWRNVJUYzGccn6FlbknB10HLuynIDTklVlIUyEnpVLoBc7zyK9CE+YivDBThxnVVQ6vW4P0QnPPTg8HsaxXdgF3flZPz9N0513flSNSW3YzyevZWTf7u7unDeijrNI01IGOwQ5eGbCiIp6nTYYS4Iyz8fj0WA86veHIzKY8euBcixPZezt3M7ywWA4brejHRTBdm/t9CZJNhzF0HIUh7CWV7wcv5C4xuXdZlkWKYmPJLlIDTzXTg79MCuK4TgejPkBwx07+XPIWoMepnYzpp2jjbySGObiRD0LL/Ax8pcNzsFokhVlt91C6a/v7/ePj/pD27JXOOXc0L/aOuGomZbzovfSqLSyKErbqhzH7rU3et22VZbj4XAwHvfhIUDrMhqsK7YqKDHU/vMhbIf97a1er9u5sdXJinIwnOSM43lnkmZ9SYe85tO5BMV78r14l6RvwyDLisE4HoxSPN0lcGsuAoAbWD4TxFdVioB0CWv7iixT5Wr0OrAu5QVsRmKqWpZt9tobm5suCj/8vcPjNLMKC6dm+a9L07Tf7/MI37WsU6HbyFWi4tIKfGer22qHbpElg+H4oH98PJowcK8gdGe9GyCZEsVhcLSzubHZ6+1stIvKOgbFNykXIxZFJjYyPKJ4USSC3PID9+a8i8RtFMK/LYbjZHl9u2ghfO56FM+SYVA5Uq8PPiEM0xUV9oJbVrlUVzH9Ssj1AiLooA9PbLO36aMLJ9g76g9HExta66QDoYNVfLD6/X6SJI899tiU03tWB3if1pJ3ym0PG53W1gZKkKOoVVpWfzDsj+I0hyF59dFrrrws8hS+cZxkuwf9na3e1kZvs9O2HBctFUThwG3eSvGmRqj5StzmeQFMtSOo+2Lc9kTfRmmWAbejwQr6dv6yacQ66lQ4mmVVCcJdD2ofReW6LhXNcEk6RlieXJJODhT6W2niWbHRaUMoBf7BYX+vP1CNu9N3ZOZ4TYTHcfzCCy/cuHHj1q1bK9zCmaCLRgdAF4FcauZrVZYzHsejOMnLwg8iGnjlpClGMVwF1bT8wrxsUEsUb+7lewf97c3ezlav0+5sdlvHQ0x1QrN3CjxfHcV7XgDPtZOjMEyzYjiJj8f9c+rbuctmDHtuaAWshBNg+LKdEI4ZaVM5CEJVyrjc+zGkFiPoxuhJz7Z6nY1ejxpi/b2jPpogEeMsT2WT1GBmEG5tbXGi/9TvpxhM3u/3T0Uv9yohSgbodrY3ut1OOyLojibxaIK5oSRwSjTcoxHbTyDLMDs7y67WQV8yWO049lsHRwf9wVavc2N7sxW1WmFnvywmY+qVwZN58Ebf6gBmI8qlRrCNbnuD9W2E2nHEpUYUvVg3bmcw7FieFVYKw2lyORhmFIFBUFQufpyqchctZU5Xe4cDdonRCxH6uwf94+HYtm1KbMy5Kaab1H0L2k/j0gvwv1G/0Yw44RosWOnU6CizMhbeLOfwaLzbZrezvdnttDutVlTZDnNTCbWA8aABddttORFTxmCcCpoq0QH70IDY4iBzUZXW4WA0SfPtrd7N7a2b2xudyN8/Oj7oD2wbp+2K2M/LAnhK37KdHBFuR+O4P+pzG83ltFMLhn3Pl7nDVZomFCC8kD2VRKfloARGqVykQJdXuQsWnX/Hdkoyp3M4lps0PC3o7x0eW7aY05izFwTjcU1PpTNGJyB8ar4Zv3AZJDWg24PW1dAdLoCu+WbIOFvRxkAVp2kKsX5BT+eCPCNUOvm+43pJWu4djTqtaGNjs93p3NjZPDoa7B3BwHywyW29vCm3akbfQuGGgb/ZbW/0OugLiqI4K0bjSX/U5xN2+TQIjGGfp4dzcW+Sls6aTwlDlKl+dMfmGUzlJRaMTNR6VEQgk2/1Or3NTdfDlPDdg6NJnERR0Gl3hqORObb3nFewcHChgq5j21sb3W3iCmpFLfRFngrdxucj4uiAbsL3/TRJ/IfCMbYVt0HtHBGGi6IcTTCjPPT9zV6v1+kBxv0BpQ+IZPhyOeSmludQN/dc3E7ZySlwe9n69jQM06g0unzMqrTXcERY5doWzI31qtxFCztZOlmWszm9uUEucejv7fcrxy3LMgiCuYnfGzduHB0dYf7L+eZ6T0GXKhwQYUYDQAO6MlBrmaVgPOUYw3S/gjC2VRZQ2n/EPxKqMC5vLooyyTLPczd77cc6vZ2tzf5guH/UH1MsYJHLc9HLg9SpoIRVpBG4JX3b5dlRCeH26MHp2yUwrMLSCSo8zjMxiFQu8QlcjMo9xZy2iqPjERLFG90t3wP9Ymm9vntg2daNGzv7+wdT70rTtN1uJ0ly1q+rI2FT0N1CyX8UtS1AdzIcxxTQOBt0G1/kWK7twDEGeU6QpPFVc4xtdpEaind+IhBqCxz+5V527DjO1kb30Ud625ubg9Fw77A/GI5LVLlcNoxBTeu5bmVZUdNOBm4nV0XfnobhoEJuBluXYhL32TZRq1yaeSMq13Mgfy9zYlOlYDKagEh4a6NzY+eGDxgHe4eDw/5xp9NOULhb91QWReGBzQ91pmdVwuDSPxG6FCFbHbozjrHrYjqcqOIr4hjbHJgEBcyygUkKcllOWR0cHR8iwte+e/vOZq83Go/2DvtH/VEhLGaXdGterwtq8k6nHQYYkMx5oCuob0/GcBCi0JKblrIsgVu53IACWHquB43LyPWDizOVl1fFZZbvHhwHYXjnzu1Wq9XrHNlWhdzG5tbxYDAcDvlyNW71FWselhPugaHroiLD2d7s3dzqdTqdFlhanQG6EGIIw7VA1/xSgjHTABGIgxTaOFlAGfQgFG9wBkeJYWyX1eHxsD8YddutGzs3N3q98Xi8d9jfPeiXDuP4wm/Ne+btT/i+HydZfxQfDfs6s2c9PAsYrqhpSaqjwXFxAoaloMl+wCp30aIknFNW1dHxaO9wcGN7MwzDVqv95u7Bt++/AYW5tZnR9E3mzfF9X0eeT/5khi52q3JubPdu9MJOp9tqRaXl9IeTwWhyEdCdhTF6i4FhbHySoLb0kmFss69EFFSiev2APN6zfQ6l5azSdvojMJC3W+Fmb7ODBontg6P+3tEAY2gvGMZeZTlv7h3TvJ81tDg/qIU8j+2oAg+chRyM/vZUwwOeG3m5WuWGfnBFcDtrThdFOYzTYv/49o3erVu3O53OzvbmG3sHx4Mxsrl5ycydiMGTG0wYJk7PmQXgOKgAqyxre7O90elUVT4aTSzLJujCfyPwXhR0GxdjW67ltKIo0CZ1ksA1uHjH2G4qXmZ1Pafs5lRCaTuD4WQ0TqLQR39Et3dzZ3R0fLx32B/HKevEi2i/8YS2tOTn5lzy7Pk1LmgWdP+H1DUCIGd5ZpfA8AKV6/JctSu7+Jlnef7m/vHO9sbO1lYYhhvdzpv7R/v9YxrPR6z/mL+DGPWHd1/98r2nFkHXdqydrc7WBnjGPNc7Hgzvv3l4ydBtXBZx97SjFo8poIxxfKFBIFsp3prG1ffXFqQEhqyysEBjmKS+7231Oo/d63Kweu8QlCRA2bpzaSC+a0V+PiocjFLmB/mwLnJowf9Cf0K6orAwzIKZ/rgS42qq3LmLwkhFSdWRh8ejPC9ubm+iRSQMO+3Wm3uHMeE2z/Of/trv/PRzIKn74iNP/rU//ufNCDMXfuxsdW9sb7SjKAijvCj3DvqvvbnfH4yot+tyoWssIgBninZOGfvJxTjGNk/xsKUah8yvwL0QCQ57uSzwf29lfUQZNrqP3UOwejgc7R4eHR0P1wtjjDWAIPIyDEOHAnbmNtY/HMuG4nVdZuGhg1lK1IRJOq+4yp27bKJed6tqhI6u/s3t3ubWlh8ErSh8Y+/wR37tn/7ZZ39Nv/iDr7/013/pH/38R37wK4+9nen1bmxt3Nje6LRaYdQqyuqwPzw8HqRJup4I8/pgzI6xrxzjNMusNdmc9oziDX3/ooW4lMqW1e7R8X7f3tno3Llzp7fRG49Hu/v9g/4xR4jP7x57IEkJwygM0qyAqXUVHuk5F5X9lpXluKjWisKIoPtwaF1z6ThzVRVV5VoOpn6+sX+0s9m7sbX5/n/+C3/yn/7j2Xd94PWXPvD//Qf/+KM/+L//0J+8tbPZ6aCvs7Lso+PRQX8AjgwqAaRQ2RV61FT44RA1muEY5/l5dLE9V/GSRXM5h0FgbDt7h4OD/nCj176xc6PX7d2djPcP+m8dHmEW6Plg7GU5BqJHgZf4HkY52hVFKa/Qo11m8UMuMT4zBdtjAs5H27apVSij2T/rHx1+oYuPsv6j9C04jldZB0eDLM9vPv/7X7WsRcM//8DnfrV15+Y3/oM/z9A9GozYatPQvZqPmJ2gdguc+GRUp8mqjrFNAUtfKV4uh30gcpxDklXpHPVHx4Nxp93a7m12O51bN7YOjo53D/oJBatXK27xeIILSq6iIslyx15HOeIlLr7WPMcI1ixLUa6XwYmCMaEeFZrdrHB5WuOrsLg8QzUn6L9Gs5fjuMMRaqe/Sn81heGX6OeLljX0g6Ph5Kg/4tpFU+tS09KV4/TnxTcrLU1+6mvHeGmL2mbF6zikcYVU+TIV7wkwLksk24fjSSsKd3rdbrd7c2frqD9466A/jmMKKJ/N5vDGcYyicw93GYZ+HKcPhRKeq3LJ4qofs13ZSAjbFoVy7NAJkWx6GDDseUAXD20OgoB6GJpHAU4xbvOrlrVLGL5lQJcXFG8fYSrl68q2ZFnmOM5gAP6AK7v4fkEobzrGKYZ9nwxjm37pwX/kWAdXKPZBwWqrABfCOE4i39ve7D72aHdne/N4MNw9OOoPx2eCsTeeJO0oKoosilpZiGg+NuAKK2FRuUWepg2VO3vJSCBVVpZmijfZDsKQUn7WFV+agT1Jkm63Ww8TVE2CaCS+/batb4FZdtey/qVlvc2ypGXJWFPQTdOUWLsgEVaooL78xR0RSzrG9pVUvAsWub2FE5fZ628d+r67s9m7d/eR7c2NwXD41kEf0YrlYAwAj1sx4tAktKIwmMTgubDtK6aEuV8B5KDAbTpP5c57EwqyqEBaqmyiMERS9Mo90caqqioMwyRJbt26lSRwAj3PU+hFQtuyrG998A+ldx9/8nd/o/3KC9C3llV7zJb1pfd/8qvv/37y++0kTViTh2FYFLnnecfHx9bDs5qOcUBMAdOOsT2leMnvvZLQNZdEr9LMenPvyHHsna3enTt3e73eI+Px3kH/rYMjRvEJUS5vNInbk7AdRX6WtdvtNA0mSQrqmivTL6JUbgHUZhmmJGVn8IgEw1KrhNRoGKDY42o/WpxFx3H29vZowl1BQYq253u+a7uOBWKqR29nvfD3H33b0//k72+98Yp+40uf+MG9P/zvHh6PMBDLc6vKAn8VBcFsF+o3DMNXXqlf/1CspmMMo5oYP2LVDmE7rijekBQv4h2ilB+CpaNcewfHe0eD7V5nZ+dmr9e7c2t77wCV1WmWUwRjDiS9sgI507gFZyHLsijw22EwjpPygSvhlVTugk+CV5CmCTvD5FyFZpTrqq2yLNM09X2/1YpGo3GelxjvlqStKLpza/vW9obj2MMi7+/t7R70P/f093802PzBV778mbe9/8vv+9jdWztbx/1ep7tx69aw1RljEHYVBUG/33dd9+WXX9YJqoduaccY+lWajNM0TQzFKz0eV1w6nwBju3SQqx+MNkH9udXt9m7f3D44On5rvx/HKdWANM6/V5XVaJK0x/CEM1LCrSycoLG2oLKIB3InDZWb0iLxs/rlsAcZp4kYW5YdBsFVfsrcnJAkaRi2trZ2MPk28u/duYGZAHFyNBjtpsUr+8fWwZFlWb/z+Ps+//j7YFgfj+Iku3srvVUUz3z0o+/84Adf+NYrv/eV577+9W+UZW56DmBWiWPrIVzcEQGmId/3vSQLAxsk1UrxXuWHeoauUqc/GPeRc4q2N3tv6/Ru7mwf9Y/fOjgaDCdcP8cehEc1D9UojtuxKOEw9NuRP5wgMXXJSpgvS1Ruiv/Omcqf/vyS6/6pBRFPHfHJq7nIWQ0QkvExJ3mz17Jt+/BgfzAcvXXQf+2Nt3CMextWUTr9Pr+FdylO0jet4KlP/MEiDH7vC7/XPzyYHB94rp1VnAmXpxmGoeu6EhN66BbdasGjxKSW+6EuAl4QrLZAITgax1EU7Gx2H73X2d7aHAxGbx0cHvVHJXm5HpL7JWZ5dqKoE0U5lHAnjcJxgmHa1qV0OCxQuRfySDCxDuQ7jFw7CK6oMYkCUM+9ub1xY7tXFcV4PBwMRvtHx28doOXTdRHTwtrcLIPAU9OM3Nu3/bt3Xd/73d/7/Y1O5FlFGATdVuDfvbF7cDwcT5pfgQVX8mFTxUVRQrxnfFLSsiiD0OfhiWEY6qboh38xBpxJnN6PDyRY/cidzU2UZL65d7R3dCzZ/BJEELUSjsKgHYWD0RjtZ0gqXdQF8qSUxFS56HS92PgZZkNxtoxwjAKdK7YC33/87p3tzXaaxINBfzSaMHTn7kvmecWjj3rHx0eOc+/GDZptUlhWsre3VxX5LbQxdVutzmOE4f2j6fgzq+KR4s276quyEMNM5UeqqMLgDMN6xA+gOIBd/Z2yxHvkYPWu69zY7N2+fafX7d2bjCHI6RyXw0ncHkMJZzk84XYUxETPfSFKmC6oqXKz6hJnHRX01Yxh+yoFdQLf397o3trZ3OiC0PGoP3jtzTf3joZcODXFJhvHcbfb9X3/4ODAi6LAsvb29m7cuGHbqGChPHn2rVffGI43H7lVdLrtOze3osB/6/CYCA/q5Xlep9O5+uZ0kRc0HYGgm6TKQpRVldWEuPLDLM2gieEVW99BS4LVhbV70N89PL651b1x4xZpYG4kLEGfOYpBW56lfguecNjPxhy4XZdOVCoX+SCtch/InEEa3ouYFgwu2/G9B1wsHfo+M0LmRTIcHFdW2R9ODo/Hlm13u70MfIieVjgUqghv3bp1cHAwGAwcx9H/tL+/3263OZTNmH/roJ+k6Z1bOzsb5Ua7HQTe3uFgMBo/TOb0AsU7u4q8GOdjnmBEIA69B/1k17uoDs9xqmq/P+wPxwAw5WUg3OExt8JOK8p9eMIR5ZPWpYSralrlPvApFbXCwd0/sCcdBv5WD9Ati2w06h/1BwfHozDqYvISLdDQhCHTr/FbKtSQZvv7+3me89gkvdgtDKmIkIcqlSVkQZK+FcfJ7RvbnXbnsTs7uweY5DJFWHs1zWlWvAmVyyZohDz92GSyUnaMgzDkCa/fEQt3UlGv6GavoyraYZbZpVWOxsmoHQfwhKGBwZWV0eNcNac0pXIResiyqxMwBIapQ4V6V0L3cjHM0L2x2SsUdPcOwaXk+8HNoOVXDWRqy7ko8uPjwWAwOKGgjNriK9/3y7J0XRROJ1n+yv3dJM3u3Nza7G3cubkZBt7ejEt8pcxpoihUipcKAc709kQ5xuF3jmMsxfy+525tdDa7bSXRGaGVNRzHnTGUsJ/n7VbQboWTGEpzle+qrAyEL4Lb5Aqo3LkrJxpL5uQJiNT+Er4Uwy563ZubvbLKx+PB/hEKbg76AzLsLZw0xY/IjYT8e65hnkwmVVW1Wi2mdNdl0lNfkaZpECARpenvKtt+cx/z027fSG7fuLHVO8mcHo1GDxbDhuJFxftqh6dixzjNgu8Exxiz/ShQ4m72ulu9dlFkRk8ZlRdWVgkMt+MgCDLPa0fBpB0kffQDMGHHsulWVrn4cWbBefkryzIJSltWEAYXiuEp6B4c9d8yoMvLRK+GKA8li+OYzWbi4sdP/a4pMLOZzfE5NqT5N/3hOEmzOMnv3NrpdTtvu3frrb2j/f5wCiGdTudBYVgrXqm/O/f5KYpiMh7zZG5ir3gYHWOg1yb0bhF68zyL44k3VTNMg3AmnXHUhScMDoN2BCUcozbr9JVDarLhsrrUfCALp4QCWugU8C/EZSLodm5ublhWMYkHXOY6BV1eU+pXT/fg6HFENXNz7WdueOACh6IokiQJw5DxrDHsum5p2a++uZ9k+SO3tne2Nu/d3sGM4v4oTmKToTYMw8sHsCjelPC7Vqstz/JhlotRHUQPn2NcWUHgbve6W5udLMviJB6NDQDrF1UWollDVsLkCU8iDeD5Slip3Lo113oIV5YCw8zR5PgBM8KtZYVBAOhu9azqFOjKlSifRetSms1T6NGE7NaeMDSYbWbwHJAhzf/KGGZso1MC47nySZLeu3Xz1k6v3Qr3D4+PR7DPeXmed5kVl7XiRcMKgHYR35KSXZgGWShh6ofCMYZJGAb+9mZ7q0fojSej0Xj/8Pj/DwGncHrmZ7eQAAAAAElFTkSuQmCC\"/></td></tr></table>"
      ],
      "text/plain": [
       "<IPython.core.display.HTML object>"
      ]
     },
     "metadata": {},
     "output_type": "display_data"
    }
   ],
   "source": [
    "camera = mujoco.MjvCamera()\n",
    "mujoco.mjv_defaultFreeCamera(model, camera)\n",
    "camera.distance = 1.2\n",
    "camera.elevation = -15\n",
    "camera.azimuth = -130\n",
    "camera.lookat = (0, 0, 0.3)\n",
    "\n",
    "mujoco.mj_forward(model, data)\n",
    "\n",
    "renderer.update_scene(data, camera)\n",
    "media.show_image(renderer.render())"
   ]
  },
  {
   "cell_type": "code",
   "execution_count": 30,
   "metadata": {},
   "outputs": [
    {
     "name": "stdout",
     "output_type": "stream",
     "text": [
      "LRopt <MjLROpt\n",
      "  accel: 20.0\n",
      "  interval: 2.0\n",
      "  inttotal: 10.0\n",
      "  maxforce: 0.0\n",
      "  mode: 1\n",
      "  timeconst: 1.0\n",
      "  timestep: 0.01\n",
      "  tolrange: 0.05\n",
      "  useexisting: 1\n",
      "  uselimit: 0\n",
      ">\n",
      "_pybind11_conduit_v1_ <bound method PyCapsule._pybind11_conduit_v1_ of <mujoco._specs.MjsCompiler object at 0x16da53f70>>\n",
      "alignfree 0\n",
      "autolimits 1\n",
      "balanceinertia 0\n",
      "boundinertia 0.0\n",
      "boundmass 0.0\n",
      "degree 1\n",
      "discardvisual 0\n",
      "eulerseq <mujoco._specs.MjCharVec object at 0x30ca318f0>\n",
      "fitaabb 0\n",
      "fusestatic 0\n",
      "inertiafromgeom 2\n",
      "inertiagrouprange [0 5]\n",
      "settotalmass -1.0\n",
      "usethread 1\n"
     ]
    }
   ],
   "source": [
    "# dir(scene_spec.compiler)\n",
    "for attr in dir(scene_spec.compiler):\n",
    "    if not attr.startswith(\"__\"):\n",
    "        print(attr, getattr(scene_spec.compiler, attr))"
   ]
  },
  {
   "cell_type": "code",
   "execution_count": 32,
   "metadata": {},
   "outputs": [
    {
     "name": "stdout",
     "output_type": "stream",
     "text": [
      "_pybind11_conduit_v1_ <bound method PyCapsule._pybind11_conduit_v1_ of <mujoco._specs.MjOption object at 0x17f2de930>>\n",
      "apirate 100.0\n",
      "ccd_iterations 50\n",
      "ccd_tolerance 1e-06\n",
      "cone 0\n",
      "density 0.0\n",
      "disableactuator 0\n",
      "disableflags 0\n",
      "enableflags 0\n",
      "gravity [ 0.    0.   -9.81]\n",
      "impratio 1.0\n",
      "integrator 0\n",
      "iterations 100\n",
      "jacobian 2\n",
      "ls_iterations 50\n",
      "ls_tolerance 0.01\n",
      "magnetic [ 0.  -0.5  0. ]\n",
      "noslip_iterations 0\n",
      "noslip_tolerance 1e-06\n",
      "o_friction [1.e+00 1.e+00 5.e-03 1.e-04 1.e-04]\n",
      "o_margin 0.0\n",
      "o_solimp [9.0e-01 9.5e-01 1.0e-03 5.0e-01 2.0e+00]\n",
      "o_solref [0.02 1.  ]\n",
      "sdf_initpoints 40\n",
      "sdf_iterations 10\n",
      "solver 2\n",
      "timestep 0.002\n",
      "tolerance 1e-08\n",
      "viscosity 0.0\n",
      "wind [0. 0. 0.]\n"
     ]
    }
   ],
   "source": [
    "# scene_spec.option\n",
    "for attr in dir(scene_spec.option):\n",
    "    if not attr.startswith(\"__\"):\n",
    "        print(attr, getattr(scene_spec.option, attr))"
   ]
  },
  {
   "cell_type": "code",
   "execution_count": 62,
   "metadata": {},
   "outputs": [
    {
     "ename": "KeyError",
     "evalue": "\"Invalid name ''. Valid names: ['gripper_cam-1', 'side_cam-1']\"",
     "output_type": "error",
     "traceback": [
      "\u001b[0;31m---------------------------------------------------------------------------\u001b[0m",
      "\u001b[0;31mKeyError\u001b[0m                                  Traceback (most recent call last)",
      "Cell \u001b[0;32mIn[62], line 1\u001b[0m\n\u001b[0;32m----> 1\u001b[0m \u001b[43mmodel\u001b[49m\u001b[38;5;241;43m.\u001b[39;49m\u001b[43mcam\u001b[49m\u001b[43m(\u001b[49m\u001b[43m)\u001b[49m\n",
      "\u001b[0;31mKeyError\u001b[0m: \"Invalid name ''. Valid names: ['gripper_cam-1', 'side_cam-1']\""
     ]
    }
   ],
   "source": [
    "model.cam()"
   ]
  },
  {
   "cell_type": "code",
   "execution_count": 34,
   "metadata": {},
   "outputs": [
    {
     "data": {
      "text/plain": [
       "array([[ 0, 23],\n",
       "       [ 0, 23],\n",
       "       [ 0, 23],\n",
       "       [ 0, 23],\n",
       "       [18, 21]], dtype=int32)"
      ]
     },
     "execution_count": 34,
     "metadata": {},
     "output_type": "execute_result"
    }
   ],
   "source": [
    "data.contact.geom"
   ]
  },
  {
   "cell_type": "code",
   "execution_count": 124,
   "metadata": {},
   "outputs": [
    {
     "data": {
      "text/html": [
       "<table class=\"show_images\" style=\"border-spacing:0px;\"><tr><td style=\"padding:1px;\"><img width=\"320\" height=\"240\" style=\"image-rendering:auto; object-fit:cover;\" src=\"data:image/png;base64,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\"/></td></tr></table>"
      ],
      "text/plain": [
       "<IPython.core.display.HTML object>"
      ]
     },
     "metadata": {},
     "output_type": "display_data"
    }
   ],
   "source": [
    "from importlib import reload\n",
    "\n",
    "reload(gym_lite6.env)\n",
    "reload(gym_lite6.utils)\n",
    "reload(gym_lite6.scripted_policy)\n",
    "reload(gym_lite6.pickup_task)\n",
    "\n",
    "# task = gym_lite6.pickup_task.GraspTask('gripper_left_finger', 'gripper_right_finger', 'box', 'floor')\n",
    "task = gym_lite6.pickup_task.GraspAndLiftTask('gripper_left_finger-1', 'gripper_right_finger-1', 'box-1', 'floor')\n",
    "\n",
    "env = gym.make(\n",
    "    \"UfactoryCubePickup-v0\",\n",
    "    task=task,\n",
    "    obs_type=\"pixels_state\",\n",
    "    max_episode_steps=300,\n",
    "    visualization_width=320,\n",
    "    visualization_height=240\n",
    ")\n",
    "\n",
    "observation, info = env.reset()\n",
    "media.show_image(env.unwrapped.render(camera=\"side_cam-1\"))\n"
   ]
  },
  {
   "cell_type": "code",
   "execution_count": null,
   "metadata": {},
   "outputs": [],
   "source": []
  }
 ],
 "metadata": {
  "kernelspec": {
   "display_name": "lerobot",
   "language": "python",
   "name": "python3"
  },
  "language_info": {
   "codemirror_mode": {
    "name": "ipython",
    "version": 3
   },
   "file_extension": ".py",
   "mimetype": "text/x-python",
   "name": "python",
   "nbconvert_exporter": "python",
   "pygments_lexer": "ipython3",
   "version": "3.10.16"
  }
 },
 "nbformat": 4,
 "nbformat_minor": 2
}
