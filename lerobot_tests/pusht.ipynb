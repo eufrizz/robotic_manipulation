{
 "cells": [
  {
   "cell_type": "code",
   "execution_count": 1,
   "metadata": {},
   "outputs": [],
   "source": [
    "import lerobot\n",
    "from lerobot.common.datasets.lerobot_dataset import LeRobotDataset\n",
    "from lerobot.common.policies.diffusion.configuration_diffusion import DiffusionConfig\n",
    "from lerobot.common.policies.diffusion.modeling_diffusion import DiffusionPolicy\n",
    "import torch\n",
    "import numpy as np\n",
    "device = torch.device(\"cuda\")\n"
   ]
  },
  {
   "cell_type": "code",
   "execution_count": 2,
   "metadata": {},
   "outputs": [
    {
     "data": {
      "application/vnd.jupyter.widget-view+json": {
       "model_id": "0c548d9961c9460a85a1d7e93040b724",
       "version_major": 2,
       "version_minor": 0
      },
      "text/plain": [
       "Fetching 4 files:   0%|          | 0/4 [00:00<?, ?it/s]"
      ]
     },
     "metadata": {},
     "output_type": "display_data"
    },
    {
     "data": {
      "application/vnd.jupyter.widget-view+json": {
       "model_id": "0dbb6eb167db44729924333a8fc2f109",
       "version_major": 2,
       "version_minor": 0
      },
      "text/plain": [
       "Fetching 418 files:   0%|          | 0/418 [00:00<?, ?it/s]"
      ]
     },
     "metadata": {},
     "output_type": "display_data"
    },
    {
     "data": {
      "application/vnd.jupyter.widget-view+json": {
       "model_id": "6ab7f8dd92604eb3b8ff80623108f220",
       "version_major": 2,
       "version_minor": 0
      },
      "text/plain": [
       "Resolving data files:   0%|          | 0/206 [00:00<?, ?it/s]"
      ]
     },
     "metadata": {},
     "output_type": "display_data"
    }
   ],
   "source": [
    "# Set up the dataset.\n",
    "delta_timestamps = {\n",
    "    # Load the previous image and state at -0.1 seconds before current frame,\n",
    "    # then load current image and state corresponding to 0.0 second.\n",
    "    \"observation.image\": [-0.1, 0.0],\n",
    "    \"observation.state\": [-0.1, 0.0],\n",
    "    # Load the previous action (-0.1), the next action to be executed (0.0),\n",
    "    # and 14 future actions with a 0.1 seconds spacing. All these actions will be\n",
    "    # used to supervise the policy.\n",
    "    \"action\": [-0.1, 0.0, 0.1, 0.2, 0.3, 0.4, 0.5, 0.6, 0.7, 0.8, 0.9, 1.0, 1.1, 1.2, 1.3, 1.4],\n",
    "}\n",
    "dataset = LeRobotDataset(\"lerobot/pusht\", delta_timestamps=delta_timestamps)\n"
   ]
  },
  {
   "cell_type": "code",
   "execution_count": 3,
   "metadata": {},
   "outputs": [],
   "source": [
    "cfg = DiffusionConfig()\n",
    "policy = DiffusionPolicy(cfg, dataset_stats=dataset.meta.stats)\n",
    "policy.train()\n",
    "policy.to(device)\n",
    "optimizer = torch.optim.Adam(policy.parameters(), lr=1e-4)\n"
   ]
  },
  {
   "cell_type": "code",
   "execution_count": 4,
   "metadata": {},
   "outputs": [],
   "source": [
    "dataloader = torch.utils.data.DataLoader(\n",
    "    dataset,\n",
    "    num_workers=4,\n",
    "    batch_size=64,\n",
    "    shuffle=True,\n",
    "    pin_memory=device != torch.device(\"cpu\"),\n",
    "    drop_last=True,\n",
    ")"
   ]
  },
  {
   "cell_type": "code",
   "execution_count": 6,
   "metadata": {},
   "outputs": [
    {
     "name": "stderr",
     "output_type": "stream",
     "text": [
      "/media/ssd/eugene/robotic_manipulation/lerobot_venv/lib/python3.10/site-packages/torch/nn/modules/conv.py:456: UserWarning: Plan failed with a cudnnException: CUDNN_BACKEND_EXECUTION_PLAN_DESCRIPTOR: cudnnFinalize Descriptor Failed cudnn_status: CUDNN_STATUS_NOT_SUPPORTED (Triggered internally at /opt/pytorch/aten/src/ATen/native/cudnn/Conv_v8.cpp:919.)\n",
      "  return F.conv2d(input, weight, bias, self.stride,\n",
      "/media/ssd/eugene/robotic_manipulation/lerobot_venv/lib/python3.10/site-packages/torch/autograd/graph.py:744: UserWarning: Plan failed with a cudnnException: CUDNN_BACKEND_EXECUTION_PLAN_DESCRIPTOR: cudnnFinalize Descriptor Failed cudnn_status: CUDNN_STATUS_NOT_SUPPORTED (Triggered internally at /opt/pytorch/aten/src/ATen/native/cudnn/Conv_v8.cpp:919.)\n",
      "  return Variable._execution_engine.run_backward(  # Calls into the C++ engine to run the backward pass\n"
     ]
    },
    {
     "name": "stdout",
     "output_type": "stream",
     "text": [
      "step: 0 loss: 1.089\n",
      "step: 250 loss: 0.056\n",
      "step: 500 loss: 0.060\n",
      "step: 750 loss: 0.046\n",
      "step: 1000 loss: 0.084\n",
      "step: 1250 loss: 0.044\n",
      "step: 1500 loss: 0.059\n",
      "step: 1750 loss: 0.031\n",
      "step: 2000 loss: 0.053\n",
      "step: 2250 loss: 0.029\n",
      "step: 2500 loss: 0.064\n",
      "step: 2750 loss: 0.043\n",
      "step: 3000 loss: 0.033\n",
      "step: 3250 loss: 0.031\n",
      "step: 3500 loss: 0.041\n",
      "step: 3750 loss: 0.051\n",
      "step: 4000 loss: 0.040\n",
      "step: 4250 loss: 0.045\n",
      "step: 4500 loss: 0.040\n",
      "step: 4750 loss: 0.042\n"
     ]
    }
   ],
   "source": [
    "training_steps = 5000\n",
    "\n",
    "step = 0\n",
    "done = False\n",
    "while not done:\n",
    "    for batch in dataloader:\n",
    "        batch = {k: v.to(device, non_blocking=True) for k, v in batch.items()}\n",
    "        output_dict = policy.forward(batch)\n",
    "        loss = output_dict[\"loss\"]\n",
    "        loss.backward()\n",
    "        optimizer.step()\n",
    "        optimizer.zero_grad()\n",
    "\n",
    "        if step % 250 == 0:\n",
    "            print(f\"step: {step} loss: {loss.item():.3f}\")\n",
    "        step += 1\n",
    "        if step >= training_steps:\n",
    "            done = True\n",
    "            break"
   ]
  },
  {
   "cell_type": "code",
   "execution_count": 7,
   "metadata": {},
   "outputs": [],
   "source": [
    "import datetime\n",
    "policy.save_pretrained(f\"ckpts/pusht_diffusion{datetime.datetime.now().strftime('%Y-%m-%d_%H-%M-%S')}\")"
   ]
  },
  {
   "cell_type": "code",
   "execution_count": null,
   "metadata": {},
   "outputs": [
    {
     "name": "stdout",
     "output_type": "stream",
     "text": [
      "Loading weights from local directory\n"
     ]
    },
    {
     "ename": "AttributeError",
     "evalue": "'DiffusionPolicy' object has no attribute 'pin_memory'",
     "output_type": "error",
     "traceback": [
      "\u001b[0;31m---------------------------------------------------------------------------\u001b[0m",
      "\u001b[0;31mAttributeError\u001b[0m                            Traceback (most recent call last)",
      "Cell \u001b[0;32mIn[22], line 1\u001b[0m\n\u001b[0;32m----> 1\u001b[0m policy \u001b[38;5;241m=\u001b[39m \u001b[43mDiffusionPolicy\u001b[49m\u001b[38;5;241;43m.\u001b[39;49m\u001b[43mfrom_pretrained\u001b[49m\u001b[43m(\u001b[49m\u001b[38;5;124;43m\"\u001b[39;49m\u001b[38;5;124;43mckpts/pusht_diffusion2025-01-09_22-37-03\u001b[39;49m\u001b[38;5;124;43m\"\u001b[39;49m\u001b[43m)\u001b[49m\u001b[38;5;241;43m.\u001b[39;49m\u001b[43mto\u001b[49m\u001b[43m(\u001b[49m\u001b[43mdevice\u001b[49m\u001b[43m)\u001b[49m\u001b[38;5;241;43m.\u001b[39;49m\u001b[43mpin_memory\u001b[49m()\n",
      "File \u001b[0;32m/media/ssd/eugene/robotic_manipulation/lerobot_venv/lib/python3.10/site-packages/torch/nn/modules/module.py:1709\u001b[0m, in \u001b[0;36mModule.__getattr__\u001b[0;34m(self, name)\u001b[0m\n\u001b[1;32m   1707\u001b[0m     \u001b[38;5;28;01mif\u001b[39;00m name \u001b[38;5;129;01min\u001b[39;00m modules:\n\u001b[1;32m   1708\u001b[0m         \u001b[38;5;28;01mreturn\u001b[39;00m modules[name]\n\u001b[0;32m-> 1709\u001b[0m \u001b[38;5;28;01mraise\u001b[39;00m \u001b[38;5;167;01mAttributeError\u001b[39;00m(\u001b[38;5;124mf\u001b[39m\u001b[38;5;124m\"\u001b[39m\u001b[38;5;124m'\u001b[39m\u001b[38;5;132;01m{\u001b[39;00m\u001b[38;5;28mtype\u001b[39m(\u001b[38;5;28mself\u001b[39m)\u001b[38;5;241m.\u001b[39m\u001b[38;5;18m__name__\u001b[39m\u001b[38;5;132;01m}\u001b[39;00m\u001b[38;5;124m'\u001b[39m\u001b[38;5;124m object has no attribute \u001b[39m\u001b[38;5;124m'\u001b[39m\u001b[38;5;132;01m{\u001b[39;00mname\u001b[38;5;132;01m}\u001b[39;00m\u001b[38;5;124m'\u001b[39m\u001b[38;5;124m\"\u001b[39m)\n",
      "\u001b[0;31mAttributeError\u001b[0m: 'DiffusionPolicy' object has no attribute 'pin_memory'"
     ]
    }
   ],
   "source": [
    "policy = DiffusionPolicy.from_pretrained(\"ckpts/pusht_diffusion2025-01-09_22-37-03\").to(device)\n"
   ]
  },
  {
   "cell_type": "code",
   "execution_count": 4,
   "metadata": {},
   "outputs": [],
   "source": [
    "from lerobot.common.envs.factory import make_env\n",
    "from lerobot.common.envs.utils import preprocess_observation\n",
    "from lerobot.common.utils.utils import init_hydra_config\n",
    "cfg = init_hydra_config(lerobot.__path__[0] + \"/configs/env/pusht.yaml\")\n",
    "# env = make_env(cfg, n_envs=1)\n"
   ]
  },
  {
   "cell_type": "code",
   "execution_count": 5,
   "metadata": {},
   "outputs": [
    {
     "data": {
      "text/plain": [
       "{'name': 'pusht', 'task': 'PushT-v0', 'image_size': 96, 'state_dim': 2, 'action_dim': 2, 'fps': '${fps}', 'episode_length': 300, 'gym': {'obs_type': 'pixels_agent_pos', 'render_mode': 'rgb_array', 'visualization_width': 384, 'visualization_height': 384}}"
      ]
     },
     "execution_count": 5,
     "metadata": {},
     "output_type": "execute_result"
    }
   ],
   "source": [
    "cfg.env"
   ]
  },
  {
   "cell_type": "code",
   "execution_count": 6,
   "metadata": {},
   "outputs": [],
   "source": [
    "import gymnasium as gym\n",
    "import mediapy as media\n",
    "import gym_pusht\n",
    "# gym.envs.pprint_registry()\n",
    "env = gym.make_vec('gym_pusht/PushT-v0', **dict(cfg.env.get(\"gym\", {})))\n",
    "obs, info = env.reset()\n",
    "# obs['pixels'] = obs['pixels'][np.newaxis,...]\n"
   ]
  },
  {
   "cell_type": "code",
   "execution_count": 15,
   "metadata": {},
   "outputs": [
    {
     "data": {
      "text/plain": [
       "OrderedDict([('agent_pos', array([[ 85., 209.]])),\n",
       "             ('pixels',\n",
       "              array([[[[255, 255, 255],\n",
       "                       [248, 248, 248],\n",
       "                       [248, 248, 248],\n",
       "                       ...,\n",
       "                       [248, 248, 248],\n",
       "                       [248, 248, 248],\n",
       "                       [255, 255, 255]],\n",
       "              \n",
       "                      [[248, 248, 248],\n",
       "                       [222, 222, 222],\n",
       "                       [233, 233, 233],\n",
       "                       ...,\n",
       "                       [233, 233, 233],\n",
       "                       [222, 222, 222],\n",
       "                       [248, 248, 248]],\n",
       "              \n",
       "                      [[247, 247, 247],\n",
       "                       [233, 233, 233],\n",
       "                       [255, 255, 255],\n",
       "                       ...,\n",
       "                       [255, 255, 255],\n",
       "                       [233, 233, 233],\n",
       "                       [247, 247, 247]],\n",
       "              \n",
       "                      ...,\n",
       "              \n",
       "                      [[247, 247, 247],\n",
       "                       [233, 233, 233],\n",
       "                       [255, 255, 255],\n",
       "                       ...,\n",
       "                       [255, 255, 255],\n",
       "                       [233, 233, 233],\n",
       "                       [247, 247, 247]],\n",
       "              \n",
       "                      [[248, 248, 248],\n",
       "                       [222, 222, 222],\n",
       "                       [233, 233, 233],\n",
       "                       ...,\n",
       "                       [233, 233, 233],\n",
       "                       [222, 222, 222],\n",
       "                       [248, 248, 248]],\n",
       "              \n",
       "                      [[255, 255, 255],\n",
       "                       [248, 248, 248],\n",
       "                       [248, 248, 248],\n",
       "                       ...,\n",
       "                       [248, 248, 248],\n",
       "                       [248, 248, 248],\n",
       "                       [255, 255, 255]]]], dtype=uint8))])"
      ]
     },
     "execution_count": 15,
     "metadata": {},
     "output_type": "execute_result"
    }
   ],
   "source": [
    "obs"
   ]
  },
  {
   "cell_type": "code",
   "execution_count": null,
   "metadata": {},
   "outputs": [
    {
     "name": "stdout",
     "output_type": "stream",
     "text": [
      "Step 0\n",
      "Preprocessing: 0.0018219947814941406s\n"
     ]
    },
    {
     "name": "stderr",
     "output_type": "stream",
     "text": [
      "STAGE:2025-01-14 17:35:12 571282:571282 ActivityProfilerController.cpp:314] Completed Stage: Warm Up\n"
     ]
    },
    {
     "name": "stdout",
     "output_type": "stream",
     "text": [
      "Inference: 5.500082492828369s\n",
      "Env step: 0.009531974792480469s\n",
      "Step 1\n",
      "Preprocessing: 0.0008671283721923828s\n",
      "Inference: 0.0027136802673339844s\n",
      "Env step: 0.012134075164794922s\n",
      "Step 2\n",
      "Preprocessing: 0.0010561943054199219s\n",
      "Inference: 0.0034317970275878906s\n",
      "Env step: 0.012519359588623047s\n",
      "Step 3\n",
      "Preprocessing: 0.0010619163513183594s\n",
      "Inference: 0.003720521926879883s\n",
      "Env step: 0.012822389602661133s\n",
      "Step 4\n",
      "Preprocessing: 0.0011029243469238281s\n",
      "Inference: 0.003754138946533203s\n",
      "Env step: 0.012717723846435547s\n",
      "Step 5\n",
      "Preprocessing: 0.0011451244354248047s\n",
      "Inference: 0.0036971569061279297s\n",
      "Env step: 0.012772083282470703s\n",
      "Step 6\n",
      "Preprocessing: 0.0010874271392822266s\n",
      "Inference: 0.0036847591400146484s\n",
      "Env step: 0.01273655891418457s\n",
      "Step 7\n",
      "Preprocessing: 0.0011467933654785156s\n",
      "Inference: 0.0037162303924560547s\n",
      "Env step: 0.012680530548095703s\n",
      "Step 8\n",
      "Preprocessing: 0.0010848045349121094s\n",
      "Inference: 5.399359464645386s\n",
      "Env step: 0.013236761093139648s\n",
      "Step 9\n",
      "Preprocessing: 0.0007200241088867188s\n",
      "Inference: 0.002228260040283203s\n",
      "Env step: 0.011960744857788086s\n",
      "Step 10\n",
      "Preprocessing: 0.00093841552734375s\n",
      "Inference: 0.0031158924102783203s\n",
      "Env step: 0.012398958206176758s\n",
      "Step 11\n",
      "Preprocessing: 0.0010688304901123047s\n",
      "Inference: 0.0038089752197265625s\n",
      "Env step: 0.012629985809326172s\n",
      "Step 12\n",
      "Preprocessing: 0.0011136531829833984s\n",
      "Inference: 0.003680706024169922s\n",
      "Env step: 0.01232767105102539s\n",
      "Step 13\n",
      "Preprocessing: 0.0010859966278076172s\n",
      "Inference: 0.003678560256958008s\n",
      "Env step: 0.012304544448852539s\n",
      "Step 14\n",
      "Preprocessing: 0.0010013580322265625s\n",
      "Inference: 0.0036499500274658203s\n",
      "Env step: 0.012706518173217773s\n",
      "Step 15\n",
      "Preprocessing: 0.0011830329895019531s\n",
      "Inference: 0.0035576820373535156s\n",
      "Env step: 0.012319326400756836s\n"
     ]
    },
    {
     "name": "stderr",
     "output_type": "stream",
     "text": [
      "STAGE:2025-01-14 17:35:24 571282:571282 ActivityProfilerController.cpp:320] Completed Stage: Collection\n",
      "STAGE:2025-01-14 17:35:24 571282:571282 ActivityProfilerController.cpp:324] Completed Stage: Post Processing\n"
     ]
    }
   ],
   "source": [
    "# Note: profiling needs to be run as root\n",
    "import time\n",
    "\n",
    "frames = []\n",
    "obs, info = env.reset()\n",
    "prep_obs = preprocess_observation(obs)\n",
    "prep_obs = {key: prep_obs[key].to(device, non_blocking=True) for key in prep_obs}\n",
    "frames.append(obs['pixels'][0])\n",
    "\n",
    "terminated =  truncated = False\n",
    "step = 0\n",
    "while step < 16 and (not truncated or terminated):\n",
    "    print(f\"Step {step}\")\n",
    "    t0 = time.time()\n",
    "    prep_obs = preprocess_observation(obs)\n",
    "    prep_obs = {key: prep_obs[key].to(device, non_blocking=True) for key in prep_obs}\n",
    "    t1 = time.time()\n",
    "    print(f\"Preprocessing: {t1-t0}s\")\n",
    "    # with record_function(\"model_inference\"):\n",
    "    with torch.inference_mode():\n",
    "        action = policy.select_action(prep_obs )\n",
    "    t2 = time.time()\n",
    "    print(f\"Inference: {t2-t1}s\")\n",
    "\n",
    "    obs, reward, terminated, truncated, info = env.step(action.cpu().numpy())\n",
    "    t3 = time.time()\n",
    "    print(f\"Env step: {t3-t2}s\")\n",
    "    frames.append(obs['pixels'][0])\n",
    "    step += 1\n",
    "    # obs['pixels'] = obs['pixels'][np.newaxis,...]\n"
   ]
  },
  {
   "cell_type": "code",
   "execution_count": 37,
   "metadata": {},
   "outputs": [
    {
     "name": "stdout",
     "output_type": "stream",
     "text": [
      "-------------------------------------  ------------  ------------  ------------  ------------  ------------  ------------  \n",
      "                                 Name    Self CPU %      Self CPU   CPU total %     CPU total  CPU time avg    # of Calls  \n",
      "-------------------------------------  ------------  ------------  ------------  ------------  ------------  ------------  \n",
      "                     aten::lift_fresh         0.00%     161.000us         0.00%     161.000us       4.472us            36  \n",
      "                        aten::permute         0.03%       3.134ms         0.04%       4.403ms      10.584us           416  \n",
      "                     aten::as_strided         0.62%      68.105ms         0.62%      68.105ms       1.750us         38918  \n",
      "                     aten::contiguous         0.01%       1.631ms         0.35%      37.968ms      90.833us           418  \n",
      "                          aten::clone         0.04%       4.509ms         0.33%      36.403ms      87.089us           418  \n",
      "                     aten::empty_like         0.02%       2.384ms         0.07%       7.983ms      19.098us           418  \n",
      "                          aten::empty         2.31%     253.548ms         2.31%     253.548ms       9.500us         26690  \n",
      "                          aten::copy_         0.30%      33.026ms         0.30%      33.026ms      19.336us          1708  \n",
      "                             aten::to         0.04%       4.715ms         0.27%      29.649ms      10.217us          2902  \n",
      "                       aten::_to_copy         0.11%      11.932ms         0.23%      25.261ms      19.582us          1290  \n",
      "-------------------------------------  ------------  ------------  ------------  ------------  ------------  ------------  \n",
      "Self CPU time total: 10.959s\n",
      "\n"
     ]
    }
   ],
   "source": [
    "print(prof.key_averages().table(sort_by='cuda_time_total', row_limit=10))"
   ]
  },
  {
   "cell_type": "code",
   "execution_count": 25,
   "metadata": {},
   "outputs": [
    {
     "data": {
      "text/plain": [
       "device(type='cuda', index=0)"
      ]
     },
     "execution_count": 25,
     "metadata": {},
     "output_type": "execute_result"
    }
   ],
   "source": [
    "next(policy.parameters()).device"
   ]
  },
  {
   "cell_type": "code",
   "execution_count": 31,
   "metadata": {},
   "outputs": [
    {
     "data": {
      "text/plain": [
       "[<FunctionEventAvg key=aten::lift_fresh self_cpu_time=143.000us cpu_time=3.972us  self_cuda_time=0.000us cuda_time=0.000us input_shapes= cpu_memory_usage=0 cuda_memory_usage=0>,\n",
       " <FunctionEventAvg key=aten::permute self_cpu_time=3.309ms cpu_time=10.945us  self_cuda_time=0.000us cuda_time=0.000us input_shapes= cpu_memory_usage=0 cuda_memory_usage=0>,\n",
       " <FunctionEventAvg key=aten::as_strided self_cpu_time=68.182ms cpu_time=1.752us  self_cuda_time=0.000us cuda_time=0.000us input_shapes= cpu_memory_usage=0 cuda_memory_usage=0>,\n",
       " <FunctionEventAvg key=aten::contiguous self_cpu_time=1.712ms cpu_time=78.462us  self_cuda_time=0.000us cuda_time=0.000us input_shapes= cpu_memory_usage=0 cuda_memory_usage=0>,\n",
       " <FunctionEventAvg key=aten::clone self_cpu_time=4.342ms cpu_time=74.835us  self_cuda_time=0.000us cuda_time=0.000us input_shapes= cpu_memory_usage=0 cuda_memory_usage=0>,\n",
       " <FunctionEventAvg key=aten::empty_like self_cpu_time=2.385ms cpu_time=19.447us  self_cuda_time=0.000us cuda_time=0.000us input_shapes= cpu_memory_usage=0 cuda_memory_usage=0>,\n",
       " <FunctionEventAvg key=aten::empty self_cpu_time=264.669ms cpu_time=9.916us  self_cuda_time=0.000us cuda_time=0.000us input_shapes= cpu_memory_usage=0 cuda_memory_usage=0>,\n",
       " <FunctionEventAvg key=aten::copy_ self_cpu_time=28.431ms cpu_time=16.646us  self_cuda_time=0.000us cuda_time=0.000us input_shapes= cpu_memory_usage=0 cuda_memory_usage=0>,\n",
       " <FunctionEventAvg key=aten::to self_cpu_time=4.802ms cpu_time=10.713us  self_cuda_time=0.000us cuda_time=0.000us input_shapes= cpu_memory_usage=0 cuda_memory_usage=0>,\n",
       " <FunctionEventAvg key=aten::_to_copy self_cpu_time=12.634ms cpu_time=20.654us  self_cuda_time=0.000us cuda_time=0.000us input_shapes= cpu_memory_usage=0 cuda_memory_usage=0>,\n",
       " <FunctionEventAvg key=aten::empty_strided self_cpu_time=4.442ms cpu_time=3.443us  self_cuda_time=0.000us cuda_time=0.000us input_shapes= cpu_memory_usage=0 cuda_memory_usage=0>,\n",
       " <FunctionEventAvg key=aten::div_ self_cpu_time=1.340ms cpu_time=116.625us  self_cuda_time=0.000us cuda_time=0.000us input_shapes= cpu_memory_usage=0 cuda_memory_usage=0>,\n",
       " <FunctionEventAvg key=model_inference self_cpu_time=1.761s cpu_time=683.481ms  self_cuda_time=0.000us cuda_time=0.000us input_shapes= cpu_memory_usage=0 cuda_memory_usage=0>,\n",
       " <FunctionEventAvg key=aten::isinf self_cpu_time=1.323ms cpu_time=213.779us  self_cuda_time=0.000us cuda_time=0.000us input_shapes= cpu_memory_usage=0 cuda_memory_usage=0>,\n",
       " <FunctionEventAvg key=aten::abs self_cpu_time=5.779ms cpu_time=100.404us  self_cuda_time=0.000us cuda_time=0.000us input_shapes= cpu_memory_usage=0 cuda_memory_usage=0>,\n",
       " <FunctionEventAvg key=aten::resize_ self_cpu_time=3.142ms cpu_time=11.724us  self_cuda_time=0.000us cuda_time=0.000us input_shapes= cpu_memory_usage=0 cuda_memory_usage=0>,\n",
       " <FunctionEventAvg key=aten::eq self_cpu_time=15.446ms cpu_time=17.877us  self_cuda_time=0.000us cuda_time=0.000us input_shapes= cpu_memory_usage=0 cuda_memory_usage=0>,\n",
       " <FunctionEventAvg key=aten::any self_cpu_time=6.159ms cpu_time=94.838us  self_cuda_time=0.000us cuda_time=0.000us input_shapes= cpu_memory_usage=0 cuda_memory_usage=0>,\n",
       " <FunctionEventAvg key=aten::is_nonzero self_cpu_time=3.005ms cpu_time=211.251us  self_cuda_time=0.000us cuda_time=0.000us input_shapes= cpu_memory_usage=0 cuda_memory_usage=0>,\n",
       " <FunctionEventAvg key=aten::item self_cpu_time=6.933ms cpu_time=91.828us  self_cuda_time=0.000us cuda_time=0.000us input_shapes= cpu_memory_usage=0 cuda_memory_usage=0>,\n",
       " <FunctionEventAvg key=aten::_local_scalar_dense self_cpu_time=218.803ms cpu_time=89.017us  self_cuda_time=0.000us cuda_time=0.000us input_shapes= cpu_memory_usage=0 cuda_memory_usage=0>,\n",
       " <FunctionEventAvg key=aten::sub self_cpu_time=23.283ms cpu_time=31.296us  self_cuda_time=0.000us cuda_time=0.000us input_shapes= cpu_memory_usage=0 cuda_memory_usage=0>,\n",
       " <FunctionEventAvg key=aten::add self_cpu_time=667.731ms cpu_time=118.560us  self_cuda_time=0.000us cuda_time=0.000us input_shapes= cpu_memory_usage=0 cuda_memory_usage=0>,\n",
       " <FunctionEventAvg key=aten::div self_cpu_time=16.358ms cpu_time=13.299us  self_cuda_time=0.000us cuda_time=0.000us input_shapes= cpu_memory_usage=0 cuda_memory_usage=0>,\n",
       " <FunctionEventAvg key=aten::mul self_cpu_time=282.639ms cpu_time=67.071us  self_cuda_time=0.000us cuda_time=0.000us input_shapes= cpu_memory_usage=0 cuda_memory_usage=0>,\n",
       " <FunctionEventAvg key=aten::stack self_cpu_time=555.000us cpu_time=197.000us  self_cuda_time=0.000us cuda_time=0.000us input_shapes= cpu_memory_usage=0 cuda_memory_usage=0>,\n",
       " <FunctionEventAvg key=aten::cat self_cpu_time=572.269ms cpu_time=697.100us  self_cuda_time=0.000us cuda_time=0.000us input_shapes= cpu_memory_usage=0 cuda_memory_usage=0>,\n",
       " <FunctionEventAvg key=aten::narrow self_cpu_time=291.000us cpu_time=37.350us  self_cuda_time=0.000us cuda_time=0.000us input_shapes= cpu_memory_usage=0 cuda_memory_usage=0>,\n",
       " <FunctionEventAvg key=aten::slice self_cpu_time=67.262ms cpu_time=8.480us  self_cuda_time=0.000us cuda_time=0.000us input_shapes= cpu_memory_usage=0 cuda_memory_usage=0>,\n",
       " <FunctionEventAvg key=aten::view self_cpu_time=77.762ms cpu_time=2.859us  self_cuda_time=0.000us cuda_time=0.000us input_shapes= cpu_memory_usage=0 cuda_memory_usage=0>,\n",
       " <FunctionEventAvg key=aten::reshape self_cpu_time=36.724ms cpu_time=12.003us  self_cuda_time=0.000us cuda_time=0.000us input_shapes= cpu_memory_usage=0 cuda_memory_usage=0>,\n",
       " <FunctionEventAvg key=aten::randint self_cpu_time=80.000us cpu_time=42.000us  self_cuda_time=0.000us cuda_time=0.000us input_shapes= cpu_memory_usage=0 cuda_memory_usage=0>,\n",
       " <FunctionEventAvg key=aten::random_ self_cpu_time=56.000us cpu_time=14.000us  self_cuda_time=0.000us cuda_time=0.000us input_shapes= cpu_memory_usage=0 cuda_memory_usage=0>,\n",
       " <FunctionEventAvg key=aten::conv2d self_cpu_time=649.000us cpu_time=272.881us  self_cuda_time=0.000us cuda_time=0.000us input_shapes= cpu_memory_usage=0 cuda_memory_usage=0>,\n",
       " <FunctionEventAvg key=aten::convolution self_cpu_time=55.576ms cpu_time=505.222us  self_cuda_time=0.000us cuda_time=0.000us input_shapes= cpu_memory_usage=0 cuda_memory_usage=0>,\n",
       " <FunctionEventAvg key=aten::_convolution self_cpu_time=298.845ms cpu_time=497.330us  self_cuda_time=0.000us cuda_time=0.000us input_shapes= cpu_memory_usage=0 cuda_memory_usage=0>,\n",
       " <FunctionEventAvg key=aten::cudnn_convolution self_cpu_time=2.107s cpu_time=317.230us  self_cuda_time=0.000us cuda_time=0.000us input_shapes= cpu_memory_usage=0 cuda_memory_usage=0>,\n",
       " <FunctionEventAvg key=aten::group_norm self_cpu_time=57.979ms cpu_time=431.051us  self_cuda_time=0.000us cuda_time=0.000us input_shapes= cpu_memory_usage=0 cuda_memory_usage=0>,\n",
       " <FunctionEventAvg key=aten::native_group_norm self_cpu_time=1.835s cpu_time=419.547us  self_cuda_time=0.000us cuda_time=0.000us input_shapes= cpu_memory_usage=0 cuda_memory_usage=0>,\n",
       " <FunctionEventAvg key=aten::relu_ self_cpu_time=524.000us cpu_time=75.882us  self_cuda_time=0.000us cuda_time=0.000us input_shapes= cpu_memory_usage=0 cuda_memory_usage=0>,\n",
       " <FunctionEventAvg key=aten::clamp_min_ self_cpu_time=2.056ms cpu_time=60.471us  self_cuda_time=0.000us cuda_time=0.000us input_shapes= cpu_memory_usage=0 cuda_memory_usage=0>,\n",
       " <FunctionEventAvg key=aten::max_pool2d self_cpu_time=44.000us cpu_time=113.000us  self_cuda_time=0.000us cuda_time=0.000us input_shapes= cpu_memory_usage=0 cuda_memory_usage=0>,\n",
       " <FunctionEventAvg key=aten::max_pool2d_with_indices self_cpu_time=182.000us cpu_time=91.000us  self_cuda_time=0.000us cuda_time=0.000us input_shapes= cpu_memory_usage=0 cuda_memory_usage=0>,\n",
       " <FunctionEventAvg key=aten::add_ self_cpu_time=769.719ms cpu_time=109.678us  self_cuda_time=0.000us cuda_time=0.000us input_shapes= cpu_memory_usage=0 cuda_memory_usage=0>,\n",
       " <FunctionEventAvg key=aten::softmax self_cpu_time=25.000us cpu_time=87.500us  self_cuda_time=0.000us cuda_time=0.000us input_shapes= cpu_memory_usage=0 cuda_memory_usage=0>,\n",
       " <FunctionEventAvg key=aten::_softmax self_cpu_time=150.000us cpu_time=75.000us  self_cuda_time=0.000us cuda_time=0.000us input_shapes= cpu_memory_usage=0 cuda_memory_usage=0>,\n",
       " <FunctionEventAvg key=aten::matmul self_cpu_time=32.000us cpu_time=149.500us  self_cuda_time=0.000us cuda_time=0.000us input_shapes= cpu_memory_usage=0 cuda_memory_usage=0>,\n",
       " <FunctionEventAvg key=aten::mm self_cpu_time=267.000us cpu_time=133.500us  self_cuda_time=0.000us cuda_time=0.000us input_shapes= cpu_memory_usage=0 cuda_memory_usage=0>,\n",
       " <FunctionEventAvg key=aten::flatten self_cpu_time=54.000us cpu_time=18.250us  self_cuda_time=0.000us cuda_time=0.000us input_shapes= cpu_memory_usage=0 cuda_memory_usage=0>,\n",
       " <FunctionEventAvg key=aten::linear self_cpu_time=28.685ms cpu_time=291.794us  self_cuda_time=0.000us cuda_time=0.000us input_shapes= cpu_memory_usage=0 cuda_memory_usage=0>,\n",
       " <FunctionEventAvg key=aten::t self_cpu_time=18.030ms cpu_time=17.014us  self_cuda_time=0.000us cuda_time=0.000us input_shapes= cpu_memory_usage=0 cuda_memory_usage=0>,\n",
       " <FunctionEventAvg key=aten::transpose self_cpu_time=21.143ms cpu_time=10.585us  self_cuda_time=0.000us cuda_time=0.000us input_shapes= cpu_memory_usage=0 cuda_memory_usage=0>,\n",
       " <FunctionEventAvg key=aten::addmm self_cpu_time=741.248ms cpu_time=264.542us  self_cuda_time=0.000us cuda_time=0.000us input_shapes= cpu_memory_usage=0 cuda_memory_usage=0>,\n",
       " <FunctionEventAvg key=aten::relu self_cpu_time=34.000us cpu_time=95.500us  self_cuda_time=0.000us cuda_time=0.000us input_shapes= cpu_memory_usage=0 cuda_memory_usage=0>,\n",
       " <FunctionEventAvg key=aten::clamp_min self_cpu_time=157.000us cpu_time=78.500us  self_cuda_time=0.000us cuda_time=0.000us input_shapes= cpu_memory_usage=0 cuda_memory_usage=0>,\n",
       " <FunctionEventAvg key=aten::randn self_cpu_time=2.851ms cpu_time=65.515us  self_cuda_time=0.000us cuda_time=0.000us input_shapes= cpu_memory_usage=0 cuda_memory_usage=0>,\n",
       " <FunctionEventAvg key=aten::normal_ self_cpu_time=7.524ms cpu_time=37.620us  self_cuda_time=0.000us cuda_time=0.000us input_shapes= cpu_memory_usage=0 cuda_memory_usage=0>,\n",
       " <FunctionEventAvg key=aten::unbind self_cpu_time=2.126ms cpu_time=16.455us  self_cuda_time=0.000us cuda_time=0.000us input_shapes= cpu_memory_usage=0 cuda_memory_usage=0>,\n",
       " <FunctionEventAvg key=aten::select self_cpu_time=15.297ms cpu_time=8.005us  self_cuda_time=0.000us cuda_time=0.000us input_shapes= cpu_memory_usage=0 cuda_memory_usage=0>,\n",
       " <FunctionEventAvg key=aten::full self_cpu_time=2.502ms cpu_time=56.860us  self_cuda_time=0.000us cuda_time=0.000us input_shapes= cpu_memory_usage=0 cuda_memory_usage=0>,\n",
       " <FunctionEventAvg key=aten::fill_ self_cpu_time=6.142ms cpu_time=30.710us  self_cuda_time=0.000us cuda_time=0.000us input_shapes= cpu_memory_usage=0 cuda_memory_usage=0>,\n",
       " <FunctionEventAvg key=aten::arange self_cpu_time=9.596ms cpu_time=55.440us  self_cuda_time=0.000us cuda_time=0.000us input_shapes= cpu_memory_usage=0 cuda_memory_usage=0>,\n",
       " <FunctionEventAvg key=aten::exp self_cpu_time=7.232ms cpu_time=36.160us  self_cuda_time=0.000us cuda_time=0.000us input_shapes= cpu_memory_usage=0 cuda_memory_usage=0>,\n",
       " <FunctionEventAvg key=aten::unsqueeze self_cpu_time=107.009ms cpu_time=7.989us  self_cuda_time=0.000us cuda_time=0.000us input_shapes= cpu_memory_usage=0 cuda_memory_usage=0>,\n",
       " <FunctionEventAvg key=aten::sin self_cpu_time=7.212ms cpu_time=36.060us  self_cuda_time=0.000us cuda_time=0.000us input_shapes= cpu_memory_usage=0 cuda_memory_usage=0>,\n",
       " <FunctionEventAvg key=aten::cos self_cpu_time=6.995ms cpu_time=34.975us  self_cuda_time=0.000us cuda_time=0.000us input_shapes= cpu_memory_usage=0 cuda_memory_usage=0>,\n",
       " <FunctionEventAvg key=aten::mish self_cpu_time=477.319ms cpu_time=62.805us  self_cuda_time=0.000us cuda_time=0.000us input_shapes= cpu_memory_usage=0 cuda_memory_usage=0>,\n",
       " <FunctionEventAvg key=aten::conv1d self_cpu_time=50.416ms cpu_time=530.245us  self_cuda_time=0.000us cuda_time=0.000us input_shapes= cpu_memory_usage=0 cuda_memory_usage=0>,\n",
       " <FunctionEventAvg key=aten::squeeze self_cpu_time=57.476ms cpu_time=10.239us  self_cuda_time=0.000us cuda_time=0.000us input_shapes= cpu_memory_usage=0 cuda_memory_usage=0>,\n",
       " <FunctionEventAvg key=aten::conv_transpose1d self_cpu_time=3.262ms cpu_time=252.542us  self_cuda_time=0.000us cuda_time=0.000us input_shapes= cpu_memory_usage=0 cuda_memory_usage=0>,\n",
       " <FunctionEventAvg key=aten::cudnn_convolution_transpose self_cpu_time=33.180ms cpu_time=82.950us  self_cuda_time=0.000us cuda_time=0.000us input_shapes= cpu_memory_usage=0 cuda_memory_usage=0>,\n",
       " <FunctionEventAvg key=aten::nonzero_numpy self_cpu_time=2.493ms cpu_time=50.198us  self_cuda_time=0.000us cuda_time=0.000us input_shapes= cpu_memory_usage=0 cuda_memory_usage=0>,\n",
       " <FunctionEventAvg key=aten::nonzero self_cpu_time=9.196ms cpu_time=31.276us  self_cuda_time=0.000us cuda_time=0.000us input_shapes= cpu_memory_usage=0 cuda_memory_usage=0>,\n",
       " <FunctionEventAvg key=aten::as_strided_ self_cpu_time=2.164ms cpu_time=5.437us  self_cuda_time=0.000us cuda_time=0.000us input_shapes= cpu_memory_usage=0 cuda_memory_usage=0>,\n",
       " <FunctionEventAvg key=aten::ge self_cpu_time=3.977ms cpu_time=9.992us  self_cuda_time=0.000us cuda_time=0.000us input_shapes= cpu_memory_usage=0 cuda_memory_usage=0>,\n",
       " <FunctionEventAvg key=aten::rsub self_cpu_time=6.786ms cpu_time=33.446us  self_cuda_time=0.000us cuda_time=0.000us input_shapes= cpu_memory_usage=0 cuda_memory_usage=0>,\n",
       " <FunctionEventAvg key=aten::pow self_cpu_time=12.871ms cpu_time=13.454us  self_cuda_time=0.000us cuda_time=0.000us input_shapes= cpu_memory_usage=0 cuda_memory_usage=0>,\n",
       " <FunctionEventAvg key=aten::result_type self_cpu_time=556.000us cpu_time=0.557us  self_cuda_time=0.000us cuda_time=0.000us input_shapes= cpu_memory_usage=0 cuda_memory_usage=0>,\n",
       " <FunctionEventAvg key=aten::clamp self_cpu_time=10.817ms cpu_time=27.181us  self_cuda_time=0.000us cuda_time=0.000us input_shapes= cpu_memory_usage=0 cuda_memory_usage=0>,\n",
       " <FunctionEventAvg key=aten::gt self_cpu_time=2.613ms cpu_time=13.065us  self_cuda_time=0.000us cuda_time=0.000us input_shapes= cpu_memory_usage=0 cuda_memory_usage=0>,\n",
       " <FunctionEventAvg key=aten::detach_ self_cpu_time=0.000us cpu_time=0.000us  self_cuda_time=0.000us cuda_time=0.000us input_shapes= cpu_memory_usage=0 cuda_memory_usage=0>,\n",
       " <FunctionEventAvg key=aten::detach self_cpu_time=116.000us cpu_time=20.250us  self_cuda_time=0.000us cuda_time=0.000us input_shapes= cpu_memory_usage=0 cuda_memory_usage=0>,\n",
       " <FunctionEventAvg key=detach self_cpu_time=208.000us cpu_time=13.000us  self_cuda_time=0.000us cuda_time=0.000us input_shapes= cpu_memory_usage=0 cuda_memory_usage=0>,\n",
       " <FunctionEventAvg key=aten::resolve_conj self_cpu_time=16.000us cpu_time=1.000us  self_cuda_time=0.000us cuda_time=0.000us input_shapes= cpu_memory_usage=0 cuda_memory_usage=0>,\n",
       " <FunctionEventAvg key=aten::resolve_neg self_cpu_time=4.000us cpu_time=0.250us  self_cuda_time=0.000us cuda_time=0.000us input_shapes= cpu_memory_usage=0 cuda_memory_usage=0>]"
      ]
     },
     "execution_count": 31,
     "metadata": {},
     "output_type": "execute_result"
    }
   ],
   "source": [
    "prof.key_averages()"
   ]
  },
  {
   "cell_type": "code",
   "execution_count": 40,
   "metadata": {},
   "outputs": [
    {
     "data": {
      "text/html": [
       "<table class=\"show_videos\" style=\"border-spacing:0px;\"><tr><td style=\"padding:1px;\"><video controls width=\"96\" height=\"96\" style=\"object-fit:cover;\" loop autoplay muted>\n",
       "      <source src=\"data:video/mp4;base64,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\" type=\"video/mp4\"/>\n",
       "      This browser does not support the video tag.\n",
       "      </video></td></tr></table>"
      ],
      "text/plain": [
       "<IPython.core.display.HTML object>"
      ]
     },
     "metadata": {},
     "output_type": "display_data"
    }
   ],
   "source": [
    "media.show_video(frames)"
   ]
  },
  {
   "cell_type": "code",
   "execution_count": 16,
   "metadata": {},
   "outputs": [],
   "source": [
    "prep_obs = preprocess_observation(obs)\n",
    "\n",
    "prep_obs_d = {key: prep_obs[key].to(device, non_blocking=True) for key in prep_obs}"
   ]
  },
  {
   "cell_type": "code",
   "execution_count": 52,
   "metadata": {},
   "outputs": [],
   "source": [
    "from importlib import reload\n",
    "import lerobot.common.envs.utils\n",
    "reload(lerobot.common.envs.utils)\n",
    "from lerobot.common.envs.utils import preprocess_observation"
   ]
  },
  {
   "cell_type": "code",
   "execution_count": 18,
   "metadata": {},
   "outputs": [
    {
     "data": {
      "text/plain": [
       "tensor([[394.0484, 339.3702]], device='cuda:0')"
      ]
     },
     "execution_count": 18,
     "metadata": {},
     "output_type": "execute_result"
    }
   ],
   "source": [
    "policy.select_action(prep_obs_d)"
   ]
  },
  {
   "cell_type": "code",
   "execution_count": 20,
   "metadata": {},
   "outputs": [
    {
     "data": {
      "text/plain": [
       "tensor([[393.5116, 339.3528]], device='cuda:0')"
      ]
     },
     "execution_count": 20,
     "metadata": {},
     "output_type": "execute_result"
    }
   ],
   "source": [
    "action"
   ]
  },
  {
   "cell_type": "code",
   "execution_count": 22,
   "metadata": {},
   "outputs": [
    {
     "ename": "AlreadyPendingCallError",
     "evalue": "Calling `reset_async` while waiting for a pending call to `step` to complete",
     "output_type": "error",
     "traceback": [
      "\u001b[0;31m---------------------------------------------------------------------------\u001b[0m",
      "\u001b[0;31mAlreadyPendingCallError\u001b[0m                   Traceback (most recent call last)",
      "Cell \u001b[0;32mIn[22], line 1\u001b[0m\n\u001b[0;32m----> 1\u001b[0m \u001b[43menv\u001b[49m\u001b[38;5;241;43m.\u001b[39;49m\u001b[43mreset\u001b[49m\u001b[43m(\u001b[49m\u001b[43m)\u001b[49m\n\u001b[1;32m      2\u001b[0m env\u001b[38;5;241m.\u001b[39mstep(action)\n",
      "File \u001b[0;32m/media/ssd/eugene/robotic_manipulation/lerobot_venv/lib/python3.10/site-packages/gymnasium/experimental/vector/async_vector_env.py:277\u001b[0m, in \u001b[0;36mAsyncVectorEnv.reset\u001b[0;34m(self, seed, options)\u001b[0m\n\u001b[1;32m    262\u001b[0m \u001b[38;5;28;01mdef\u001b[39;00m \u001b[38;5;21mreset\u001b[39m(\n\u001b[1;32m    263\u001b[0m     \u001b[38;5;28mself\u001b[39m,\n\u001b[1;32m    264\u001b[0m     \u001b[38;5;241m*\u001b[39m,\n\u001b[1;32m    265\u001b[0m     seed: \u001b[38;5;28mint\u001b[39m \u001b[38;5;241m|\u001b[39m \u001b[38;5;28mlist\u001b[39m[\u001b[38;5;28mint\u001b[39m] \u001b[38;5;241m|\u001b[39m \u001b[38;5;28;01mNone\u001b[39;00m \u001b[38;5;241m=\u001b[39m \u001b[38;5;28;01mNone\u001b[39;00m,\n\u001b[1;32m    266\u001b[0m     options: \u001b[38;5;28mdict\u001b[39m \u001b[38;5;241m|\u001b[39m \u001b[38;5;28;01mNone\u001b[39;00m \u001b[38;5;241m=\u001b[39m \u001b[38;5;28;01mNone\u001b[39;00m,\n\u001b[1;32m    267\u001b[0m ):\n\u001b[1;32m    268\u001b[0m \u001b[38;5;250m    \u001b[39m\u001b[38;5;124;03m\"\"\"Reset all parallel environments and return a batch of initial observations and info.\u001b[39;00m\n\u001b[1;32m    269\u001b[0m \n\u001b[1;32m    270\u001b[0m \u001b[38;5;124;03m    Args:\u001b[39;00m\n\u001b[0;32m   (...)\u001b[0m\n\u001b[1;32m    275\u001b[0m \u001b[38;5;124;03m        A batch of observations and info from the vectorized environment.\u001b[39;00m\n\u001b[1;32m    276\u001b[0m \u001b[38;5;124;03m    \"\"\"\u001b[39;00m\n\u001b[0;32m--> 277\u001b[0m     \u001b[38;5;28;43mself\u001b[39;49m\u001b[38;5;241;43m.\u001b[39;49m\u001b[43mreset_async\u001b[49m\u001b[43m(\u001b[49m\u001b[43mseed\u001b[49m\u001b[38;5;241;43m=\u001b[39;49m\u001b[43mseed\u001b[49m\u001b[43m,\u001b[49m\u001b[43m \u001b[49m\u001b[43moptions\u001b[49m\u001b[38;5;241;43m=\u001b[39;49m\u001b[43moptions\u001b[49m\u001b[43m)\u001b[49m\n\u001b[1;32m    278\u001b[0m     \u001b[38;5;28;01mreturn\u001b[39;00m \u001b[38;5;28mself\u001b[39m\u001b[38;5;241m.\u001b[39mreset_wait()\n",
      "File \u001b[0;32m/media/ssd/eugene/robotic_manipulation/lerobot_venv/lib/python3.10/site-packages/gymnasium/experimental/vector/async_vector_env.py:201\u001b[0m, in \u001b[0;36mAsyncVectorEnv.reset_async\u001b[0;34m(self, seed, options)\u001b[0m\n\u001b[1;32m    198\u001b[0m \u001b[38;5;28;01massert\u001b[39;00m \u001b[38;5;28mlen\u001b[39m(seed) \u001b[38;5;241m==\u001b[39m \u001b[38;5;28mself\u001b[39m\u001b[38;5;241m.\u001b[39mnum_envs\n\u001b[1;32m    200\u001b[0m \u001b[38;5;28;01mif\u001b[39;00m \u001b[38;5;28mself\u001b[39m\u001b[38;5;241m.\u001b[39m_state \u001b[38;5;241m!=\u001b[39m AsyncState\u001b[38;5;241m.\u001b[39mDEFAULT:\n\u001b[0;32m--> 201\u001b[0m     \u001b[38;5;28;01mraise\u001b[39;00m AlreadyPendingCallError(\n\u001b[1;32m    202\u001b[0m         \u001b[38;5;124mf\u001b[39m\u001b[38;5;124m\"\u001b[39m\u001b[38;5;124mCalling `reset_async` while waiting for a pending call to `\u001b[39m\u001b[38;5;132;01m{\u001b[39;00m\u001b[38;5;28mself\u001b[39m\u001b[38;5;241m.\u001b[39m_state\u001b[38;5;241m.\u001b[39mvalue\u001b[38;5;132;01m}\u001b[39;00m\u001b[38;5;124m` to complete\u001b[39m\u001b[38;5;124m\"\u001b[39m,\n\u001b[1;32m    203\u001b[0m         \u001b[38;5;28mstr\u001b[39m(\u001b[38;5;28mself\u001b[39m\u001b[38;5;241m.\u001b[39m_state\u001b[38;5;241m.\u001b[39mvalue),\n\u001b[1;32m    204\u001b[0m     )\n\u001b[1;32m    206\u001b[0m \u001b[38;5;28;01mfor\u001b[39;00m pipe, single_seed \u001b[38;5;129;01min\u001b[39;00m \u001b[38;5;28mzip\u001b[39m(\u001b[38;5;28mself\u001b[39m\u001b[38;5;241m.\u001b[39mparent_pipes, seed):\n\u001b[1;32m    207\u001b[0m     single_kwargs \u001b[38;5;241m=\u001b[39m {}\n",
      "\u001b[0;31mAlreadyPendingCallError\u001b[0m: Calling `reset_async` while waiting for a pending call to `step` to complete"
     ]
    }
   ],
   "source": [
    "env.reset()\n",
    "env.step(action)"
   ]
  },
  {
   "cell_type": "code",
   "execution_count": null,
   "metadata": {},
   "outputs": [],
   "source": []
  }
 ],
 "metadata": {
  "kernelspec": {
   "display_name": "lerobot_venv",
   "language": "python",
   "name": "python3"
  },
  "language_info": {
   "codemirror_mode": {
    "name": "ipython",
    "version": 3
   },
   "file_extension": ".py",
   "mimetype": "text/x-python",
   "name": "python",
   "nbconvert_exporter": "python",
   "pygments_lexer": "ipython3",
   "version": "3.10.12"
  }
 },
 "nbformat": 4,
 "nbformat_minor": 2
}
