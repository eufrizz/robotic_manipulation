{
 "cells": [
  {
   "cell_type": "code",
   "execution_count": null,
   "metadata": {},
   "outputs": [],
   "source": [
    "import gymnasium as gym\n",
    "%env MUJOCO_GL=egl\n",
    "from datasets import load_from_disk, concatenate_datasets\n"
   ]
  },
  {
   "cell_type": "code",
   "execution_count": null,
   "metadata": {},
   "outputs": [],
   "source": [
    "dataset_1 = load_from_disk(\"BC-MLP-MSE/datasets/grasp_100_2024-09-06_17-03-47.hf\")\n",
    "dataset_2 = load_from_disk(\"BC-MLP-MSE/datasets/50_single_2024-09-16_15-07-50.hf\")\n",
    "\n",
    "d1_eps = range(10)\n",
    "d2_eps = range(40)\n",
    "\n",
    "dataset_1_filtered = dataset_1.filter(lambda example: example[\"episode_index\"] in d1_eps)\n",
    "dataset_2_filtered = dataset_2.filter(lambda example: example[\"episode_index\"] in d2_eps)\n",
    "\n"
   ]
  },
  {
   "cell_type": "code",
   "execution_count": null,
   "metadata": {},
   "outputs": [],
   "source": [
    "dataset_1_filtered = dataset_1_filtered.map(lambda example, idx: {\"episode_index\": d1_eps.index(example[\"episode_index\"]), \"index\": idx}, with_indices=True)\n",
    "dataset_2_filtered = dataset_2_filtered.map(lambda example, idx: {\"episode_index\": d2_eps.index(example[\"episode_index\"]) + dataset_1_filtered[\"episode_index\"][-1] + 1, \"index\": idx + dataset_1_filtered[\"index\"][-1] + 1}, with_indices=True)"
   ]
  },
  {
   "cell_type": "code",
   "execution_count": null,
   "metadata": {},
   "outputs": [],
   "source": [
    "dataset_2_filtered[\"index\"][-1]"
   ]
  },
  {
   "cell_type": "code",
   "execution_count": null,
   "metadata": {},
   "outputs": [],
   "source": [
    "dataset = concatenate_datasets([dataset_1_filtered, dataset_2_filtered])\n"
   ]
  },
  {
   "cell_type": "code",
   "execution_count": null,
   "metadata": {},
   "outputs": [],
   "source": [
    "assert(dataset[\"index\"] == list(range(len(dataset))))\n",
    "assert(list(set(dataset[\"episode_index\"])) == list(range(len(d1_eps) + len(d2_eps))))"
   ]
  },
  {
   "cell_type": "code",
   "execution_count": null,
   "metadata": {},
   "outputs": [],
   "source": [
    "import datetime\n",
    "dataset.save_to_disk(f\"BC-MLP-MSE/datasets/10_diverse_40_single_{datetime.datetime.now().strftime('%Y-%m-%d_%H-%M-%S')}.hf\")\n"
   ]
  },
  {
   "cell_type": "code",
   "execution_count": null,
   "metadata": {},
   "outputs": [],
   "source": []
  }
 ],
 "metadata": {
  "kernelspec": {
   "display_name": "Python 3 (ipykernel)",
   "language": "python",
   "name": "python3"
  },
  "language_info": {
   "codemirror_mode": {
    "name": "ipython",
    "version": 3
   },
   "file_extension": ".py",
   "mimetype": "text/x-python",
   "name": "python",
   "nbconvert_exporter": "python",
   "pygments_lexer": "ipython3",
   "version": "3.10.12"
  }
 },
 "nbformat": 4,
 "nbformat_minor": 2
}
