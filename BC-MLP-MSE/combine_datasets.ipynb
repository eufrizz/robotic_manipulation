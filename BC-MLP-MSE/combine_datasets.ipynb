{
 "cells": [
  {
   "cell_type": "code",
   "execution_count": 82,
   "metadata": {},
   "outputs": [
    {
     "name": "stdout",
     "output_type": "stream",
     "text": [
      "env: MUJOCO_GL=egl\n"
     ]
    }
   ],
   "source": [
    "import gymnasium as gym\n",
    "%env MUJOCO_GL=egl\n",
    "from datasets import load_from_disk, concatenate_datasets\n"
   ]
  },
  {
   "cell_type": "code",
   "execution_count": 72,
   "metadata": {},
   "outputs": [],
   "source": [
    "dataset_1 = load_from_disk(\"BC-MLP-MSE/datasets/grasp_100_2024-09-06_17-03-47.hf\")\n",
    "dataset_2 = load_from_disk(\"BC-MLP-MSE/datasets/one_trajectory_25_2024-09-06_20-44-13.hf\")\n",
    "\n",
    "d1_eps = range(45)\n",
    "d2_eps = range(5)\n",
    "\n",
    "dataset_1_filtered = dataset_1.filter(lambda example: example[\"episode_index\"] in d1_eps)\n",
    "dataset_2_filtered = dataset_2.filter(lambda example: example[\"episode_index\"] in d2_eps)\n",
    "\n"
   ]
  },
  {
   "cell_type": "code",
   "execution_count": 69,
   "metadata": {},
   "outputs": [],
   "source": [
    "d2_eps = [1]\n",
    "dataset_2_filtered = dataset_2.filter(lambda example: example[\"episode_index\"] in d2_eps)\n"
   ]
  },
  {
   "cell_type": "code",
   "execution_count": 64,
   "metadata": {},
   "outputs": [
    {
     "data": {
      "text/plain": [
       "1"
      ]
     },
     "execution_count": 64,
     "metadata": {},
     "output_type": "execute_result"
    }
   ],
   "source": [
    "dataset_2_filtered['episode_index']\n",
    "dataset_2_filtered['episode_index'][-1]\n",
    "\n",
    "# 'episode_index', 'index'"
   ]
  },
  {
   "cell_type": "code",
   "execution_count": 73,
   "metadata": {},
   "outputs": [
    {
     "data": {
      "application/vnd.jupyter.widget-view+json": {
       "model_id": "01b9fc18fef9471a81839893ea6c8a0f",
       "version_major": 2,
       "version_minor": 0
      },
      "text/plain": [
       "Map:   0%|          | 0/9000 [00:00<?, ? examples/s]"
      ]
     },
     "metadata": {},
     "output_type": "display_data"
    },
    {
     "data": {
      "application/vnd.jupyter.widget-view+json": {
       "model_id": "abc0ed6fd86644f581cf954050471092",
       "version_major": 2,
       "version_minor": 0
      },
      "text/plain": [
       "Map:   0%|          | 0/1000 [00:00<?, ? examples/s]"
      ]
     },
     "metadata": {},
     "output_type": "display_data"
    }
   ],
   "source": [
    "dataset_1_filtered = dataset_1_filtered.map(lambda example, idx: {\"episode_index\": d1_eps.index(example[\"episode_index\"]), \"index\": idx}, with_indices=True)\n",
    "dataset_2_filtered = dataset_2_filtered.map(lambda example, idx: {\"episode_index\": d2_eps.index(example[\"episode_index\"]) + dataset_1_filtered[\"episode_index\"][-1] + 1, \"index\": idx + dataset_1_filtered[\"index\"][-1] + 1}, with_indices=True)"
   ]
  },
  {
   "cell_type": "code",
   "execution_count": 80,
   "metadata": {},
   "outputs": [
    {
     "data": {
      "text/plain": [
       "9999"
      ]
     },
     "execution_count": 80,
     "metadata": {},
     "output_type": "execute_result"
    }
   ],
   "source": [
    "dataset_2_filtered[\"index\"][-1]"
   ]
  },
  {
   "cell_type": "code",
   "execution_count": 83,
   "metadata": {},
   "outputs": [],
   "source": [
    "dataset = concatenate_datasets([dataset_1_filtered, dataset_2_filtered])      \n"
   ]
  },
  {
   "cell_type": "code",
   "execution_count": 98,
   "metadata": {},
   "outputs": [],
   "source": [
    "assert(dataset[\"index\"] == list(range(len(dataset))))\n",
    "assert(list(set(dataset[\"episode_index\"])) == list(range(len(d1_eps) + len(d2_eps))))"
   ]
  },
  {
   "cell_type": "code",
   "execution_count": null,
   "metadata": {},
   "outputs": [],
   "source": [
    "import datetime\n",
    "dataset.save_to_disk(f\"BC-MLP-MSE/datasets45_diverse_5_single_{datetime.datetime.now().strftime('%Y-%m-%d_%H-%M-%S')}.hf\")\n"
   ]
  }
 ],
 "metadata": {
  "kernelspec": {
   "display_name": "Python 3 (ipykernel)",
   "language": "python",
   "name": "python3"
  },
  "language_info": {
   "codemirror_mode": {
    "name": "ipython",
    "version": 3
   },
   "file_extension": ".py",
   "mimetype": "text/x-python",
   "name": "python",
   "nbconvert_exporter": "python",
   "pygments_lexer": "ipython3",
   "version": "3.10.12"
  }
 },
 "nbformat": 4,
 "nbformat_minor": 2
}
