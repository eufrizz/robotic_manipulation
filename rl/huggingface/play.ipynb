{
 "cells": [
  {
   "cell_type": "code",
   "execution_count": 2,
   "metadata": {},
   "outputs": [],
   "source": [
    "from gymnasium.utils.play import play\n",
    "import gymnasium as gym"
   ]
  },
  {
   "cell_type": "code",
   "execution_count": 2,
   "metadata": {},
   "outputs": [
    {
     "name": "stderr",
     "output_type": "stream",
     "text": [
      "A.L.E: Arcade Learning Environment (version 0.8.1+unknown)\n",
      "[Powered by Stella]\n",
      "Game console created:\n",
      "  ROM file:  /Users/Eugene/miniconda3/envs/rl_learning/lib/python3.12/site-packages/AutoROM/roms/space_invaders.bin\n",
      "  Cart Name: Space Invaders (1978) (Atari) [!]\n",
      "  Cart MD5:  72ffbef6504b75e69ee1045af9075f66\n",
      "  Display Format:  AUTO-DETECT ==> NTSC\n",
      "  ROM Size:        4096\n",
      "  Bankswitch Type: AUTO-DETECT ==> 4K\n",
      "\n",
      "Running ROM file...\n",
      "Random seed is 1332294249\n"
     ]
    }
   ],
   "source": [
    "env = gym.make(\"LunarLander-v2\", render_mode=\"rgb_array\")\n",
    "play(env, keys_to_action={\"w\": 0, \"a\": 1, \"s\": 2, \"d\": 3})\n"
   ]
  },
  {
   "cell_type": "code",
   "execution_count": 4,
   "metadata": {},
   "outputs": [
    {
     "data": {
      "text/plain": [
       "['Pong-v0',\n",
       " 'PongDeterministic-v0',\n",
       " 'PongNoFrameskip-v0',\n",
       " 'Pong-v4',\n",
       " 'PongDeterministic-v4',\n",
       " 'PongNoFrameskip-v4',\n",
       " 'Pong-ram-v0',\n",
       " 'Pong-ramDeterministic-v0',\n",
       " 'Pong-ramNoFrameskip-v0',\n",
       " 'Pong-ram-v4',\n",
       " 'Pong-ramDeterministic-v4',\n",
       " 'Pong-ramNoFrameskip-v4',\n",
       " 'ALE/Pong-v5',\n",
       " 'ALE/Pong-ram-v5']"
      ]
     },
     "execution_count": 4,
     "metadata": {},
     "output_type": "execute_result"
    }
   ],
   "source": [
    "[x for x in gym.registry.keys() if \"pong\" in x.lower()]"
   ]
  },
  {
   "cell_type": "code",
   "execution_count": 3,
   "metadata": {},
   "outputs": [
    {
     "name": "stderr",
     "output_type": "stream",
     "text": [
      "A.L.E: Arcade Learning Environment (version 0.8.1+unknown)\n",
      "[Powered by Stella]\n",
      "Game console created:\n",
      "  ROM file:  /Users/Eugene/miniconda3/envs/rl_learning/lib/python3.12/site-packages/AutoROM/roms/space_invaders.bin\n",
      "  Cart Name: Space Invaders (1978) (Atari) [!]\n",
      "  Cart MD5:  72ffbef6504b75e69ee1045af9075f66\n",
      "  Display Format:  AUTO-DETECT ==> NTSC\n",
      "  ROM Size:        4096\n",
      "  Bankswitch Type: AUTO-DETECT ==> 4K\n",
      "\n",
      "Running ROM file...\n",
      "Random seed is -317116010\n",
      "/Users/Eugene/miniconda3/envs/rl_learning/lib/python3.12/site-packages/gymnasium/utils/passive_env_checker.py:335: UserWarning: \u001b[33mWARN: No render fps was declared in the environment (env.metadata['render_fps'] is None or not defined), rendering may occur at inconsistent fps.\u001b[0m\n",
      "  logger.warn(\n"
     ]
    }
   ],
   "source": [
    "env = gym.make(\"SpaceInvadersNoFrameskip-v4\", render_mode=\"rgb_array\")\n",
    "play(env, keys_to_action={\"a\": 3, \"s\": 1, \"d\": 2})\n"
   ]
  },
  {
   "cell_type": "code",
   "execution_count": 9,
   "metadata": {},
   "outputs": [
    {
     "data": {
      "text/plain": [
       "EnvSpec(id='Pong-v0', entry_point='shimmy.atari_env:AtariEnv', reward_threshold=None, nondeterministic=False, max_episode_steps=None, order_enforce=True, autoreset=False, disable_env_checker=False, apply_api_compatibility=False, kwargs={'game': 'pong', 'obs_type': 'rgb', 'repeat_action_probability': 0.25, 'full_action_space': False, 'max_num_frames_per_episode': 108000, 'frameskip': (2, 5), 'render_mode': 'rgb_array'}, namespace=None, name='Pong', version=0, additional_wrappers=(), vector_entry_point=None)"
      ]
     },
     "execution_count": 9,
     "metadata": {},
     "output_type": "execute_result"
    }
   ],
   "source": [
    "env.spec"
   ]
  },
  {
   "cell_type": "code",
   "execution_count": 5,
   "metadata": {},
   "outputs": [
    {
     "name": "stderr",
     "output_type": "stream",
     "text": [
      "/Users/Eugene/miniconda3/envs/rl_learning/lib/python3.12/site-packages/gymnasium/envs/registration.py:513: DeprecationWarning: \u001b[33mWARN: The environment Pong-v0 is out of date. You should consider upgrading to version `v4`.\u001b[0m\n",
      "  logger.deprecation(\n",
      "A.L.E: Arcade Learning Environment (version 0.8.1+unknown)\n",
      "[Powered by Stella]\n",
      "Game console created:\n",
      "  ROM file:  /Users/Eugene/miniconda3/envs/rl_learning/lib/python3.12/site-packages/AutoROM/roms/pong.bin\n",
      "  Cart Name: Video Olympics (1978) (Atari)\n",
      "  Cart MD5:  60e0ea3cbe0913d39803477945e9e5ec\n",
      "  Display Format:  AUTO-DETECT ==> NTSC\n",
      "  ROM Size:        2048\n",
      "  Bankswitch Type: AUTO-DETECT ==> 2K\n",
      "\n",
      "Running ROM file...\n",
      "Random seed is -642722349\n"
     ]
    }
   ],
   "source": [
    "env = gym.make(\"Pong-v0\", render_mode=\"rgb_array\")\n",
    "play(env, keys_to_action={\"a\": 3, \"d\": 2})\n"
   ]
  },
  {
   "cell_type": "code",
   "execution_count": null,
   "metadata": {},
   "outputs": [],
   "source": []
  }
 ],
 "metadata": {
  "kernelspec": {
   "display_name": "rl_learning",
   "language": "python",
   "name": "python3"
  },
  "language_info": {
   "codemirror_mode": {
    "name": "ipython",
    "version": 3
   },
   "file_extension": ".py",
   "mimetype": "text/x-python",
   "name": "python",
   "nbconvert_exporter": "python",
   "pygments_lexer": "ipython3",
   "version": "3.12.2"
  }
 },
 "nbformat": 4,
 "nbformat_minor": 2
}
