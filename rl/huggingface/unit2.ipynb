{
  "cells": [
    {
      "cell_type": "markdown",
      "metadata": {
        "id": "njb_ProuHiOe"
      },
      "source": [
        "# Unit 2: Q-Learning with FrozenLake-v1 ⛄ and Taxi-v3 🚕\n",
        "\n",
        "<!-- <img src=\"https://huggingface.co/datasets/huggingface-deep-rl-course/course-images/resolve/main/en/unit3/thumbnail.jpg\" alt=\"Unit 2 Thumbnail\"> -->\n",
        "\n",
        "In this notebook, **you'll code your first Reinforcement Learning agent from scratch** to play FrozenLake ❄️ using Q-Learning, share it with the community, and experiment with different configurations.\n",
        "\n",
        "⬇️ Here is an example of what **you will achieve in just a couple of minutes.** ⬇️\n"
      ]
    },
    {
      "cell_type": "markdown",
      "metadata": {
        "id": "vRU_vXBrl1Jx"
      },
      "source": [
        "<img src=\"https://huggingface.co/datasets/huggingface-deep-rl-course/course-images/resolve/main/en/unit3/envs.gif\" alt=\"Environments\"/>"
      ]
    },
    {
      "cell_type": "markdown",
      "metadata": {
        "id": "DPTBOv9HYLZ2"
      },
      "source": [
        "###🎮 Environments:\n",
        "\n",
        "- [FrozenLake-v1](https://gymnasium.farama.org/environments/toy_text/frozen_lake/)\n",
        "- [Taxi-v3](https://gymnasium.farama.org/environments/toy_text/taxi/)\n",
        "\n",
        "###📚 RL-Library:\n",
        "\n",
        "- Python and NumPy\n",
        "- [Gymnasium](https://gymnasium.farama.org/)\n",
        "\n",
        "We're constantly trying to improve our tutorials, so **if you find some issues in this notebook**, please [open an issue on the GitHub Repo](https://github.com/huggingface/deep-rl-class/issues)."
      ]
    },
    {
      "cell_type": "markdown",
      "metadata": {
        "id": "4i6tjI2tHQ8j"
      },
      "source": [
        "## Objectives of this notebook 🏆\n",
        "\n",
        "At the end of the notebook, you will:\n",
        "\n",
        "- Be able to use **Gymnasium**, the environment library.\n",
        "- Be able to code a Q-Learning agent from scratch.\n",
        "- Be able to **push your trained agent and the code to the Hub** with a nice video replay and an evaluation score 🔥.\n",
        "\n",
        "\n"
      ]
    },
    {
      "cell_type": "markdown",
      "metadata": {
        "id": "viNzVbVaYvY3"
      },
      "source": [
        "## This notebook is from the Deep Reinforcement Learning Course\n",
        "\n",
        "<!-- <img src=\"https://huggingface.co/datasets/huggingface-deep-rl-course/course-images/resolve/main/en/notebooks/deep-rl-course-illustration.jpg\" alt=\"Deep RL Course illustration\"/> -->"
      ]
    },
    {
      "cell_type": "markdown",
      "metadata": {
        "id": "6p5HnEefISCB"
      },
      "source": [
        "In this free course, you will:\n",
        "\n",
        "- 📖 Study Deep Reinforcement Learning in **theory and practice**.\n",
        "- 🧑‍💻 Learn to **use famous Deep RL libraries** such as Stable Baselines3, RL Baselines3 Zoo, CleanRL and Sample Factory 2.0.\n",
        "- 🤖 Train **agents in unique environments**\n",
        "\n",
        "And more check 📚 the syllabus 👉 https://simoninithomas.github.io/deep-rl-course\n",
        "\n",
        "Don’t forget to **<a href=\"http://eepurl.com/ic5ZUD\">sign up to the course</a>** (we are collecting your email to be able to **send you the links when each Unit is published and give you information about the challenges and updates).**\n",
        "\n",
        "\n",
        "The best way to keep in touch is to join our discord server to exchange with the community and with us 👉🏻 https://discord.gg/ydHrjt3WP5"
      ]
    },
    {
      "cell_type": "markdown",
      "metadata": {
        "id": "Y-mo_6rXIjRi"
      },
      "source": [
        "## Prerequisites 🏗️\n",
        "\n",
        "Before diving into the notebook, you need to:\n",
        "\n",
        "🔲 📚 **Study [Q-Learning by reading Unit 2](https://huggingface.co/deep-rl-course/unit2/introduction)**  🤗  "
      ]
    },
    {
      "cell_type": "markdown",
      "metadata": {
        "id": "f2ONOODsyrMU"
      },
      "source": [
        "## A small recap of Q-Learning"
      ]
    },
    {
      "cell_type": "markdown",
      "metadata": {
        "id": "V68VveLacfxJ"
      },
      "source": [
        "*Q-Learning* **is the RL algorithm that**:\n",
        "\n",
        "- Trains *Q-Function*, an **action-value function** that encoded, in internal memory, by a *Q-table* **that contains all the state-action pair values.**\n",
        "\n",
        "- Given a state and action, our Q-Function **will search the Q-table for the corresponding value.**\n",
        "    \n",
        "<img src=\"https://huggingface.co/datasets/huggingface-deep-rl-course/course-images/resolve/main/en/unit3/Q-function-2.jpg\" alt=\"Q function\"  width=\"100%\"/>\n",
        "\n",
        "- When the training is done,**we have an optimal Q-Function, so an optimal Q-Table.**\n",
        "    \n",
        "- And if we **have an optimal Q-function**, we\n",
        "have an optimal policy, since we **know for, each state, the best action to take.**\n",
        "\n",
        "<img src=\"https://huggingface.co/datasets/huggingface-deep-rl-course/course-images/resolve/main/en/unit3/link-value-policy.jpg\" alt=\"Link value policy\"  width=\"100%\"/>\n",
        "\n",
        "\n",
        "But, in the beginning, our **Q-Table is useless since it gives arbitrary value for each state-action pair (most of the time we initialize the Q-Table to 0 values)**. But, as we’ll explore the environment and update our Q-Table it will give us better and better approximations\n",
        "\n",
        "<img src=\"https://huggingface.co/datasets/huggingface-deep-rl-course/course-images/resolve/main/en/notebooks/unit2/q-learning.jpeg\" alt=\"q-learning.jpeg\" width=\"100%\"/>\n",
        "\n",
        "This is the Q-Learning pseudocode:\n",
        "\n",
        "<img src=\"https://huggingface.co/datasets/huggingface-deep-rl-course/course-images/resolve/main/en/unit3/Q-learning-2.jpg\" alt=\"Q-Learning\" width=\"100%\"/>\n"
      ]
    },
    {
      "cell_type": "markdown",
      "metadata": {
        "id": "HEtx8Y8MqKfH"
      },
      "source": [
        "# Let's code our first Reinforcement Learning algorithm 🚀"
      ]
    },
    {
      "cell_type": "markdown",
      "metadata": {
        "id": "Kdxb1IhzTn0v"
      },
      "source": [
        "To validate this hands-on for the [certification process](https://huggingface.co/deep-rl-course/en/unit0/introduction#certification-process), you need to push your trained Taxi model to the Hub and **get a result of >= 4.5**.\n",
        "\n",
        "To find your result, go to the [leaderboard](https://huggingface.co/spaces/huggingface-projects/Deep-Reinforcement-Learning-Leaderboard) and find your model, **the result = mean_reward - std of reward**\n",
        "\n",
        "For more information about the certification process, check this section 👉 https://huggingface.co/deep-rl-course/en/unit0/introduction#certification-process"
      ]
    },
    {
      "cell_type": "markdown",
      "metadata": {
        "id": "4gpxC1_kqUYe"
      },
      "source": [
        "## Install dependencies and create a virtual display 🔽\n",
        "\n",
        "In the notebook, we'll need to generate a replay video. To do so, with Colab, **we need to have a virtual screen to render the environment** (and thus record the frames).\n",
        "\n",
        "Hence the following cell will install the libraries and create and run a virtual screen 🖥\n",
        "\n",
        "We’ll install multiple ones:\n",
        "\n",
        "- `gymnasium`: Contains the FrozenLake-v1 ⛄ and Taxi-v3 🚕 environments.\n",
        "- `pygame`: Used for the FrozenLake-v1 and Taxi-v3 UI.\n",
        "- `numpy`: Used for handling our Q-table.\n",
        "\n",
        "The Hugging Face Hub 🤗 works as a central place where anyone can share and explore models and datasets. It has versioning, metrics, visualizations and other features that will allow you to easily collaborate with others.\n",
        "\n",
        "You can see here all the Deep RL models available (if they use Q Learning) here 👉 https://huggingface.co/models?other=q-learning"
      ]
    },
    {
      "cell_type": "code",
      "execution_count": null,
      "metadata": {
        "id": "9XaULfDZDvrC"
      },
      "outputs": [],
      "source": [
        "!pip install -r https://raw.githubusercontent.com/huggingface/deep-rl-class/main/notebooks/unit2/requirements-unit2.txt"
      ]
    },
    {
      "cell_type": "code",
      "execution_count": null,
      "metadata": {
        "id": "n71uTX7qqzz2"
      },
      "outputs": [],
      "source": [
        "!sudo apt-get update\n",
        "!sudo apt-get install -y python3-opengl\n",
        "!apt install ffmpeg xvfb\n",
        "!pip3 install pyvirtualdisplay"
      ]
    },
    {
      "cell_type": "markdown",
      "metadata": {
        "id": "K6XC13pTfFiD"
      },
      "source": [
        "To make sure the new installed libraries are used, **sometimes it's required to restart the notebook runtime**. The next cell will force the **runtime to crash, so you'll need to connect again and run the code starting from here**. Thanks to this trick, **we will be able to run our virtual screen.**"
      ]
    },
    {
      "cell_type": "code",
      "execution_count": null,
      "metadata": {
        "id": "3kuZbWAkfHdg"
      },
      "outputs": [],
      "source": [
        "import os\n",
        "os.kill(os.getpid(), 9)"
      ]
    },
    {
      "cell_type": "code",
      "execution_count": 1,
      "metadata": {
        "id": "DaY1N4dBrabi"
      },
      "outputs": [
        {
          "data": {
            "text/plain": [
              "<pyvirtualdisplay.display.Display at 0x1046c7a70>"
            ]
          },
          "execution_count": 1,
          "metadata": {},
          "output_type": "execute_result"
        }
      ],
      "source": [
        "# Virtual display\n",
        "from pyvirtualdisplay import Display\n",
        "\n",
        "virtual_display = Display(visible=0, size=(1400, 900))\n",
        "virtual_display.start()"
      ]
    },
    {
      "cell_type": "markdown",
      "metadata": {
        "id": "W-7f-Swax_9x"
      },
      "source": [
        "## Import the packages 📦\n",
        "\n",
        "In addition to the installed libraries, we also use:\n",
        "\n",
        "- `random`: To generate random numbers (that will be useful for epsilon-greedy policy).\n",
        "- `imageio`: To generate a replay video."
      ]
    },
    {
      "cell_type": "code",
      "execution_count": 4,
      "metadata": {
        "id": "VcNvOAQlysBJ"
      },
      "outputs": [],
      "source": [
        "import numpy as np\n",
        "import gymnasium as gym\n",
        "import random\n",
        "import imageio\n",
        "import os\n",
        "import tqdm\n",
        "\n",
        "import pickle\n",
        "from tqdm.notebook import tqdm"
      ]
    },
    {
      "cell_type": "markdown",
      "metadata": {
        "id": "xp4-bXKIy1mQ"
      },
      "source": [
        "We're now ready to code our Q-Learning algorithm 🔥"
      ]
    },
    {
      "cell_type": "markdown",
      "metadata": {
        "id": "xya49aNJWVvv"
      },
      "source": [
        "# Part 1: Frozen Lake ⛄ (non slippery version)"
      ]
    },
    {
      "cell_type": "markdown",
      "metadata": {
        "id": "NAvihuHdy9tw"
      },
      "source": [
        "## Create and understand [FrozenLake environment ⛄](https://gymnasium.farama.org/environments/toy_text/frozen_lake/)\n",
        "---\n",
        "\n",
        "💡 A good habit when you start to use an environment is to check its documentation\n",
        "\n",
        "👉 https://gymnasium.farama.org/environments/toy_text/frozen_lake/\n",
        "\n",
        "---\n",
        "\n",
        "We're going to train our Q-Learning agent **to navigate from the starting state (S) to the goal state (G) by walking only on frozen tiles (F) and avoid holes (H)**.\n",
        "\n",
        "We can have two sizes of environment:\n",
        "\n",
        "- `map_name=\"4x4\"`: a 4x4 grid version\n",
        "- `map_name=\"8x8\"`: a 8x8 grid version\n",
        "\n",
        "\n",
        "The environment has two modes:\n",
        "\n",
        "- `is_slippery=False`: The agent always moves **in the intended direction** due to the non-slippery nature of the frozen lake (deterministic).\n",
        "- `is_slippery=True`: The agent **may not always move in the intended direction** due to the slippery nature of the frozen lake (stochastic)."
      ]
    },
    {
      "cell_type": "markdown",
      "metadata": {
        "id": "UaW_LHfS0PY2"
      },
      "source": [
        "For now let's keep it simple with the 4x4 map and non-slippery.\n",
        "We add a parameter called `render_mode` that specifies how the environment should be visualised. In our case because we **want to record a video of the environment at the end, we need to set render_mode to rgb_array**.\n",
        "\n",
        "As [explained in the documentation](https://gymnasium.farama.org/api/env/#gymnasium.Env.render) “rgb_array”: Return a single frame representing the current state of the environment. A frame is a np.ndarray with shape (x, y, 3) representing RGB values for an x-by-y pixel image."
      ]
    },
    {
      "cell_type": "code",
      "execution_count": 5,
      "metadata": {
        "id": "IzJnb8O3y8up"
      },
      "outputs": [],
      "source": [
        "# Create the FrozenLake-v1 environment using 4x4 map and non-slippery version and render_mode=\"rgb_array\"\n",
        "env = gym.make(\"FrozenLake-v1\", render_mode=\"rgb_array\", map_name=\"4x4\", is_slippery=False) # TODO use the correct parameters"
      ]
    },
    {
      "cell_type": "markdown",
      "metadata": {
        "id": "Ji_UrI5l2zzn"
      },
      "source": [
        "### Solution"
      ]
    },
    {
      "cell_type": "code",
      "execution_count": null,
      "metadata": {
        "id": "jNxUbPMP0akP"
      },
      "outputs": [],
      "source": [
        "env = gym.make(\"FrozenLake-v1\", map_name=\"4x4\", is_slippery=False, render_mode=\"rgb_array\")"
      ]
    },
    {
      "cell_type": "markdown",
      "metadata": {
        "id": "KASNViqL4tZn"
      },
      "source": [
        "You can create your own custom grid like this:\n",
        "\n",
        "```python\n",
        "desc=[\"SFFF\", \"FHFH\", \"FFFH\", \"HFFG\"]\n",
        "gym.make('FrozenLake-v1', desc=desc, is_slippery=True)\n",
        "```\n",
        "\n",
        "but we'll use the default environment for now."
      ]
    },
    {
      "cell_type": "markdown",
      "metadata": {
        "id": "SXbTfdeJ1Xi9"
      },
      "source": [
        "### Let's see what the Environment looks like:\n"
      ]
    },
    {
      "cell_type": "code",
      "execution_count": 6,
      "metadata": {
        "id": "ZNPG0g_UGCfh"
      },
      "outputs": [
        {
          "name": "stdout",
          "output_type": "stream",
          "text": [
            "_____OBSERVATION SPACE_____ \n",
            "\n",
            "Observation Space Discrete(16)\n",
            "Sample observation 14\n"
          ]
        }
      ],
      "source": [
        "# We create our environment with gym.make(\"<name_of_the_environment>\")- `is_slippery=False`: The agent always moves in the intended direction due to the non-slippery nature of the frozen lake (deterministic).\n",
        "print(\"_____OBSERVATION SPACE_____ \\n\")\n",
        "print(\"Observation Space\", env.observation_space)\n",
        "print(\"Sample observation\", env.observation_space.sample()) # Get a random observation"
      ]
    },
    {
      "cell_type": "markdown",
      "metadata": {
        "id": "2MXc15qFE0M9"
      },
      "source": [
        "We see with `Observation Space Shape Discrete(16)` that the observation is an integer representing the **agent’s current position as current_row * ncols + current_col (where both the row and col start at 0)**.\n",
        "\n",
        "For example, the goal position in the 4x4 map can be calculated as follows: 3 * 4 + 3 = 15. The number of possible observations is dependent on the size of the map. **For example, the 4x4 map has 16 possible observations.**\n",
        "\n",
        "\n",
        "For instance, this is what state = 0 looks like:\n",
        "\n",
        "<img src=\"https://huggingface.co/datasets/huggingface-deep-rl-course/course-images/resolve/main/en/notebooks/unit2/frozenlake.png\" alt=\"FrozenLake\">"
      ]
    },
    {
      "cell_type": "code",
      "execution_count": 7,
      "metadata": {
        "id": "We5WqOBGLoSm"
      },
      "outputs": [
        {
          "name": "stdout",
          "output_type": "stream",
          "text": [
            "\n",
            " _____ACTION SPACE_____ \n",
            "\n",
            "Action Space Shape 4\n",
            "Action Space Sample 1\n"
          ]
        }
      ],
      "source": [
        "print(\"\\n _____ACTION SPACE_____ \\n\")\n",
        "print(\"Action Space Shape\", env.action_space.n)\n",
        "print(\"Action Space Sample\", env.action_space.sample()) # Take a random action"
      ]
    },
    {
      "cell_type": "markdown",
      "metadata": {
        "id": "MyxXwkI2Magx"
      },
      "source": [
        "The action space (the set of possible actions the agent can take) is discrete with 4 actions available 🎮:\n",
        "- 0: GO LEFT\n",
        "- 1: GO DOWN\n",
        "- 2: GO RIGHT\n",
        "- 3: GO UP\n",
        "\n",
        "Reward function 💰:\n",
        "- Reach goal: +1\n",
        "- Reach hole: 0\n",
        "- Reach frozen: 0"
      ]
    },
    {
      "cell_type": "markdown",
      "metadata": {
        "id": "1pFhWblk3Awr"
      },
      "source": [
        "## Create and Initialize the Q-table 🗄️\n",
        "\n",
        "(👀 Step 1 of the pseudocode)\n",
        "\n",
        "<img src=\"https://huggingface.co/datasets/huggingface-deep-rl-course/course-images/resolve/main/en/unit3/Q-learning-2.jpg\" alt=\"Q-Learning\" width=\"100%\"/>\n",
        "\n",
        "\n",
        "It's time to initialize our Q-table! To know how many rows (states) and columns (actions) to use, we need to know the action and observation space. We already know their values from before, but we'll want to obtain them programmatically so that our algorithm generalizes for different environments. Gym provides us a way to do that: `env.action_space.n` and `env.observation_space.n`\n"
      ]
    },
    {
      "cell_type": "code",
      "execution_count": 8,
      "metadata": {
        "id": "y3ZCdluj3k0l"
      },
      "outputs": [
        {
          "name": "stdout",
          "output_type": "stream",
          "text": [
            "There are  16  possible states\n",
            "There are  4  possible actions\n"
          ]
        }
      ],
      "source": [
        "state_space = env.observation_space.n\n",
        "print(\"There are \", state_space, \" possible states\")\n",
        "\n",
        "action_space = env.action_space.n\n",
        "print(\"There are \", action_space, \" possible actions\")"
      ]
    },
    {
      "cell_type": "code",
      "execution_count": 9,
      "metadata": {
        "id": "rCddoOXM3UQH"
      },
      "outputs": [],
      "source": [
        "# Let's create our Qtable of size (state_space, action_space) and initialized each values at 0 using np.zeros. np.zeros needs a tuple (a,b)\n",
        "def initialize_q_table(state_space, action_space):\n",
        "  Qtable = np.zeros((state_space, action_space))\n",
        "  return Qtable"
      ]
    },
    {
      "cell_type": "code",
      "execution_count": 10,
      "metadata": {
        "id": "9YfvrqRt3jdR"
      },
      "outputs": [],
      "source": [
        "Qtable_frozenlake = initialize_q_table(state_space, action_space)"
      ]
    },
    {
      "cell_type": "markdown",
      "metadata": {
        "id": "67OdoKL63eDD"
      },
      "source": [
        "### Solution"
      ]
    },
    {
      "cell_type": "code",
      "execution_count": null,
      "metadata": {
        "id": "HuTKv3th3ohG"
      },
      "outputs": [],
      "source": [
        "state_space = env.observation_space.n\n",
        "print(\"There are \", state_space, \" possible states\")\n",
        "\n",
        "action_space = env.action_space.n\n",
        "print(\"There are \", action_space, \" possible actions\")"
      ]
    },
    {
      "cell_type": "code",
      "execution_count": null,
      "metadata": {
        "id": "lnrb_nX33fJo"
      },
      "outputs": [],
      "source": [
        "# Let's create our Qtable of size (state_space, action_space) and initialized each values at 0 using np.zeros\n",
        "def initialize_q_table(state_space, action_space):\n",
        "  Qtable = np.zeros((state_space, action_space))\n",
        "  return Qtable"
      ]
    },
    {
      "cell_type": "code",
      "execution_count": null,
      "metadata": {
        "id": "Y0WlgkVO3Jf9"
      },
      "outputs": [],
      "source": [
        "Qtable_frozenlake = initialize_q_table(state_space, action_space)"
      ]
    },
    {
      "cell_type": "markdown",
      "metadata": {
        "id": "Atll4Z774gri"
      },
      "source": [
        "## Define the greedy policy 🤖\n",
        "\n",
        "Remember we have two policies since Q-Learning is an **off-policy** algorithm. This means we're using a **different policy for acting and updating the value function**.\n",
        "\n",
        "- Epsilon-greedy policy (acting policy)\n",
        "- Greedy-policy (updating policy)\n",
        "\n",
        "The greedy policy will also be the final policy we'll have when the Q-learning agent completes training. The greedy policy is used to select an action using the Q-table.\n",
        "\n",
        "<img src=\"https://huggingface.co/datasets/huggingface-deep-rl-course/course-images/resolve/main/en/unit3/off-on-4.jpg\" alt=\"Q-Learning\" width=\"100%\"/>\n"
      ]
    },
    {
      "cell_type": "code",
      "execution_count": 11,
      "metadata": {
        "id": "E3SCLmLX5bWG"
      },
      "outputs": [],
      "source": [
        "def greedy_policy(Qtable, state):\n",
        "  # Exploitation: take the action with the highest state, action value\n",
        "  action = np.argmax(Qtable[state, :])\n",
        "\n",
        "  return action"
      ]
    },
    {
      "cell_type": "markdown",
      "metadata": {
        "id": "B2_-8b8z5k54"
      },
      "source": [
        "#### Solution"
      ]
    },
    {
      "cell_type": "code",
      "execution_count": null,
      "metadata": {
        "id": "se2OzWGW5kYJ"
      },
      "outputs": [],
      "source": [
        "def greedy_policy(Qtable, state):\n",
        "  # Exploitation: take the action with the highest state, action value\n",
        "  action = np.argmax(Qtable[state][:])\n",
        "\n",
        "  return action"
      ]
    },
    {
      "cell_type": "markdown",
      "metadata": {
        "id": "flILKhBU3yZ7"
      },
      "source": [
        "##Define the epsilon-greedy policy 🤖\n",
        "\n",
        "Epsilon-greedy is the training policy that handles the exploration/exploitation trade-off.\n",
        "\n",
        "The idea with epsilon-greedy:\n",
        "\n",
        "- With *probability 1 - ɛ* : **we do exploitation** (i.e. our agent selects the action with the highest state-action pair value).\n",
        "\n",
        "- With *probability ɛ*: we do **exploration** (trying a random action).\n",
        "\n",
        "As the training continues, we progressively **reduce the epsilon value since we will need less and less exploration and more exploitation.**\n",
        "\n",
        "<img src=\"https://huggingface.co/datasets/huggingface-deep-rl-course/course-images/resolve/main/en/unit3/Q-learning-4.jpg\" alt=\"Q-Learning\" width=\"100%\"/>\n"
      ]
    },
    {
      "cell_type": "code",
      "execution_count": 13,
      "metadata": {
        "id": "6Bj7x3in3_Pq"
      },
      "outputs": [],
      "source": [
        "def epsilon_greedy_policy(Qtable, state, epsilon):\n",
        "  # Randomly generate a number between 0 and 1\n",
        "  random_num = np.random.uniform()\n",
        "  # if random_num > greater than epsilon --> exploitation\n",
        "  if random_num > epsilon:\n",
        "    # Take the action with the highest value given a state\n",
        "    # np.argmax can be useful here\n",
        "    action = greedy_policy(Qtable, state)\n",
        "  # else --> exploration\n",
        "  else:\n",
        "    action = env.action_space.sample()\n",
        "\n",
        "  return action"
      ]
    },
    {
      "cell_type": "markdown",
      "metadata": {
        "id": "8R5ej1fS4P2V"
      },
      "source": [
        "#### Solution"
      ]
    },
    {
      "cell_type": "code",
      "execution_count": null,
      "metadata": {
        "id": "cYxHuckr4LiG"
      },
      "outputs": [],
      "source": [
        "def epsilon_greedy_policy(Qtable, state, epsilon):\n",
        "  # Randomly generate a number between 0 and 1\n",
        "  random_num = random.uniform(0,1)\n",
        "  # if random_num > greater than epsilon --> exploitation\n",
        "  if random_num > epsilon:\n",
        "    # Take the action with the highest value given a state\n",
        "    # np.argmax can be useful here\n",
        "    action = greedy_policy(Qtable, state)\n",
        "  # else --> exploration\n",
        "  else:\n",
        "    action = env.action_space.sample()\n",
        "\n",
        "  return action"
      ]
    },
    {
      "cell_type": "markdown",
      "metadata": {
        "id": "hW80DealcRtu"
      },
      "source": [
        "## Define the hyperparameters ⚙️\n",
        "\n",
        "The exploration related hyperparamters are some of the most important ones.\n",
        "\n",
        "- We need to make sure that our agent **explores enough of the state space** to learn a good value approximation. To do that, we need to have progressive decay of the epsilon.\n",
        "- If you decrease epsilon too fast (too high decay_rate), **you take the risk that your agent will be stuck**, since your agent didn't explore enough of the state space and hence can't solve the problem."
      ]
    },
    {
      "cell_type": "code",
      "execution_count": 14,
      "metadata": {
        "id": "Y1tWn0tycWZ1"
      },
      "outputs": [],
      "source": [
        "# Training parameters\n",
        "n_training_episodes = 10000  # Total training episodes\n",
        "learning_rate = 0.7          # Learning rate\n",
        "\n",
        "# Evaluation parameters\n",
        "n_eval_episodes = 100        # Total number of test episodes\n",
        "\n",
        "# Environment parameters\n",
        "env_id = \"FrozenLake-v1\"     # Name of the environment\n",
        "max_steps = 99               # Max steps per episode\n",
        "gamma = 0.95                 # Discounting rate\n",
        "eval_seed = []               # The evaluation seed of the environment\n",
        "\n",
        "# Exploration parameters\n",
        "max_epsilon = 1.0             # Exploration probability at start\n",
        "min_epsilon = 0.05            # Minimum exploration probability\n",
        "decay_rate = 0.0005            # Exponential decay rate for exploration prob"
      ]
    },
    {
      "cell_type": "markdown",
      "metadata": {
        "id": "cDb7Tdx8atfL"
      },
      "source": [
        "## Create the training loop method\n",
        "\n",
        "<img src=\"https://huggingface.co/datasets/huggingface-deep-rl-course/course-images/resolve/main/en/unit3/Q-learning-2.jpg\" alt=\"Q-Learning\" width=\"100%\"/>\n",
        "\n",
        "The training loop goes like this:\n",
        "\n",
        "```\n",
        "For episode in the total of training episodes:\n",
        "\n",
        "Reduce epsilon (since we need less and less exploration)\n",
        "Reset the environment\n",
        "\n",
        "  For step in max timesteps:    \n",
        "    Choose the action At using epsilon greedy policy\n",
        "    Take the action (a) and observe the outcome state(s') and reward (r)\n",
        "    Update the Q-value Q(s,a) using Bellman equation Q(s,a) + lr [R(s,a) + gamma * max Q(s',a') - Q(s,a)]\n",
        "    If done, finish the episode\n",
        "    Our next state is the new state\n",
        "```"
      ]
    },
    {
      "cell_type": "code",
      "execution_count": 16,
      "metadata": {
        "id": "paOynXy3aoJW"
      },
      "outputs": [],
      "source": [
        "def train(n_training_episodes, min_epsilon, max_epsilon, decay_rate, env, max_steps, Qtable):\n",
        "  for episode in tqdm(range(n_training_episodes)):\n",
        "    # Reduce epsilon (because we need less and less exploration)\n",
        "    epsilon = min_epsilon + (max_epsilon - min_epsilon)*np.exp(-decay_rate*episode)\n",
        "    # Reset the environment\n",
        "    state, info = env.reset()\n",
        "    step = 0\n",
        "    terminated = False\n",
        "    truncated = False\n",
        "\n",
        "    # repeat\n",
        "    for step in range(max_steps):\n",
        "      # Choose the action At using epsilon greedy policy\n",
        "      action = epsilon_greedy_policy(Qtable, state, epsilon)\n",
        "\n",
        "      # Take action At and observe Rt+1 and St+1\n",
        "      # Take the action (a) and observe the outcome state(s') and reward (r)\n",
        "      new_state, reward, terminated, truncated, info = env.step(action)\n",
        "\n",
        "      # Update Q(s,a):= Q(s,a) + lr [R(s,a) + gamma * max Q(s',a') - Q(s,a)]\n",
        "      Qtable[state][action] = Qtable[state][action] + learning_rate*(reward + gamma*np.max(Qtable[new_state]) - Qtable[state][action])\n",
        "\n",
        "      # If terminated or truncated finish the episode\n",
        "      if terminated or truncated:\n",
        "        break\n",
        "\n",
        "      # Our next state is the new state\n",
        "      state = new_state\n",
        "  return Qtable"
      ]
    },
    {
      "cell_type": "markdown",
      "metadata": {
        "id": "Pnpk2ePoem3r"
      },
      "source": [
        "#### Solution"
      ]
    },
    {
      "cell_type": "code",
      "execution_count": null,
      "metadata": {
        "id": "IyZaYbUAeolw"
      },
      "outputs": [],
      "source": [
        "def train(n_training_episodes, min_epsilon, max_epsilon, decay_rate, env, max_steps, Qtable):\n",
        "  for episode in tqdm(range(n_training_episodes)):\n",
        "    # Reduce epsilon (because we need less and less exploration)\n",
        "    epsilon = min_epsilon + (max_epsilon - min_epsilon)*np.exp(-decay_rate*episode)\n",
        "    # Reset the environment\n",
        "    state, info = env.reset()\n",
        "    step = 0\n",
        "    terminated = False\n",
        "    truncated = False\n",
        "\n",
        "    # repeat\n",
        "    for step in range(max_steps):\n",
        "      # Choose the action At using epsilon greedy policy\n",
        "      action = epsilon_greedy_policy(Qtable, state, epsilon)\n",
        "\n",
        "      # Take action At and observe Rt+1 and St+1\n",
        "      # Take the action (a) and observe the outcome state(s') and reward (r)\n",
        "      new_state, reward, terminated, truncated, info = env.step(action)\n",
        "\n",
        "      # Update Q(s,a):= Q(s,a) + lr [R(s,a) + gamma * max Q(s',a') - Q(s,a)]\n",
        "      Qtable[state][action] = Qtable[state][action] + learning_rate * (reward + gamma * np.max(Qtable[new_state]) - Qtable[state][action])\n",
        "\n",
        "      # If terminated or truncated finish the episode\n",
        "      if terminated or truncated:\n",
        "        break\n",
        "\n",
        "      # Our next state is the new state\n",
        "      state = new_state\n",
        "  return Qtable"
      ]
    },
    {
      "cell_type": "markdown",
      "metadata": {
        "id": "WLwKQ4tUdhGI"
      },
      "source": [
        "## Train the Q-Learning agent 🏃"
      ]
    },
    {
      "cell_type": "code",
      "execution_count": 17,
      "metadata": {
        "id": "DPBxfjJdTCOH"
      },
      "outputs": [
        {
          "data": {
            "application/vnd.jupyter.widget-view+json": {
              "model_id": "21ae9b640191494fa8105b8a41404fa3",
              "version_major": 2,
              "version_minor": 0
            },
            "text/plain": [
              "  0%|          | 0/10000 [00:00<?, ?it/s]"
            ]
          },
          "metadata": {},
          "output_type": "display_data"
        }
      ],
      "source": [
        "Qtable_frozenlake = train(n_training_episodes, min_epsilon, max_epsilon, decay_rate, env, max_steps, Qtable_frozenlake)"
      ]
    },
    {
      "cell_type": "markdown",
      "metadata": {
        "id": "yVeEhUCrc30L"
      },
      "source": [
        "## Let's see what our Q-Learning table looks like now 👀"
      ]
    },
    {
      "cell_type": "code",
      "execution_count": 18,
      "metadata": {
        "id": "nmfchsTITw4q"
      },
      "outputs": [
        {
          "data": {
            "text/plain": [
              "array([[0.73509189, 0.77378094, 0.77378094, 0.73509189],\n",
              "       [0.73509189, 0.        , 0.81450625, 0.77378094],\n",
              "       [0.77378094, 0.857375  , 0.77378094, 0.81450625],\n",
              "       [0.81450625, 0.        , 0.77378094, 0.77378094],\n",
              "       [0.77378094, 0.81450625, 0.        , 0.73509189],\n",
              "       [0.        , 0.        , 0.        , 0.        ],\n",
              "       [0.        , 0.9025    , 0.        , 0.81450625],\n",
              "       [0.        , 0.        , 0.        , 0.        ],\n",
              "       [0.81450625, 0.        , 0.857375  , 0.77378094],\n",
              "       [0.81450625, 0.9025    , 0.9025    , 0.        ],\n",
              "       [0.857375  , 0.95      , 0.        , 0.857375  ],\n",
              "       [0.        , 0.        , 0.        , 0.        ],\n",
              "       [0.        , 0.        , 0.        , 0.        ],\n",
              "       [0.        , 0.9025    , 0.95      , 0.857375  ],\n",
              "       [0.9025    , 0.95      , 1.        , 0.9025    ],\n",
              "       [0.        , 0.        , 0.        , 0.        ]])"
            ]
          },
          "execution_count": 18,
          "metadata": {},
          "output_type": "execute_result"
        }
      ],
      "source": [
        "Qtable_frozenlake"
      ]
    },
    {
      "cell_type": "markdown",
      "metadata": {
        "id": "pUrWkxsHccXD"
      },
      "source": [
        "## The evaluation method 📝\n",
        "\n",
        "- We defined the evaluation method that we're going to use to test our Q-Learning agent."
      ]
    },
    {
      "cell_type": "code",
      "execution_count": 19,
      "metadata": {
        "id": "jNl0_JO2cbkm"
      },
      "outputs": [],
      "source": [
        "def evaluate_agent(env, max_steps, n_eval_episodes, Q, seed):\n",
        "  \"\"\"\n",
        "  Evaluate the agent for ``n_eval_episodes`` episodes and returns average reward and std of reward.\n",
        "  :param env: The evaluation environment\n",
        "  :param max_steps: Maximum number of steps per episode\n",
        "  :param n_eval_episodes: Number of episode to evaluate the agent\n",
        "  :param Q: The Q-table\n",
        "  :param seed: The evaluation seed array (for taxi-v3)\n",
        "  \"\"\"\n",
        "  episode_rewards = []\n",
        "  for episode in tqdm(range(n_eval_episodes)):\n",
        "    if seed:\n",
        "      state, info = env.reset(seed=seed[episode])\n",
        "    else:\n",
        "      state, info = env.reset()\n",
        "    step = 0\n",
        "    truncated = False\n",
        "    terminated = False\n",
        "    total_rewards_ep = 0\n",
        "\n",
        "    for step in range(max_steps):\n",
        "      # Take the action (index) that have the maximum expected future reward given that state\n",
        "      action = greedy_policy(Q, state)\n",
        "      new_state, reward, terminated, truncated, info = env.step(action)\n",
        "      total_rewards_ep += reward\n",
        "\n",
        "      if terminated or truncated:\n",
        "        break\n",
        "      state = new_state\n",
        "    episode_rewards.append(total_rewards_ep)\n",
        "  mean_reward = np.mean(episode_rewards)\n",
        "  std_reward = np.std(episode_rewards)\n",
        "\n",
        "  return mean_reward, std_reward"
      ]
    },
    {
      "cell_type": "markdown",
      "metadata": {
        "id": "0jJqjaoAnxUo"
      },
      "source": [
        "## Evaluate our Q-Learning agent 📈\n",
        "\n",
        "- Usually, you should have a mean reward of 1.0\n",
        "- The **environment is relatively easy** since the state space is really small (16). What you can try to do is [to replace it with the slippery version](https://gymnasium.farama.org/environments/toy_text/frozen_lake/), which introduces stochasticity, making the environment more complex."
      ]
    },
    {
      "cell_type": "code",
      "execution_count": 20,
      "metadata": {
        "id": "fAgB7s0HEFMm"
      },
      "outputs": [
        {
          "data": {
            "application/vnd.jupyter.widget-view+json": {
              "model_id": "fe9ba5ec220346e483c400d50eb51c0a",
              "version_major": 2,
              "version_minor": 0
            },
            "text/plain": [
              "  0%|          | 0/100 [00:00<?, ?it/s]"
            ]
          },
          "metadata": {},
          "output_type": "display_data"
        },
        {
          "name": "stdout",
          "output_type": "stream",
          "text": [
            "Mean_reward=1.00 +/- 0.00\n"
          ]
        }
      ],
      "source": [
        "# Evaluate our Agent\n",
        "mean_reward, std_reward = evaluate_agent(env, max_steps, n_eval_episodes, Qtable_frozenlake, eval_seed)\n",
        "print(f\"Mean_reward={mean_reward:.2f} +/- {std_reward:.2f}\")"
      ]
    },
    {
      "cell_type": "code",
      "execution_count": 29,
      "metadata": {},
      "outputs": [
        {
          "data": {
            "text/html": [
              "<table class=\"show_videos\" style=\"border-spacing:0px;\"><tr><td style=\"padding:1px;\"><video controls width=\"256\" height=\"256\" style=\"object-fit:cover;\" loop autoplay muted>\n",
              "      <source src=\"data:video/mp4;base64,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\" type=\"video/mp4\"/>\n",
              "      This browser does not support the video tag.\n",
              "      </video></td></tr></table>"
            ],
            "text/plain": [
              "<IPython.core.display.HTML object>"
            ]
          },
          "metadata": {},
          "output_type": "display_data"
        }
      ],
      "source": [
        "import mediapy as media\n",
        "\n",
        "frames = []\n",
        "terminated = False\n",
        "truncated = False\n",
        "state, info = env.reset(seed=random.randint(0,500))\n",
        "img = env.render()\n",
        "frames.append(img)\n",
        "while not terminated or truncated:\n",
        "  # Take the action (index) that have the maximum expected future reward given that state\n",
        "  action = np.argmax(Qtable_frozenlake[state][:])\n",
        "  state, reward, terminated, truncated, info = env.step(action) # We directly put next_state = state for recording logic\n",
        "  img = env.render()\n",
        "  frames.append(img)\n",
        "media.show_video(frames, fps=2)"
      ]
    },
    {
      "cell_type": "markdown",
      "metadata": {
        "id": "GyWc1x3-o3xG"
      },
      "source": [
        "If you don't want to use a Google Colab or a Jupyter Notebook, you need to use this command instead: `huggingface-cli login` (or `login`)"
      ]
    },
    {
      "cell_type": "markdown",
      "metadata": {
        "id": "Gc5AfUeFo3xH"
      },
      "source": [
        "3️⃣ We're now ready to push our trained agent to the 🤗 Hub 🔥 using `push_to_hub()` function\n",
        "\n",
        "- Let's create **the model dictionary that contains the hyperparameters and the Q_table**."
      ]
    },
    {
      "cell_type": "markdown",
      "metadata": {
        "id": "E2875IGsprzq"
      },
      "source": [
        "Congrats 🥳 you've just implemented from scratch, trained, and uploaded your first Reinforcement Learning agent.\n",
        "FrozenLake-v1 no_slippery is very simple environment, let's try a harder one 🔥."
      ]
    },
    {
      "cell_type": "markdown",
      "metadata": {
        "id": "18lN8Bz7yvLt"
      },
      "source": [
        "# Part 2: Taxi-v3 🚖\n",
        "\n",
        "## Create and understand [Taxi-v3 🚕](https://gymnasium.farama.org/environments/toy_text/taxi/)\n",
        "---\n",
        "\n",
        "💡 A good habit when you start to use an environment is to check its documentation\n",
        "\n",
        "👉 https://gymnasium.farama.org/environments/toy_text/taxi/\n",
        "\n",
        "---\n",
        "\n",
        "In `Taxi-v3` 🚕, there are four designated locations in the grid world indicated by R(ed), G(reen), Y(ellow), and B(lue).\n",
        "\n",
        "When the episode starts, **the taxi starts off at a random square** and the passenger is at a random location. The taxi drives to the passenger’s location, **picks up the passenger**, drives to the passenger’s destination (another one of the four specified locations), and then **drops off the passenger**. Once the passenger is dropped off, the episode ends.\n",
        "\n",
        "\n",
        "<img src=\"https://huggingface.co/datasets/huggingface-deep-rl-course/course-images/resolve/main/en/notebooks/unit2/taxi.png\" alt=\"Taxi\">\n"
      ]
    },
    {
      "cell_type": "code",
      "execution_count": 30,
      "metadata": {
        "id": "gL0wpeO8gpej"
      },
      "outputs": [],
      "source": [
        "env = gym.make(\"Taxi-v3\", render_mode=\"rgb_array\")"
      ]
    },
    {
      "cell_type": "markdown",
      "metadata": {
        "id": "gBOaXgtsrmtT"
      },
      "source": [
        "There are **500 discrete states since there are 25 taxi positions, 5 possible locations of the passenger** (including the case when the passenger is in the taxi), and **4 destination locations.**\n"
      ]
    },
    {
      "cell_type": "code",
      "execution_count": 31,
      "metadata": {
        "id": "_TPNaGSZrgqA"
      },
      "outputs": [
        {
          "name": "stdout",
          "output_type": "stream",
          "text": [
            "There are  500  possible states\n"
          ]
        }
      ],
      "source": [
        "state_space = env.observation_space.n\n",
        "print(\"There are \", state_space, \" possible states\")"
      ]
    },
    {
      "cell_type": "code",
      "execution_count": 32,
      "metadata": {
        "id": "CdeeZuokrhit"
      },
      "outputs": [
        {
          "name": "stdout",
          "output_type": "stream",
          "text": [
            "There are  6  possible actions\n"
          ]
        }
      ],
      "source": [
        "action_space = env.action_space.n\n",
        "print(\"There are \", action_space, \" possible actions\")"
      ]
    },
    {
      "cell_type": "markdown",
      "metadata": {
        "id": "R1r50Advrh5Q"
      },
      "source": [
        "The action space (the set of possible actions the agent can take) is discrete with **6 actions available 🎮**:\n",
        "\n",
        "- 0: move south\n",
        "- 1: move north\n",
        "- 2: move east\n",
        "- 3: move west\n",
        "- 4: pickup passenger\n",
        "- 5: drop off passenger\n",
        "\n",
        "Reward function 💰:\n",
        "\n",
        "- -1 per step unless other reward is triggered.\n",
        "- +20 delivering passenger.\n",
        "- -10 executing “pickup” and “drop-off” actions illegally."
      ]
    },
    {
      "cell_type": "code",
      "execution_count": 33,
      "metadata": {
        "id": "US3yDXnEtY9I"
      },
      "outputs": [
        {
          "name": "stdout",
          "output_type": "stream",
          "text": [
            "[[0. 0. 0. 0. 0. 0.]\n",
            " [0. 0. 0. 0. 0. 0.]\n",
            " [0. 0. 0. 0. 0. 0.]\n",
            " ...\n",
            " [0. 0. 0. 0. 0. 0.]\n",
            " [0. 0. 0. 0. 0. 0.]\n",
            " [0. 0. 0. 0. 0. 0.]]\n",
            "Q-table shape:  (500, 6)\n"
          ]
        }
      ],
      "source": [
        "# Create our Q table with state_size rows and action_size columns (500x6)\n",
        "Qtable_taxi = initialize_q_table(state_space, action_space)\n",
        "print(Qtable_taxi)\n",
        "print(\"Q-table shape: \", Qtable_taxi .shape)"
      ]
    },
    {
      "cell_type": "markdown",
      "metadata": {
        "id": "gUMKPH0_LJyH"
      },
      "source": [
        "## Define the hyperparameters ⚙️\n",
        "\n",
        "⚠ DO NOT MODIFY EVAL_SEED: the eval_seed array **allows us to evaluate your agent with the same taxi starting positions for every classmate**"
      ]
    },
    {
      "cell_type": "code",
      "execution_count": 34,
      "metadata": {
        "id": "AB6n__hhg7YS"
      },
      "outputs": [],
      "source": [
        "# Training parameters\n",
        "n_training_episodes = 25000   # Total training episodes\n",
        "learning_rate = 0.7           # Learning rate\n",
        "\n",
        "# Evaluation parameters\n",
        "n_eval_episodes = 100        # Total number of test episodes\n",
        "\n",
        "# DO NOT MODIFY EVAL_SEED\n",
        "eval_seed = [16,54,165,177,191,191,120,80,149,178,48,38,6,125,174,73,50,172,100,148,146,6,25,40,68,148,49,167,9,97,164,176,61,7,54,55,\n",
        " 161,131,184,51,170,12,120,113,95,126,51,98,36,135,54,82,45,95,89,59,95,124,9,113,58,85,51,134,121,169,105,21,30,11,50,65,12,43,82,145,152,97,106,55,31,85,38,\n",
        " 112,102,168,123,97,21,83,158,26,80,63,5,81,32,11,28,148] # Evaluation seed, this ensures that all classmates agents are trained on the same taxi starting position\n",
        "                                                          # Each seed has a specific starting state\n",
        "\n",
        "# Environment parameters\n",
        "env_id = \"Taxi-v3\"           # Name of the environment\n",
        "max_steps = 99               # Max steps per episode\n",
        "gamma = 0.95                 # Discounting rate\n",
        "\n",
        "# Exploration parameters\n",
        "max_epsilon = 1.0             # Exploration probability at start\n",
        "min_epsilon = 0.05           # Minimum exploration probability\n",
        "decay_rate = 0.005            # Exponential decay rate for exploration prob\n"
      ]
    },
    {
      "cell_type": "markdown",
      "metadata": {
        "id": "1TMORo1VLTsX"
      },
      "source": [
        "## Train our Q-Learning agent 🏃"
      ]
    },
    {
      "cell_type": "code",
      "execution_count": 35,
      "metadata": {
        "id": "WwP3Y2z2eS-K"
      },
      "outputs": [
        {
          "data": {
            "application/vnd.jupyter.widget-view+json": {
              "model_id": "d07f515ffd3a471d912133718c3664a7",
              "version_major": 2,
              "version_minor": 0
            },
            "text/plain": [
              "  0%|          | 0/25000 [00:00<?, ?it/s]"
            ]
          },
          "metadata": {},
          "output_type": "display_data"
        },
        {
          "data": {
            "text/plain": [
              "array([[  0.        ,   0.        ,   0.        ,   0.        ,\n",
              "          0.        ,   0.        ],\n",
              "       [  2.75200369,   3.94947757,   2.75200368,   3.94947753,\n",
              "          5.20997639,  -5.05052254],\n",
              "       [  7.93349183,   9.40367562,   7.93349167,   9.40367562,\n",
              "         10.9512375 ,   0.40367562],\n",
              "       ...,\n",
              "       [ -3.26342599,   5.6557742 ,  -3.26342599,   9.40367562,\n",
              "         -7.        , -11.90096381],\n",
              "       [ -3.84920608,   3.44476792,  -3.84920608,   6.53681725,\n",
              "         -7.        ,  -6.01604966],\n",
              "       [ 11.06      ,  -0.91      ,  14.55888015,  18.        ,\n",
              "          4.94088015,   5.831     ]])"
            ]
          },
          "execution_count": 35,
          "metadata": {},
          "output_type": "execute_result"
        }
      ],
      "source": [
        "Qtable_taxi = train(n_training_episodes, min_epsilon, max_epsilon, decay_rate, env, max_steps, Qtable_taxi)\n",
        "Qtable_taxi"
      ]
    },
    {
      "cell_type": "markdown",
      "metadata": {
        "id": "wPdu0SueLVl2"
      },
      "source": [
        "## Create a model dictionary 💾 and publish our trained model to the Hub 🔥\n",
        "\n",
        "- We create a model dictionary that will contain all the training hyperparameters for reproducibility and the Q-Table.\n"
      ]
    },
    {
      "cell_type": "code",
      "execution_count": null,
      "metadata": {
        "id": "0a1FpE_3hNYr"
      },
      "outputs": [],
      "source": [
        "model = {\n",
        "    \"env_id\": env_id,\n",
        "    \"max_steps\": max_steps,\n",
        "    \"n_training_episodes\": n_training_episodes,\n",
        "    \"n_eval_episodes\": n_eval_episodes,\n",
        "    \"eval_seed\": eval_seed,\n",
        "\n",
        "    \"learning_rate\": learning_rate,\n",
        "    \"gamma\": gamma,\n",
        "\n",
        "    \"max_epsilon\": max_epsilon,\n",
        "    \"min_epsilon\": min_epsilon,\n",
        "    \"decay_rate\": decay_rate,\n",
        "\n",
        "    \"qtable\": Qtable_taxi\n",
        "}"
      ]
    },
    {
      "cell_type": "code",
      "execution_count": null,
      "metadata": {
        "id": "dhQtiQozhOn1"
      },
      "outputs": [],
      "source": [
        "username = \"\" # FILL THIS\n",
        "repo_name = \"\" # FILL THIS\n",
        "push_to_hub(\n",
        "    repo_id=f\"{username}/{repo_name}\",\n",
        "    model=model,\n",
        "    env=env)"
      ]
    },
    {
      "cell_type": "markdown",
      "metadata": {
        "id": "ZgSdjgbIpRti"
      },
      "source": [
        "Now that it's on the Hub, you can compare the results of your Taxi-v3 with your classmates using the leaderboard 🏆 👉 https://huggingface.co/spaces/huggingface-projects/Deep-Reinforcement-Learning-Leaderboard\n",
        "\n",
        "\n",
        "<img src=\"https://huggingface.co/datasets/huggingface-deep-rl-course/course-images/resolve/main/en/notebooks/unit2/taxi-leaderboard.png\" alt=\"Taxi Leaderboard\">"
      ]
    },
    {
      "cell_type": "markdown",
      "metadata": {
        "id": "bzgIO70c0bu2"
      },
      "source": [
        "# Part 3: Load from Hub 🔽\n",
        "\n",
        "What's amazing with Hugging Face Hub 🤗 is that you can easily load powerful models from the community.\n",
        "\n",
        "Loading a saved model from the Hub is really easy:\n",
        "\n",
        "1. You go https://huggingface.co/models?other=q-learning to see the list of all the q-learning saved models.\n",
        "2. You select one and copy its repo_id\n",
        "\n",
        "<img src=\"https://huggingface.co/datasets/huggingface-deep-rl-course/course-images/resolve/main/en/notebooks/unit2/copy-id.png\" alt=\"Copy id\">"
      ]
    },
    {
      "cell_type": "markdown",
      "metadata": {
        "id": "gTth6thRoC6X"
      },
      "source": [
        "3. Then we just need to use `load_from_hub` with:\n",
        "- The repo_id\n",
        "- The filename: the saved model inside the repo."
      ]
    },
    {
      "cell_type": "markdown",
      "metadata": {
        "id": "EtrfoTaBoNrd"
      },
      "source": [
        "#### Do not modify this code"
      ]
    },
    {
      "cell_type": "code",
      "execution_count": null,
      "metadata": {
        "id": "Eo8qEzNtCaVI"
      },
      "outputs": [],
      "source": [
        "from urllib.error import HTTPError\n",
        "\n",
        "from huggingface_hub import hf_hub_download\n",
        "\n",
        "\n",
        "def load_from_hub(repo_id: str, filename: str) -> str:\n",
        "    \"\"\"\n",
        "    Download a model from Hugging Face Hub.\n",
        "    :param repo_id: id of the model repository from the Hugging Face Hub\n",
        "    :param filename: name of the model zip file from the repository\n",
        "    \"\"\"\n",
        "    # Get the model from the Hub, download and cache the model on your local disk\n",
        "    pickle_model = hf_hub_download(\n",
        "        repo_id=repo_id,\n",
        "        filename=filename\n",
        "    )\n",
        "\n",
        "    with open(pickle_model, 'rb') as f:\n",
        "      downloaded_model_file = pickle.load(f)\n",
        "\n",
        "    return downloaded_model_file"
      ]
    },
    {
      "cell_type": "markdown",
      "metadata": {
        "id": "b_sM2gNioPZH"
      },
      "source": [
        "### ."
      ]
    },
    {
      "cell_type": "code",
      "execution_count": null,
      "metadata": {
        "id": "JUm9lz2gCQcU"
      },
      "outputs": [],
      "source": [
        "model = load_from_hub(repo_id=\"ThomasSimonini/q-Taxi-v3\", filename=\"q-learning.pkl\") # Try to use another model\n",
        "\n",
        "print(model)\n",
        "env = gym.make(model[\"env_id\"])\n",
        "\n",
        "evaluate_agent(env, model[\"max_steps\"], model[\"n_eval_episodes\"], model[\"qtable\"], model[\"eval_seed\"])"
      ]
    },
    {
      "cell_type": "code",
      "execution_count": null,
      "metadata": {
        "id": "O7pL8rg1MulN"
      },
      "outputs": [],
      "source": [
        "model = load_from_hub(repo_id=\"ThomasSimonini/q-FrozenLake-v1-no-slippery\", filename=\"q-learning.pkl\") # Try to use another model\n",
        "\n",
        "env = gym.make(model[\"env_id\"], is_slippery=False)\n",
        "\n",
        "evaluate_agent(env, model[\"max_steps\"], model[\"n_eval_episodes\"], model[\"qtable\"], model[\"eval_seed\"])"
      ]
    },
    {
      "cell_type": "markdown",
      "metadata": {
        "id": "BQAwLnYFPk-s"
      },
      "source": [
        "## Some additional challenges 🏆\n",
        "\n",
        "The best way to learn **is to try things on your own**! As you saw, the current agent is not doing great. As a first suggestion, you can train for more steps. With 1,000,000 steps, we saw some great results!\n",
        "\n",
        "In the [Leaderboard](https://huggingface.co/spaces/huggingface-projects/Deep-Reinforcement-Learning-Leaderboard) you will find your agents. Can you get to the top?\n",
        "\n",
        "Here are some ideas to climb up the leaderboard:\n",
        "\n",
        "* Train more steps\n",
        "* Try different hyperparameters by looking at what your classmates have done.\n",
        "* **Push your new trained model** on the Hub 🔥\n",
        "\n",
        "Are walking on ice and driving taxis too boring to you? Try to **change the environment**, why not use FrozenLake-v1 slippery version? Check how they work [using the gymnasium documentation](https://gymnasium.farama.org/) and have fun 🎉."
      ]
    },
    {
      "cell_type": "markdown",
      "metadata": {
        "id": "p-fW-EU5WejJ"
      },
      "source": [
        "_____________________________________________________________________\n",
        "Congrats 🥳, you've just implemented, trained, and uploaded your first Reinforcement Learning agent.\n",
        "\n",
        "Understanding Q-Learning is an **important step to understanding value-based methods.**\n",
        "\n",
        "In the next Unit with Deep Q-Learning, we'll see that while creating and updating a Q-table was a good strategy — **however, it is not scalable.**\n",
        "\n",
        "For instance, imagine you create an agent that learns to play Doom.\n",
        "\n",
        "<img src=\"https://vizdoom.cs.put.edu.pl/user/pages/01.tutorial/basic.png\" alt=\"Doom\"/>\n",
        "\n",
        "Doom is a large environment with a huge state space (millions of different states). Creating and updating a Q-table for that environment would not be efficient.\n",
        "\n",
        "That's why we'll study Deep Q-Learning in the next unit, an algorithm **where we use a neural network that approximates, given a state, the different Q-values for each action.**\n",
        "\n",
        "<img src=\"https://huggingface.co/datasets/huggingface-deep-rl-course/course-images/resolve/main/en/unit4/atari-envs.gif\" alt=\"Environments\"/>\n"
      ]
    },
    {
      "cell_type": "markdown",
      "metadata": {
        "id": "BjLhT70TEZIn"
      },
      "source": [
        "See you in Unit 3! 🔥\n",
        "\n",
        "## Keep learning, stay awesome 🤗"
      ]
    }
  ],
  "metadata": {
    "colab": {
      "collapsed_sections": [
        "67OdoKL63eDD",
        "B2_-8b8z5k54",
        "8R5ej1fS4P2V",
        "Pnpk2ePoem3r"
      ],
      "private_outputs": true,
      "provenance": []
    },
    "gpuClass": "standard",
    "kernelspec": {
      "display_name": "rl_learning",
      "language": "python",
      "name": "python3"
    },
    "language_info": {
      "codemirror_mode": {
        "name": "ipython",
        "version": 3
      },
      "file_extension": ".py",
      "mimetype": "text/x-python",
      "name": "python",
      "nbconvert_exporter": "python",
      "pygments_lexer": "ipython3",
      "version": "3.12.7"
    }
  },
  "nbformat": 4,
  "nbformat_minor": 0
}
