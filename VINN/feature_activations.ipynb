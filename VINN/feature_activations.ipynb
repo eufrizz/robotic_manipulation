{
 "cells": [
  {
   "cell_type": "code",
   "execution_count": null,
   "metadata": {},
   "outputs": [],
   "source": [
    "# Load dataset and model if not continuing from before\n",
    "import torch\n",
    "import torchvision\n",
    "\n",
    "from datasets import load_from_disk\n",
    "from tqdm import tqdm\n",
    "import datetime\n",
    "from pathlib import Path\n",
    "import time\n",
    "\n",
    "\n",
    "dataset_path = \"../datasets/byol/grasp_100_2024-09-06_17-03-47.hf\"\n",
    "dataset_name = Path(dataset_path).stem\n",
    "dataset = load_from_disk(dataset_path)\n",
    "dataset.set_format(\"torch\")\n",
    "\n",
    "checkpoint = torch.load(\"../VINN/ckpts/resnet_byol_grasp_100_2024-09-06_17-03-47_2024-10-12_21-08/epoch_10.pt\")\n",
    "device = torch.device(\"cuda\") if torch.cuda.is_available() else torch.device(\"mps\")\n",
    "\n",
    "# Remove the fc/classification layer\n",
    "resnet = torchvision.models.resnet18()\n",
    "modules = list(resnet.children())[:-1]\n",
    "backbone = torch.nn.Sequential(*modules)\n",
    "net = backbone\n",
    "net.load_state_dict(checkpoint[\"policy_state_dict\"])\n",
    "net = net.to(device)\n"
   ]
  },
  {
   "cell_type": "code",
   "execution_count": null,
   "metadata": {},
   "outputs": [],
   "source": [
    "import gym_lite6.env, gym_lite6.pickup_task, gym_lite6.utils\n",
    "import gymnasium as gym\n",
    "import numpy as np\n",
    "import mediapy as media\n",
    "\n",
    "\n",
    "task = gym_lite6.pickup_task.GraspAndLiftTask('gripper_left_finger', 'gripper_right_finger', 'box', 'floor')\n",
    "env = gym.make(\n",
    "    \"UfactoryCubePickup-v0\",\n",
    "    task=task,\n",
    "    obs_type=\"pixels_state\",\n",
    "    max_episode_steps=300,\n",
    ")\n",
    "observation, info = env.reset()\n",
    "media.show_image(env.render(), width=400)\n"
   ]
  }
 ],
 "metadata": {
  "kernelspec": {
   "display_name": "lerobot_venv",
   "language": "python",
   "name": "python3"
  },
  "language_info": {
   "name": "python",
   "version": "3.10.12"
  }
 },
 "nbformat": 4,
 "nbformat_minor": 2
}
